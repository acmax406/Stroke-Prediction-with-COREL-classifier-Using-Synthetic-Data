{
  "nbformat": 4,
  "nbformat_minor": 0,
  "metadata": {
    "colab": {
      "provenance": []
    },
    "kernelspec": {
      "name": "python3",
      "display_name": "Python 3"
    },
    "language_info": {
      "name": "python"
    }
  },
  "cells": [
    {
      "cell_type": "code",
      "execution_count": null,
      "metadata": {
        "id": "TfFAjD079Re3"
      },
      "outputs": [],
      "source": [
        "import pandas as pd\n",
        "import numpy as np"
      ]
    },
    {
      "cell_type": "markdown",
      "source": [
        "loading the dataset"
      ],
      "metadata": {
        "id": "rfM1oKUNGx5j"
      }
    },
    {
      "cell_type": "code",
      "source": [
        "orig_data = pd.read_csv(\"/content/drive/MyDrive/Colab Notebooks/healthcare-dataset-stroke-data.csv\")\n",
        "orig_data = orig_data.drop(\"id\", axis = 1)\n",
        "orig_data = orig_data.dropna()\n",
        "orig_data.head()"
      ],
      "metadata": {
        "colab": {
          "base_uri": "https://localhost:8080/",
          "height": 206
        },
        "id": "cEyq4jES91AL",
        "outputId": "d1cea988-320b-4d57-f9f4-e109be1e924c"
      },
      "execution_count": null,
      "outputs": [
        {
          "output_type": "execute_result",
          "data": {
            "text/plain": [
              "   gender   age  hypertension  heart_disease ever_married      work_type  \\\n",
              "0    Male  67.0             0              1          Yes        Private   \n",
              "2    Male  80.0             0              1          Yes        Private   \n",
              "3  Female  49.0             0              0          Yes        Private   \n",
              "4  Female  79.0             1              0          Yes  Self-employed   \n",
              "5    Male  81.0             0              0          Yes        Private   \n",
              "\n",
              "  Residence_type  avg_glucose_level   bmi   smoking_status  stroke  \n",
              "0          Urban             228.69  36.6  formerly smoked       1  \n",
              "2          Rural             105.92  32.5     never smoked       1  \n",
              "3          Urban             171.23  34.4           smokes       1  \n",
              "4          Rural             174.12  24.0     never smoked       1  \n",
              "5          Urban             186.21  29.0  formerly smoked       1  "
            ],
            "text/html": [
              "\n",
              "\n",
              "  <div id=\"df-527ff22e-6aa5-40bc-8df8-11b7a26ebeb2\">\n",
              "    <div class=\"colab-df-container\">\n",
              "      <div>\n",
              "<style scoped>\n",
              "    .dataframe tbody tr th:only-of-type {\n",
              "        vertical-align: middle;\n",
              "    }\n",
              "\n",
              "    .dataframe tbody tr th {\n",
              "        vertical-align: top;\n",
              "    }\n",
              "\n",
              "    .dataframe thead th {\n",
              "        text-align: right;\n",
              "    }\n",
              "</style>\n",
              "<table border=\"1\" class=\"dataframe\">\n",
              "  <thead>\n",
              "    <tr style=\"text-align: right;\">\n",
              "      <th></th>\n",
              "      <th>gender</th>\n",
              "      <th>age</th>\n",
              "      <th>hypertension</th>\n",
              "      <th>heart_disease</th>\n",
              "      <th>ever_married</th>\n",
              "      <th>work_type</th>\n",
              "      <th>Residence_type</th>\n",
              "      <th>avg_glucose_level</th>\n",
              "      <th>bmi</th>\n",
              "      <th>smoking_status</th>\n",
              "      <th>stroke</th>\n",
              "    </tr>\n",
              "  </thead>\n",
              "  <tbody>\n",
              "    <tr>\n",
              "      <th>0</th>\n",
              "      <td>Male</td>\n",
              "      <td>67.0</td>\n",
              "      <td>0</td>\n",
              "      <td>1</td>\n",
              "      <td>Yes</td>\n",
              "      <td>Private</td>\n",
              "      <td>Urban</td>\n",
              "      <td>228.69</td>\n",
              "      <td>36.6</td>\n",
              "      <td>formerly smoked</td>\n",
              "      <td>1</td>\n",
              "    </tr>\n",
              "    <tr>\n",
              "      <th>2</th>\n",
              "      <td>Male</td>\n",
              "      <td>80.0</td>\n",
              "      <td>0</td>\n",
              "      <td>1</td>\n",
              "      <td>Yes</td>\n",
              "      <td>Private</td>\n",
              "      <td>Rural</td>\n",
              "      <td>105.92</td>\n",
              "      <td>32.5</td>\n",
              "      <td>never smoked</td>\n",
              "      <td>1</td>\n",
              "    </tr>\n",
              "    <tr>\n",
              "      <th>3</th>\n",
              "      <td>Female</td>\n",
              "      <td>49.0</td>\n",
              "      <td>0</td>\n",
              "      <td>0</td>\n",
              "      <td>Yes</td>\n",
              "      <td>Private</td>\n",
              "      <td>Urban</td>\n",
              "      <td>171.23</td>\n",
              "      <td>34.4</td>\n",
              "      <td>smokes</td>\n",
              "      <td>1</td>\n",
              "    </tr>\n",
              "    <tr>\n",
              "      <th>4</th>\n",
              "      <td>Female</td>\n",
              "      <td>79.0</td>\n",
              "      <td>1</td>\n",
              "      <td>0</td>\n",
              "      <td>Yes</td>\n",
              "      <td>Self-employed</td>\n",
              "      <td>Rural</td>\n",
              "      <td>174.12</td>\n",
              "      <td>24.0</td>\n",
              "      <td>never smoked</td>\n",
              "      <td>1</td>\n",
              "    </tr>\n",
              "    <tr>\n",
              "      <th>5</th>\n",
              "      <td>Male</td>\n",
              "      <td>81.0</td>\n",
              "      <td>0</td>\n",
              "      <td>0</td>\n",
              "      <td>Yes</td>\n",
              "      <td>Private</td>\n",
              "      <td>Urban</td>\n",
              "      <td>186.21</td>\n",
              "      <td>29.0</td>\n",
              "      <td>formerly smoked</td>\n",
              "      <td>1</td>\n",
              "    </tr>\n",
              "  </tbody>\n",
              "</table>\n",
              "</div>\n",
              "      <button class=\"colab-df-convert\" onclick=\"convertToInteractive('df-527ff22e-6aa5-40bc-8df8-11b7a26ebeb2')\"\n",
              "              title=\"Convert this dataframe to an interactive table.\"\n",
              "              style=\"display:none;\">\n",
              "\n",
              "  <svg xmlns=\"http://www.w3.org/2000/svg\" height=\"24px\"viewBox=\"0 0 24 24\"\n",
              "       width=\"24px\">\n",
              "    <path d=\"M0 0h24v24H0V0z\" fill=\"none\"/>\n",
              "    <path d=\"M18.56 5.44l.94 2.06.94-2.06 2.06-.94-2.06-.94-.94-2.06-.94 2.06-2.06.94zm-11 1L8.5 8.5l.94-2.06 2.06-.94-2.06-.94L8.5 2.5l-.94 2.06-2.06.94zm10 10l.94 2.06.94-2.06 2.06-.94-2.06-.94-.94-2.06-.94 2.06-2.06.94z\"/><path d=\"M17.41 7.96l-1.37-1.37c-.4-.4-.92-.59-1.43-.59-.52 0-1.04.2-1.43.59L10.3 9.45l-7.72 7.72c-.78.78-.78 2.05 0 2.83L4 21.41c.39.39.9.59 1.41.59.51 0 1.02-.2 1.41-.59l7.78-7.78 2.81-2.81c.8-.78.8-2.07 0-2.86zM5.41 20L4 18.59l7.72-7.72 1.47 1.35L5.41 20z\"/>\n",
              "  </svg>\n",
              "      </button>\n",
              "\n",
              "\n",
              "\n",
              "    <div id=\"df-18e15127-1717-4bb0-80b5-32e523cc5586\">\n",
              "      <button class=\"colab-df-quickchart\" onclick=\"quickchart('df-18e15127-1717-4bb0-80b5-32e523cc5586')\"\n",
              "              title=\"Suggest charts.\"\n",
              "              style=\"display:none;\">\n",
              "\n",
              "<svg xmlns=\"http://www.w3.org/2000/svg\" height=\"24px\"viewBox=\"0 0 24 24\"\n",
              "     width=\"24px\">\n",
              "    <g>\n",
              "        <path d=\"M19 3H5c-1.1 0-2 .9-2 2v14c0 1.1.9 2 2 2h14c1.1 0 2-.9 2-2V5c0-1.1-.9-2-2-2zM9 17H7v-7h2v7zm4 0h-2V7h2v10zm4 0h-2v-4h2v4z\"/>\n",
              "    </g>\n",
              "</svg>\n",
              "      </button>\n",
              "    </div>\n",
              "\n",
              "<style>\n",
              "  .colab-df-quickchart {\n",
              "    background-color: #E8F0FE;\n",
              "    border: none;\n",
              "    border-radius: 50%;\n",
              "    cursor: pointer;\n",
              "    display: none;\n",
              "    fill: #1967D2;\n",
              "    height: 32px;\n",
              "    padding: 0 0 0 0;\n",
              "    width: 32px;\n",
              "  }\n",
              "\n",
              "  .colab-df-quickchart:hover {\n",
              "    background-color: #E2EBFA;\n",
              "    box-shadow: 0px 1px 2px rgba(60, 64, 67, 0.3), 0px 1px 3px 1px rgba(60, 64, 67, 0.15);\n",
              "    fill: #174EA6;\n",
              "  }\n",
              "\n",
              "  [theme=dark] .colab-df-quickchart {\n",
              "    background-color: #3B4455;\n",
              "    fill: #D2E3FC;\n",
              "  }\n",
              "\n",
              "  [theme=dark] .colab-df-quickchart:hover {\n",
              "    background-color: #434B5C;\n",
              "    box-shadow: 0px 1px 3px 1px rgba(0, 0, 0, 0.15);\n",
              "    filter: drop-shadow(0px 1px 2px rgba(0, 0, 0, 0.3));\n",
              "    fill: #FFFFFF;\n",
              "  }\n",
              "</style>\n",
              "\n",
              "    <script>\n",
              "      async function quickchart(key) {\n",
              "        const containerElement = document.querySelector('#' + key);\n",
              "        const charts = await google.colab.kernel.invokeFunction(\n",
              "            'suggestCharts', [key], {});\n",
              "      }\n",
              "    </script>\n",
              "\n",
              "      <script>\n",
              "\n",
              "function displayQuickchartButton(domScope) {\n",
              "  let quickchartButtonEl =\n",
              "    domScope.querySelector('#df-18e15127-1717-4bb0-80b5-32e523cc5586 button.colab-df-quickchart');\n",
              "  quickchartButtonEl.style.display =\n",
              "    google.colab.kernel.accessAllowed ? 'block' : 'none';\n",
              "}\n",
              "\n",
              "        displayQuickchartButton(document);\n",
              "      </script>\n",
              "      <style>\n",
              "    .colab-df-container {\n",
              "      display:flex;\n",
              "      flex-wrap:wrap;\n",
              "      gap: 12px;\n",
              "    }\n",
              "\n",
              "    .colab-df-convert {\n",
              "      background-color: #E8F0FE;\n",
              "      border: none;\n",
              "      border-radius: 50%;\n",
              "      cursor: pointer;\n",
              "      display: none;\n",
              "      fill: #1967D2;\n",
              "      height: 32px;\n",
              "      padding: 0 0 0 0;\n",
              "      width: 32px;\n",
              "    }\n",
              "\n",
              "    .colab-df-convert:hover {\n",
              "      background-color: #E2EBFA;\n",
              "      box-shadow: 0px 1px 2px rgba(60, 64, 67, 0.3), 0px 1px 3px 1px rgba(60, 64, 67, 0.15);\n",
              "      fill: #174EA6;\n",
              "    }\n",
              "\n",
              "    [theme=dark] .colab-df-convert {\n",
              "      background-color: #3B4455;\n",
              "      fill: #D2E3FC;\n",
              "    }\n",
              "\n",
              "    [theme=dark] .colab-df-convert:hover {\n",
              "      background-color: #434B5C;\n",
              "      box-shadow: 0px 1px 3px 1px rgba(0, 0, 0, 0.15);\n",
              "      filter: drop-shadow(0px 1px 2px rgba(0, 0, 0, 0.3));\n",
              "      fill: #FFFFFF;\n",
              "    }\n",
              "  </style>\n",
              "\n",
              "      <script>\n",
              "        const buttonEl =\n",
              "          document.querySelector('#df-527ff22e-6aa5-40bc-8df8-11b7a26ebeb2 button.colab-df-convert');\n",
              "        buttonEl.style.display =\n",
              "          google.colab.kernel.accessAllowed ? 'block' : 'none';\n",
              "\n",
              "        async function convertToInteractive(key) {\n",
              "          const element = document.querySelector('#df-527ff22e-6aa5-40bc-8df8-11b7a26ebeb2');\n",
              "          const dataTable =\n",
              "            await google.colab.kernel.invokeFunction('convertToInteractive',\n",
              "                                                     [key], {});\n",
              "          if (!dataTable) return;\n",
              "\n",
              "          const docLinkHtml = 'Like what you see? Visit the ' +\n",
              "            '<a target=\"_blank\" href=https://colab.research.google.com/notebooks/data_table.ipynb>data table notebook</a>'\n",
              "            + ' to learn more about interactive tables.';\n",
              "          element.innerHTML = '';\n",
              "          dataTable['output_type'] = 'display_data';\n",
              "          await google.colab.output.renderOutput(dataTable, element);\n",
              "          const docLink = document.createElement('div');\n",
              "          docLink.innerHTML = docLinkHtml;\n",
              "          element.appendChild(docLink);\n",
              "        }\n",
              "      </script>\n",
              "    </div>\n",
              "  </div>\n"
            ]
          },
          "metadata": {},
          "execution_count": 36
        }
      ]
    },
    {
      "cell_type": "code",
      "source": [
        "orig_data.info()"
      ],
      "metadata": {
        "colab": {
          "base_uri": "https://localhost:8080/"
        },
        "id": "zIRGGx-RoznR",
        "outputId": "3da4b738-08ff-4ba5-8ac0-0bc75f48f981"
      },
      "execution_count": null,
      "outputs": [
        {
          "output_type": "stream",
          "name": "stdout",
          "text": [
            "<class 'pandas.core.frame.DataFrame'>\n",
            "Int64Index: 4909 entries, 0 to 5109\n",
            "Data columns (total 11 columns):\n",
            " #   Column             Non-Null Count  Dtype  \n",
            "---  ------             --------------  -----  \n",
            " 0   gender             4909 non-null   object \n",
            " 1   age                4909 non-null   float64\n",
            " 2   hypertension       4909 non-null   int64  \n",
            " 3   heart_disease      4909 non-null   int64  \n",
            " 4   ever_married       4909 non-null   object \n",
            " 5   work_type          4909 non-null   object \n",
            " 6   Residence_type     4909 non-null   object \n",
            " 7   avg_glucose_level  4909 non-null   float64\n",
            " 8   bmi                4909 non-null   float64\n",
            " 9   smoking_status     4909 non-null   object \n",
            " 10  stroke             4909 non-null   int64  \n",
            "dtypes: float64(3), int64(3), object(5)\n",
            "memory usage: 460.2+ KB\n"
          ]
        }
      ]
    },
    {
      "cell_type": "code",
      "source": [
        "print(len(orig_data.query(\"stroke == 1\")))\n",
        "print(len(orig_data.query(\"stroke == 0\")))"
      ],
      "metadata": {
        "colab": {
          "base_uri": "https://localhost:8080/"
        },
        "id": "YFtV-2i1-tiw",
        "outputId": "61c78ecf-ccca-4f77-98fe-076335e85628"
      },
      "execution_count": null,
      "outputs": [
        {
          "output_type": "stream",
          "name": "stdout",
          "text": [
            "209\n",
            "4700\n"
          ]
        }
      ]
    },
    {
      "cell_type": "code",
      "source": [
        "#separating the dataset which has less number of representation in the dataset\n",
        "data_stroke = orig_data.query(\"stroke == 1\")\n",
        "data_stroke.head()\n",
        "# print(type(data_stroke))\n",
        "print(data_stroke.shape)"
      ],
      "metadata": {
        "colab": {
          "base_uri": "https://localhost:8080/"
        },
        "id": "P2C4vHML98jm",
        "outputId": "03580381-111c-4a20-8003-1f5c8742be71"
      },
      "execution_count": null,
      "outputs": [
        {
          "output_type": "stream",
          "name": "stdout",
          "text": [
            "(209, 11)\n"
          ]
        }
      ]
    },
    {
      "cell_type": "code",
      "source": [
        "!pip install sdv"
      ],
      "metadata": {
        "colab": {
          "base_uri": "https://localhost:8080/"
        },
        "id": "2WsxzY3_gne4",
        "outputId": "9a8c2e08-cb92-439b-f6b9-026e30a039f0"
      },
      "execution_count": null,
      "outputs": [
        {
          "output_type": "stream",
          "name": "stdout",
          "text": [
            "Requirement already satisfied: sdv in /usr/local/lib/python3.10/dist-packages (1.2.1)\n",
            "Requirement already satisfied: Faker<15,>=10 in /usr/local/lib/python3.10/dist-packages (from sdv) (14.2.1)\n",
            "Requirement already satisfied: graphviz<1,>=0.13.2 in /usr/local/lib/python3.10/dist-packages (from sdv) (0.20.1)\n",
            "Requirement already satisfied: tqdm<5,>=4.15 in /usr/local/lib/python3.10/dist-packages (from sdv) (4.65.0)\n",
            "Requirement already satisfied: copulas<0.10,>=0.9.0 in /usr/local/lib/python3.10/dist-packages (from sdv) (0.9.0)\n",
            "Requirement already satisfied: ctgan<0.8,>=0.7.2 in /usr/local/lib/python3.10/dist-packages (from sdv) (0.7.4)\n",
            "Requirement already satisfied: deepecho<0.5,>=0.4.1 in /usr/local/lib/python3.10/dist-packages (from sdv) (0.4.2)\n",
            "Requirement already satisfied: rdt<2,>=1.5.0 in /usr/local/lib/python3.10/dist-packages (from sdv) (1.6.0)\n",
            "Requirement already satisfied: sdmetrics<0.11,>=0.10.0 in /usr/local/lib/python3.10/dist-packages (from sdv) (0.10.1)\n",
            "Requirement already satisfied: cloudpickle<3.0,>=2.1.0 in /usr/local/lib/python3.10/dist-packages (from sdv) (2.2.1)\n",
            "Requirement already satisfied: boto3<2,>=1.15.0 in /usr/local/lib/python3.10/dist-packages (from sdv) (1.28.17)\n",
            "Requirement already satisfied: botocore<2,>=1.18 in /usr/local/lib/python3.10/dist-packages (from sdv) (1.31.17)\n",
            "Requirement already satisfied: numpy<1.25.0,>=1.23.3 in /usr/local/lib/python3.10/dist-packages (from sdv) (1.24.4)\n",
            "Requirement already satisfied: pandas>=1.5.0 in /usr/local/lib/python3.10/dist-packages (from sdv) (1.5.3)\n",
            "Requirement already satisfied: jmespath<2.0.0,>=0.7.1 in /usr/local/lib/python3.10/dist-packages (from boto3<2,>=1.15.0->sdv) (1.0.1)\n",
            "Requirement already satisfied: s3transfer<0.7.0,>=0.6.0 in /usr/local/lib/python3.10/dist-packages (from boto3<2,>=1.15.0->sdv) (0.6.1)\n",
            "Requirement already satisfied: python-dateutil<3.0.0,>=2.1 in /usr/local/lib/python3.10/dist-packages (from botocore<2,>=1.18->sdv) (2.8.2)\n",
            "Requirement already satisfied: urllib3<1.27,>=1.25.4 in /usr/local/lib/python3.10/dist-packages (from botocore<2,>=1.18->sdv) (1.26.16)\n",
            "Requirement already satisfied: matplotlib<4,>=3.6.0 in /usr/local/lib/python3.10/dist-packages (from copulas<0.10,>=0.9.0->sdv) (3.7.1)\n",
            "Requirement already satisfied: scipy<2,>=1.9.2 in /usr/local/lib/python3.10/dist-packages (from copulas<0.10,>=0.9.0->sdv) (1.10.1)\n",
            "Requirement already satisfied: scikit-learn<2,>=1.1.3 in /usr/local/lib/python3.10/dist-packages (from ctgan<0.8,>=0.7.2->sdv) (1.2.2)\n",
            "Requirement already satisfied: torch>=1.11.0 in /usr/local/lib/python3.10/dist-packages (from ctgan<0.8,>=0.7.2->sdv) (2.0.1+cu118)\n",
            "Requirement already satisfied: pytz>=2020.1 in /usr/local/lib/python3.10/dist-packages (from pandas>=1.5.0->sdv) (2022.7.1)\n",
            "Requirement already satisfied: psutil<6,>=5.7 in /usr/local/lib/python3.10/dist-packages (from rdt<2,>=1.5.0->sdv) (5.9.5)\n",
            "Requirement already satisfied: plotly<6,>=5.10.0 in /usr/local/lib/python3.10/dist-packages (from sdmetrics<0.11,>=0.10.0->sdv) (5.13.1)\n",
            "Requirement already satisfied: contourpy>=1.0.1 in /usr/local/lib/python3.10/dist-packages (from matplotlib<4,>=3.6.0->copulas<0.10,>=0.9.0->sdv) (1.1.0)\n",
            "Requirement already satisfied: cycler>=0.10 in /usr/local/lib/python3.10/dist-packages (from matplotlib<4,>=3.6.0->copulas<0.10,>=0.9.0->sdv) (0.11.0)\n",
            "Requirement already satisfied: fonttools>=4.22.0 in /usr/local/lib/python3.10/dist-packages (from matplotlib<4,>=3.6.0->copulas<0.10,>=0.9.0->sdv) (4.41.1)\n",
            "Requirement already satisfied: kiwisolver>=1.0.1 in /usr/local/lib/python3.10/dist-packages (from matplotlib<4,>=3.6.0->copulas<0.10,>=0.9.0->sdv) (1.4.4)\n",
            "Requirement already satisfied: packaging>=20.0 in /usr/local/lib/python3.10/dist-packages (from matplotlib<4,>=3.6.0->copulas<0.10,>=0.9.0->sdv) (23.1)\n",
            "Requirement already satisfied: pillow>=6.2.0 in /usr/local/lib/python3.10/dist-packages (from matplotlib<4,>=3.6.0->copulas<0.10,>=0.9.0->sdv) (9.4.0)\n",
            "Requirement already satisfied: pyparsing>=2.3.1 in /usr/local/lib/python3.10/dist-packages (from matplotlib<4,>=3.6.0->copulas<0.10,>=0.9.0->sdv) (3.1.0)\n",
            "Requirement already satisfied: tenacity>=6.2.0 in /usr/local/lib/python3.10/dist-packages (from plotly<6,>=5.10.0->sdmetrics<0.11,>=0.10.0->sdv) (8.2.2)\n",
            "Requirement already satisfied: six>=1.5 in /usr/local/lib/python3.10/dist-packages (from python-dateutil<3.0.0,>=2.1->botocore<2,>=1.18->sdv) (1.16.0)\n",
            "Requirement already satisfied: joblib>=1.1.1 in /usr/local/lib/python3.10/dist-packages (from scikit-learn<2,>=1.1.3->ctgan<0.8,>=0.7.2->sdv) (1.3.1)\n",
            "Requirement already satisfied: threadpoolctl>=2.0.0 in /usr/local/lib/python3.10/dist-packages (from scikit-learn<2,>=1.1.3->ctgan<0.8,>=0.7.2->sdv) (3.2.0)\n",
            "Requirement already satisfied: filelock in /usr/local/lib/python3.10/dist-packages (from torch>=1.11.0->ctgan<0.8,>=0.7.2->sdv) (3.12.2)\n",
            "Requirement already satisfied: typing-extensions in /usr/local/lib/python3.10/dist-packages (from torch>=1.11.0->ctgan<0.8,>=0.7.2->sdv) (4.7.1)\n",
            "Requirement already satisfied: sympy in /usr/local/lib/python3.10/dist-packages (from torch>=1.11.0->ctgan<0.8,>=0.7.2->sdv) (1.11.1)\n",
            "Requirement already satisfied: networkx in /usr/local/lib/python3.10/dist-packages (from torch>=1.11.0->ctgan<0.8,>=0.7.2->sdv) (3.1)\n",
            "Requirement already satisfied: jinja2 in /usr/local/lib/python3.10/dist-packages (from torch>=1.11.0->ctgan<0.8,>=0.7.2->sdv) (3.1.2)\n",
            "Requirement already satisfied: triton==2.0.0 in /usr/local/lib/python3.10/dist-packages (from torch>=1.11.0->ctgan<0.8,>=0.7.2->sdv) (2.0.0)\n",
            "Requirement already satisfied: cmake in /usr/local/lib/python3.10/dist-packages (from triton==2.0.0->torch>=1.11.0->ctgan<0.8,>=0.7.2->sdv) (3.25.2)\n",
            "Requirement already satisfied: lit in /usr/local/lib/python3.10/dist-packages (from triton==2.0.0->torch>=1.11.0->ctgan<0.8,>=0.7.2->sdv) (16.0.6)\n",
            "Requirement already satisfied: MarkupSafe>=2.0 in /usr/local/lib/python3.10/dist-packages (from jinja2->torch>=1.11.0->ctgan<0.8,>=0.7.2->sdv) (2.1.3)\n",
            "Requirement already satisfied: mpmath>=0.19 in /usr/local/lib/python3.10/dist-packages (from sympy->torch>=1.11.0->ctgan<0.8,>=0.7.2->sdv) (1.3.0)\n"
          ]
        }
      ]
    },
    {
      "cell_type": "code",
      "source": [
        "from sdv.metadata import SingleTableMetadata\n",
        "\n",
        "metadata = SingleTableMetadata()"
      ],
      "metadata": {
        "id": "vtrh74_UnO6H"
      },
      "execution_count": null,
      "outputs": []
    },
    {
      "cell_type": "markdown",
      "source": [
        "**creating Metadata** </br>\n",
        "Metadata provides context and describes the characteristics, attributes, and properties of the actual data, helping to understand and manage the data effectively"
      ],
      "metadata": {
        "id": "ahF7biplHFI5"
      }
    },
    {
      "cell_type": "code",
      "source": [
        "metadata.detect_from_dataframe(data=data_stroke)"
      ],
      "metadata": {
        "id": "p1GsHuyipq2D"
      },
      "execution_count": null,
      "outputs": []
    },
    {
      "cell_type": "code",
      "source": [
        "python_dict = metadata.to_dict()"
      ],
      "metadata": {
        "id": "Pz1AhzycqCUZ"
      },
      "execution_count": null,
      "outputs": []
    },
    {
      "cell_type": "code",
      "source": [
        "python_dict"
      ],
      "metadata": {
        "colab": {
          "base_uri": "https://localhost:8080/"
        },
        "id": "W8xGV9TRqMDS",
        "outputId": "1e3cc266-ce0c-4950-c3d5-f3a415cee01e"
      },
      "execution_count": null,
      "outputs": [
        {
          "output_type": "execute_result",
          "data": {
            "text/plain": [
              "{'columns': {'gender': {'sdtype': 'categorical'},\n",
              "  'age': {'sdtype': 'numerical'},\n",
              "  'hypertension': {'sdtype': 'numerical'},\n",
              "  'heart_disease': {'sdtype': 'numerical'},\n",
              "  'ever_married': {'sdtype': 'categorical'},\n",
              "  'work_type': {'sdtype': 'categorical'},\n",
              "  'Residence_type': {'sdtype': 'categorical'},\n",
              "  'avg_glucose_level': {'sdtype': 'numerical'},\n",
              "  'bmi': {'sdtype': 'numerical'},\n",
              "  'smoking_status': {'sdtype': 'categorical'},\n",
              "  'stroke': {'sdtype': 'numerical'}},\n",
              " 'METADATA_SPEC_VERSION': 'SINGLE_TABLE_V1'}"
            ]
          },
          "metadata": {},
          "execution_count": 44
        }
      ]
    },
    {
      "cell_type": "code",
      "source": [
        "metadata.update_column(\n",
        "    column_name='hypertension',\n",
        "    sdtype='categorical')\n",
        "\n",
        "metadata.update_column(\n",
        "    column_name='heart_disease',\n",
        "    sdtype='categorical')\n",
        "\n",
        "metadata.update_column(\n",
        "    column_name='stroke',\n",
        "    sdtype='categorical')\n"
      ],
      "metadata": {
        "id": "Xo8vvJ7Pqulo"
      },
      "execution_count": null,
      "outputs": []
    },
    {
      "cell_type": "code",
      "source": [
        "metadata.save_to_json(filepath='my_metadata_v6.json')"
      ],
      "metadata": {
        "id": "jiJyYPJurjwB"
      },
      "execution_count": null,
      "outputs": []
    },
    {
      "cell_type": "code",
      "source": [
        "metadata = SingleTableMetadata.load_from_json(\n",
        "    filepath='my_metadata_v6.json')"
      ],
      "metadata": {
        "id": "Ra-vu3xSrr4P"
      },
      "execution_count": null,
      "outputs": []
    },
    {
      "cell_type": "code",
      "source": [
        "from sdv.single_table import GaussianCopulaSynthesizer\n",
        "\n",
        "synthesizer = GaussianCopulaSynthesizer(\n",
        "    metadata, # required\n",
        "    enforce_min_max_values=True,\n",
        "    enforce_rounding=False,\n",
        "    numerical_distributions={       #'norm' 'beta', 'truncnorm', 'uniform', 'gamma' or 'gaussian_kde'\n",
        "        'age': 'gaussian_kde',\n",
        "        'bmi': 'norm',\n",
        "        'avg_glucose_level':'gaussian_kde'\n",
        "    },\n",
        "    default_distribution='norm'\n",
        ")\n",
        "synthesizer.fit(data_stroke)\n",
        "\n",
        "synthetic_data = synthesizer.sample(num_rows=10)\n"
      ],
      "metadata": {
        "id": "OZ1cJiAt11tL"
      },
      "execution_count": null,
      "outputs": []
    },
    {
      "cell_type": "code",
      "source": [
        "# synthesizer.get_learned_distributions()"
      ],
      "metadata": {
        "id": "BsjGKONrC4qS"
      },
      "execution_count": null,
      "outputs": []
    },
    {
      "cell_type": "code",
      "source": [
        "# synthesizer = CTGANSynthesizer(\n",
        "#     metadata, # required\n",
        "#     enforce_rounding=False,\n",
        "#     epochs=500,\n",
        "#     verbose=True\n",
        "# )"
      ],
      "metadata": {
        "id": "C_85FPJ-sGZ5"
      },
      "execution_count": null,
      "outputs": []
    },
    {
      "cell_type": "code",
      "source": [
        "synthesizer.fit(data_stroke)"
      ],
      "metadata": {
        "id": "vue74icHsPNQ"
      },
      "execution_count": null,
      "outputs": []
    },
    {
      "cell_type": "code",
      "source": [
        "samples = synthesizer.sample(4000)\n",
        "samples.head()"
      ],
      "metadata": {
        "colab": {
          "base_uri": "https://localhost:8080/",
          "height": 206
        },
        "id": "28lseiFgsXBv",
        "outputId": "67bb5870-5713-4315-a3d8-705237de0f2e"
      },
      "execution_count": null,
      "outputs": [
        {
          "output_type": "execute_result",
          "data": {
            "text/plain": [
              "   gender        age  hypertension  heart_disease ever_married      work_type  \\\n",
              "0  Female  78.835212             0              0          Yes        Private   \n",
              "1    Male  56.876896             1              1          Yes        Private   \n",
              "2    Male  73.567823             1              0           No        Private   \n",
              "3  Female  48.296668             0              0          Yes        Private   \n",
              "4  Female  61.624401             1              0          Yes  Self-employed   \n",
              "\n",
              "  Residence_type  avg_glucose_level        bmi   smoking_status  stroke  \n",
              "0          Urban          70.950005  24.449498     never smoked       1  \n",
              "1          Rural         248.931029  42.474226     never smoked       1  \n",
              "2          Rural         183.869468  39.383721  formerly smoked       1  \n",
              "3          Urban         131.386244  26.138939          Unknown       1  \n",
              "4          Rural         201.579401  30.494162     never smoked       1  "
            ],
            "text/html": [
              "\n",
              "\n",
              "  <div id=\"df-aec78c61-8ffb-4bfb-b6c8-6d3dbf8f7612\">\n",
              "    <div class=\"colab-df-container\">\n",
              "      <div>\n",
              "<style scoped>\n",
              "    .dataframe tbody tr th:only-of-type {\n",
              "        vertical-align: middle;\n",
              "    }\n",
              "\n",
              "    .dataframe tbody tr th {\n",
              "        vertical-align: top;\n",
              "    }\n",
              "\n",
              "    .dataframe thead th {\n",
              "        text-align: right;\n",
              "    }\n",
              "</style>\n",
              "<table border=\"1\" class=\"dataframe\">\n",
              "  <thead>\n",
              "    <tr style=\"text-align: right;\">\n",
              "      <th></th>\n",
              "      <th>gender</th>\n",
              "      <th>age</th>\n",
              "      <th>hypertension</th>\n",
              "      <th>heart_disease</th>\n",
              "      <th>ever_married</th>\n",
              "      <th>work_type</th>\n",
              "      <th>Residence_type</th>\n",
              "      <th>avg_glucose_level</th>\n",
              "      <th>bmi</th>\n",
              "      <th>smoking_status</th>\n",
              "      <th>stroke</th>\n",
              "    </tr>\n",
              "  </thead>\n",
              "  <tbody>\n",
              "    <tr>\n",
              "      <th>0</th>\n",
              "      <td>Female</td>\n",
              "      <td>78.835212</td>\n",
              "      <td>0</td>\n",
              "      <td>0</td>\n",
              "      <td>Yes</td>\n",
              "      <td>Private</td>\n",
              "      <td>Urban</td>\n",
              "      <td>70.950005</td>\n",
              "      <td>24.449498</td>\n",
              "      <td>never smoked</td>\n",
              "      <td>1</td>\n",
              "    </tr>\n",
              "    <tr>\n",
              "      <th>1</th>\n",
              "      <td>Male</td>\n",
              "      <td>56.876896</td>\n",
              "      <td>1</td>\n",
              "      <td>1</td>\n",
              "      <td>Yes</td>\n",
              "      <td>Private</td>\n",
              "      <td>Rural</td>\n",
              "      <td>248.931029</td>\n",
              "      <td>42.474226</td>\n",
              "      <td>never smoked</td>\n",
              "      <td>1</td>\n",
              "    </tr>\n",
              "    <tr>\n",
              "      <th>2</th>\n",
              "      <td>Male</td>\n",
              "      <td>73.567823</td>\n",
              "      <td>1</td>\n",
              "      <td>0</td>\n",
              "      <td>No</td>\n",
              "      <td>Private</td>\n",
              "      <td>Rural</td>\n",
              "      <td>183.869468</td>\n",
              "      <td>39.383721</td>\n",
              "      <td>formerly smoked</td>\n",
              "      <td>1</td>\n",
              "    </tr>\n",
              "    <tr>\n",
              "      <th>3</th>\n",
              "      <td>Female</td>\n",
              "      <td>48.296668</td>\n",
              "      <td>0</td>\n",
              "      <td>0</td>\n",
              "      <td>Yes</td>\n",
              "      <td>Private</td>\n",
              "      <td>Urban</td>\n",
              "      <td>131.386244</td>\n",
              "      <td>26.138939</td>\n",
              "      <td>Unknown</td>\n",
              "      <td>1</td>\n",
              "    </tr>\n",
              "    <tr>\n",
              "      <th>4</th>\n",
              "      <td>Female</td>\n",
              "      <td>61.624401</td>\n",
              "      <td>1</td>\n",
              "      <td>0</td>\n",
              "      <td>Yes</td>\n",
              "      <td>Self-employed</td>\n",
              "      <td>Rural</td>\n",
              "      <td>201.579401</td>\n",
              "      <td>30.494162</td>\n",
              "      <td>never smoked</td>\n",
              "      <td>1</td>\n",
              "    </tr>\n",
              "  </tbody>\n",
              "</table>\n",
              "</div>\n",
              "      <button class=\"colab-df-convert\" onclick=\"convertToInteractive('df-aec78c61-8ffb-4bfb-b6c8-6d3dbf8f7612')\"\n",
              "              title=\"Convert this dataframe to an interactive table.\"\n",
              "              style=\"display:none;\">\n",
              "\n",
              "  <svg xmlns=\"http://www.w3.org/2000/svg\" height=\"24px\"viewBox=\"0 0 24 24\"\n",
              "       width=\"24px\">\n",
              "    <path d=\"M0 0h24v24H0V0z\" fill=\"none\"/>\n",
              "    <path d=\"M18.56 5.44l.94 2.06.94-2.06 2.06-.94-2.06-.94-.94-2.06-.94 2.06-2.06.94zm-11 1L8.5 8.5l.94-2.06 2.06-.94-2.06-.94L8.5 2.5l-.94 2.06-2.06.94zm10 10l.94 2.06.94-2.06 2.06-.94-2.06-.94-.94-2.06-.94 2.06-2.06.94z\"/><path d=\"M17.41 7.96l-1.37-1.37c-.4-.4-.92-.59-1.43-.59-.52 0-1.04.2-1.43.59L10.3 9.45l-7.72 7.72c-.78.78-.78 2.05 0 2.83L4 21.41c.39.39.9.59 1.41.59.51 0 1.02-.2 1.41-.59l7.78-7.78 2.81-2.81c.8-.78.8-2.07 0-2.86zM5.41 20L4 18.59l7.72-7.72 1.47 1.35L5.41 20z\"/>\n",
              "  </svg>\n",
              "      </button>\n",
              "\n",
              "\n",
              "\n",
              "    <div id=\"df-78c6a80a-2ae9-4c2b-bdd3-bb3a92528581\">\n",
              "      <button class=\"colab-df-quickchart\" onclick=\"quickchart('df-78c6a80a-2ae9-4c2b-bdd3-bb3a92528581')\"\n",
              "              title=\"Suggest charts.\"\n",
              "              style=\"display:none;\">\n",
              "\n",
              "<svg xmlns=\"http://www.w3.org/2000/svg\" height=\"24px\"viewBox=\"0 0 24 24\"\n",
              "     width=\"24px\">\n",
              "    <g>\n",
              "        <path d=\"M19 3H5c-1.1 0-2 .9-2 2v14c0 1.1.9 2 2 2h14c1.1 0 2-.9 2-2V5c0-1.1-.9-2-2-2zM9 17H7v-7h2v7zm4 0h-2V7h2v10zm4 0h-2v-4h2v4z\"/>\n",
              "    </g>\n",
              "</svg>\n",
              "      </button>\n",
              "    </div>\n",
              "\n",
              "<style>\n",
              "  .colab-df-quickchart {\n",
              "    background-color: #E8F0FE;\n",
              "    border: none;\n",
              "    border-radius: 50%;\n",
              "    cursor: pointer;\n",
              "    display: none;\n",
              "    fill: #1967D2;\n",
              "    height: 32px;\n",
              "    padding: 0 0 0 0;\n",
              "    width: 32px;\n",
              "  }\n",
              "\n",
              "  .colab-df-quickchart:hover {\n",
              "    background-color: #E2EBFA;\n",
              "    box-shadow: 0px 1px 2px rgba(60, 64, 67, 0.3), 0px 1px 3px 1px rgba(60, 64, 67, 0.15);\n",
              "    fill: #174EA6;\n",
              "  }\n",
              "\n",
              "  [theme=dark] .colab-df-quickchart {\n",
              "    background-color: #3B4455;\n",
              "    fill: #D2E3FC;\n",
              "  }\n",
              "\n",
              "  [theme=dark] .colab-df-quickchart:hover {\n",
              "    background-color: #434B5C;\n",
              "    box-shadow: 0px 1px 3px 1px rgba(0, 0, 0, 0.15);\n",
              "    filter: drop-shadow(0px 1px 2px rgba(0, 0, 0, 0.3));\n",
              "    fill: #FFFFFF;\n",
              "  }\n",
              "</style>\n",
              "\n",
              "    <script>\n",
              "      async function quickchart(key) {\n",
              "        const containerElement = document.querySelector('#' + key);\n",
              "        const charts = await google.colab.kernel.invokeFunction(\n",
              "            'suggestCharts', [key], {});\n",
              "      }\n",
              "    </script>\n",
              "\n",
              "      <script>\n",
              "\n",
              "function displayQuickchartButton(domScope) {\n",
              "  let quickchartButtonEl =\n",
              "    domScope.querySelector('#df-78c6a80a-2ae9-4c2b-bdd3-bb3a92528581 button.colab-df-quickchart');\n",
              "  quickchartButtonEl.style.display =\n",
              "    google.colab.kernel.accessAllowed ? 'block' : 'none';\n",
              "}\n",
              "\n",
              "        displayQuickchartButton(document);\n",
              "      </script>\n",
              "      <style>\n",
              "    .colab-df-container {\n",
              "      display:flex;\n",
              "      flex-wrap:wrap;\n",
              "      gap: 12px;\n",
              "    }\n",
              "\n",
              "    .colab-df-convert {\n",
              "      background-color: #E8F0FE;\n",
              "      border: none;\n",
              "      border-radius: 50%;\n",
              "      cursor: pointer;\n",
              "      display: none;\n",
              "      fill: #1967D2;\n",
              "      height: 32px;\n",
              "      padding: 0 0 0 0;\n",
              "      width: 32px;\n",
              "    }\n",
              "\n",
              "    .colab-df-convert:hover {\n",
              "      background-color: #E2EBFA;\n",
              "      box-shadow: 0px 1px 2px rgba(60, 64, 67, 0.3), 0px 1px 3px 1px rgba(60, 64, 67, 0.15);\n",
              "      fill: #174EA6;\n",
              "    }\n",
              "\n",
              "    [theme=dark] .colab-df-convert {\n",
              "      background-color: #3B4455;\n",
              "      fill: #D2E3FC;\n",
              "    }\n",
              "\n",
              "    [theme=dark] .colab-df-convert:hover {\n",
              "      background-color: #434B5C;\n",
              "      box-shadow: 0px 1px 3px 1px rgba(0, 0, 0, 0.15);\n",
              "      filter: drop-shadow(0px 1px 2px rgba(0, 0, 0, 0.3));\n",
              "      fill: #FFFFFF;\n",
              "    }\n",
              "  </style>\n",
              "\n",
              "      <script>\n",
              "        const buttonEl =\n",
              "          document.querySelector('#df-aec78c61-8ffb-4bfb-b6c8-6d3dbf8f7612 button.colab-df-convert');\n",
              "        buttonEl.style.display =\n",
              "          google.colab.kernel.accessAllowed ? 'block' : 'none';\n",
              "\n",
              "        async function convertToInteractive(key) {\n",
              "          const element = document.querySelector('#df-aec78c61-8ffb-4bfb-b6c8-6d3dbf8f7612');\n",
              "          const dataTable =\n",
              "            await google.colab.kernel.invokeFunction('convertToInteractive',\n",
              "                                                     [key], {});\n",
              "          if (!dataTable) return;\n",
              "\n",
              "          const docLinkHtml = 'Like what you see? Visit the ' +\n",
              "            '<a target=\"_blank\" href=https://colab.research.google.com/notebooks/data_table.ipynb>data table notebook</a>'\n",
              "            + ' to learn more about interactive tables.';\n",
              "          element.innerHTML = '';\n",
              "          dataTable['output_type'] = 'display_data';\n",
              "          await google.colab.output.renderOutput(dataTable, element);\n",
              "          const docLink = document.createElement('div');\n",
              "          docLink.innerHTML = docLinkHtml;\n",
              "          element.appendChild(docLink);\n",
              "        }\n",
              "      </script>\n",
              "    </div>\n",
              "  </div>\n"
            ]
          },
          "metadata": {},
          "execution_count": 52
        }
      ]
    },
    {
      "cell_type": "code",
      "source": [
        "from sdv.evaluation.single_table  import evaluate_quality\n",
        "\n",
        "quality_report = evaluate_quality(\n",
        "    real_data=data_stroke,\n",
        "    synthetic_data=samples,\n",
        "    metadata=metadata)"
      ],
      "metadata": {
        "colab": {
          "base_uri": "https://localhost:8080/"
        },
        "id": "9FMYEi2Ztztq",
        "outputId": "09846522-282f-4e45-bdb7-5172bb2ef50f"
      },
      "execution_count": null,
      "outputs": [
        {
          "output_type": "stream",
          "name": "stderr",
          "text": [
            "Creating report: 100%|██████████| 4/4 [00:00<00:00,  6.16it/s]\n"
          ]
        },
        {
          "output_type": "stream",
          "name": "stdout",
          "text": [
            "\n",
            "Overall Quality Score: 90.12%\n",
            "\n",
            "Properties:\n",
            "Column Shapes: 93.0%\n",
            "Column Pair Trends: 87.25%\n"
          ]
        }
      ]
    },
    {
      "cell_type": "code",
      "source": [
        "from sdv.evaluation.single_table import run_diagnostic\n",
        "\n",
        "diagnostic_report = run_diagnostic(\n",
        "    real_data=data_stroke,\n",
        "    synthetic_data=samples,\n",
        "    metadata=metadata)"
      ],
      "metadata": {
        "colab": {
          "base_uri": "https://localhost:8080/"
        },
        "id": "SRbJyEYevUcX",
        "outputId": "588dd06f-1725-496e-88e4-b72bccd03046"
      },
      "execution_count": null,
      "outputs": [
        {
          "output_type": "stream",
          "name": "stderr",
          "text": [
            "Creating report: 100%|██████████| 4/4 [00:02<00:00,  1.39it/s]"
          ]
        },
        {
          "output_type": "stream",
          "name": "stdout",
          "text": [
            "\n",
            "DiagnosticResults:\n",
            "\n",
            "SUCCESS:\n",
            "✓ The synthetic data covers over 90% of the numerical ranges present in the real data\n",
            "✓ The synthetic data covers over 90% of the categories present in the real data\n",
            "✓ Over 90% of the synthetic rows are not copies of the real data\n",
            "✓ The synthetic data follows over 90% of the min/max boundaries set by the real data\n"
          ]
        },
        {
          "output_type": "stream",
          "name": "stderr",
          "text": [
            "\n"
          ]
        }
      ]
    },
    {
      "cell_type": "code",
      "source": [
        "from sdv.evaluation.single_table import get_column_plot\n",
        "\n",
        "fig= get_column_plot(\n",
        "    real_data=data_stroke,\n",
        "    synthetic_data=samples,\n",
        "    column_name='age',\n",
        "    metadata=metadata\n",
        ")\n",
        "\n",
        "fig.show()\n",
        "\n"
      ],
      "metadata": {
        "colab": {
          "base_uri": "https://localhost:8080/",
          "height": 542
        },
        "id": "G2GCEE__x-bY",
        "outputId": "ac866c0b-3eaa-4ba3-f389-f115c8cce1ae"
      },
      "execution_count": null,
      "outputs": [
        {
          "output_type": "display_data",
          "data": {
            "text/html": [
              "<html>\n",
              "<head><meta charset=\"utf-8\" /></head>\n",
              "<body>\n",
              "    <div>            <script src=\"https://cdnjs.cloudflare.com/ajax/libs/mathjax/2.7.5/MathJax.js?config=TeX-AMS-MML_SVG\"></script><script type=\"text/javascript\">if (window.MathJax && window.MathJax.Hub && window.MathJax.Hub.Config) {window.MathJax.Hub.Config({SVG: {font: \"STIX-Web\"}});}</script>                <script type=\"text/javascript\">window.PlotlyConfig = {MathJaxConfig: 'local'};</script>\n",
              "        <script src=\"https://cdn.plot.ly/plotly-2.18.2.min.js\"></script>                <div id=\"9fc4ee72-3da1-447b-8303-4c7280ebaca4\" class=\"plotly-graph-div\" style=\"height:525px; width:100%;\"></div>            <script type=\"text/javascript\">                                    window.PLOTLYENV=window.PLOTLYENV || {};                                    if (document.getElementById(\"9fc4ee72-3da1-447b-8303-4c7280ebaca4\")) {                    Plotly.newPlot(                        \"9fc4ee72-3da1-447b-8303-4c7280ebaca4\",                        [{\"legendgroup\":\"Real\",\"marker\":{\"color\":\"#000036\"},\"mode\":\"lines\",\"name\":\"Real\",\"showlegend\":true,\"x\":[14.0,14.136,14.272,14.408,14.544,14.68,14.816,14.952,15.088000000000001,15.224,15.36,15.496,15.632,15.768,15.904,16.04,16.176000000000002,16.312,16.448,16.584,16.72,16.856,16.992,17.128,17.264,17.4,17.536,17.672,17.808,17.944,18.08,18.216,18.352,18.488,18.624,18.759999999999998,18.896,19.032,19.168,19.304000000000002,19.44,19.576,19.712,19.848,19.984,20.12,20.256,20.392,20.528,20.664,20.8,20.936,21.072,21.208,21.344,21.48,21.616,21.752,21.887999999999998,22.024,22.16,22.296,22.432000000000002,22.567999999999998,22.704,22.84,22.976,23.112000000000002,23.247999999999998,23.384,23.52,23.656,23.792,23.928,24.064,24.2,24.336,24.472,24.608,24.744,24.880000000000003,25.016,25.152,25.288,25.424,25.560000000000002,25.695999999999998,25.832,25.968,26.104,26.240000000000002,26.375999999999998,26.512,26.648,26.784,26.92,27.055999999999997,27.192,27.328,27.464,27.6,27.736,27.872,28.008,28.144,28.28,28.416,28.552,28.688000000000002,28.823999999999998,28.96,29.096,29.232,29.368000000000002,29.503999999999998,29.64,29.776,29.912,30.048,30.184,30.32,30.456,30.592,30.728,30.864,31.0,31.136,31.272,31.408,31.544,31.68,31.816,31.952,32.088,32.224000000000004,32.36,32.495999999999995,32.632000000000005,32.768,32.903999999999996,33.04,33.176,33.312,33.448,33.584,33.72,33.856,33.992000000000004,34.128,34.263999999999996,34.4,34.536,34.672,34.808,34.944,35.08,35.216,35.352000000000004,35.488,35.623999999999995,35.760000000000005,35.896,36.032,36.168,36.304,36.44,36.576,36.712,36.848,36.984,37.120000000000005,37.256,37.391999999999996,37.528,37.664,37.8,37.936,38.072,38.208,38.344,38.480000000000004,38.616,38.751999999999995,38.888000000000005,39.024,39.16,39.296,39.432,39.568,39.704,39.84,39.976,40.111999999999995,40.248000000000005,40.384,40.519999999999996,40.656,40.792,40.928,41.064,41.2,41.336,41.472,41.608000000000004,41.744,41.879999999999995,42.016,42.152,42.288,42.424,42.56,42.696,42.832,42.968,43.104,43.239999999999995,43.376000000000005,43.512,43.647999999999996,43.784,43.92,44.056,44.192,44.328,44.464,44.6,44.736000000000004,44.872,45.007999999999996,45.144,45.28,45.416,45.552,45.688,45.824,45.96,46.096,46.232,46.368,46.504,46.64,46.776,46.912,47.048,47.184,47.32,47.456,47.592,47.728,47.864,48.0,48.136,48.272,48.408,48.544,48.68,48.816,48.952,49.088,49.224,49.36,49.496,49.632,49.768,49.904,50.04,50.176,50.312,50.448,50.584,50.72,50.856,50.992,51.128,51.264,51.4,51.536,51.672,51.808,51.944,52.08,52.216,52.352,52.488,52.624,52.76,52.896,53.032,53.168,53.304,53.44,53.576,53.712,53.848,53.984,54.12,54.256,54.392,54.528,54.664,54.8,54.936,55.072,55.208,55.344,55.48,55.616,55.752,55.888,56.024,56.16,56.296,56.432,56.568,56.704,56.84,56.976,57.112,57.248,57.384,57.52,57.656,57.792,57.928,58.064,58.2,58.336,58.472,58.608,58.744,58.88,59.016,59.152,59.288,59.424,59.56,59.696,59.832,59.968,60.104,60.24,60.376,60.512,60.648,60.784,60.92,61.056,61.192,61.328,61.464,61.6,61.736,61.872,62.008,62.144,62.28,62.416,62.552,62.688,62.824,62.96,63.096,63.232,63.368,63.504,63.64,63.776,63.912,64.048,64.184,64.32,64.456,64.592,64.72800000000001,64.864,65.0,65.136,65.27199999999999,65.408,65.544,65.68,65.816,65.952,66.088,66.22399999999999,66.36,66.49600000000001,66.632,66.768,66.904,67.03999999999999,67.176,67.312,67.44800000000001,67.584,67.72,67.856,67.99199999999999,68.128,68.26400000000001,68.4,68.536,68.672,68.80799999999999,68.944,69.08,69.21600000000001,69.352,69.488,69.624,69.75999999999999,69.896,70.032,70.168,70.304,70.44,70.576,70.712,70.848,70.98400000000001,71.12,71.256,71.392,71.52799999999999,71.664,71.8,71.936,72.072,72.208,72.344,72.47999999999999,72.616,72.75200000000001,72.888,73.024,73.16,73.29599999999999,73.432,73.568,73.70400000000001,73.84,73.976,74.112,74.24799999999999,74.384,74.52000000000001,74.656,74.792,74.928,75.064,75.2,75.336,75.47200000000001,75.608,75.744,75.88,76.01599999999999,76.152,76.288,76.424,76.56,76.696,76.832,76.968,77.104,77.24000000000001,77.376,77.512,77.648,77.78399999999999,77.92,78.056,78.192,78.328,78.464,78.6,78.736,78.872,79.008,79.144,79.28,79.416,79.552,79.688,79.824,79.96,80.096,80.232,80.368,80.504,80.64,80.776,80.912,81.048,81.184,81.32,81.456,81.592,81.728,81.864],\"xaxis\":\"x\",\"y\":[0.0004480531743031596,0.00044783362438641764,0.00044715962548125146,0.0004460334089017893,0.00044445860188339334,0.0004424402115814101,0.00043998460233260624,0.00043709946636004816,0.00043379378814903613,0.0004300778027664999,0.0004259629484385785,0.00042146181374057317,0.00041658807978973007,0.00041135645786405075,0.0004057826228992875,0.0003998831433411883,0.00039367540785075145,0.00038717754937655407,0.0003804083671200337,0.00037338724692688387,0.00036613408064042826,0.0003586691849510255,0.0003510132202692875,0.00034318711014028936,0.00033521196170118405,0.0003271089876658879,0.0003188994302980286,0.00031060448780741384,0.000302245243576167,0.0002938425985887476,0.00028541720740563167,0.0002769894179838761,0.00026857921560948867,0.00026020617116685914,0.00025188939392989845,0.0002436474890183287,0.00023549851962121772,0.0002274599740486995,0.00021954873763225903,0.00021178106945436142,0.00020417258384988873,0.0001967382365851594,0.00018949231558555162,0.00018244843605018206,0.00017561953976199545,0.00016901789837418902,0.0001626551204293344,0.00015654216184604212,0.00015068933958963267,0.0001451063482281836,0.00013980227906353323,0.00013478564151839904,0.00013006438645571253,0.00012564593110454315,0.00012153718526853803,0.00011774457849754902,0.00011427408791093695,0.00011113126637181004,0.00010832127072498486,0.00010584888982758753,0.00010371857211972306,0.00010193445250330616,0.00010050037831972942,9.941993424128445e-05,9.86964659168742e-05,9.833310223928904e-05,9.833277612886138e-05,9.86982437563798e-05,9.943210215642436e-05,0.0001005368052104819,0.00010201467800700554,0.0001038679296127036,0.0001060986643154737,0.00010870889142425784,0.00011170053373439988,0.00011507543478856793,0.00011883536508271601,0.0001229820273836506,0.00012751706133933398,0.00013244204757489306,0.00013775851147623114,0.00014346792686902789,0.00014957171980362652,0.0001560712726557501,0.00016296792874914118,0.00017026299769899215,0.00017795776166450544,0.00018605348268510192,0.00019455141125775648,0.00020345279629286697,0.00021275889656303135,0.00022247099373339676,0.00023259040703405562,0.00024311850960455743,0.0002540567465083702,0.0002654066543812922,0.00027716988264288523,0.00028934821616431164,0.00030194359924993705,0.00031495816075425545,0.0003283942401204469,0.00034225441409281197,0.0003565415238228441,0.00037125870205835835,0.0003864094000773499,0.00040199741400364134,0.00041802691012029954,0.00043450244877980533,0.00045142900649732833,0.0004688119958057237,0.00048665728244825195,0.0005049711994878591,0.000523760557920413,0.0005430326533936563,0.0005627952686540218,0.0005830566713697996,0.0006038256070114952,0.0006251112865083839,0.0006469233684441235,0.0006692719356034896,0.0006921674657365646,0.0007156207964655671,0.0007396430843224027,0.0007642457579714674,0.0007894404657415021,0.0008152390176616698,0.0008416533222697612,0.0008686953185337079,0.0008963769033004477,0.0009247098547578977,0.0009537057524652298,0.0009833758945730809,0.0010137312129176947,0.0010447821867304158,0.0010765387557556422,0.001109010233615195,0.0011422052222946775,0.0011761315286565846,0.001210796083905415,0.0012462048669410833,0.001282362832537941,0.001319273845277664,0.001356940620144505,0.001395364670661093,0.001434546265401883,0.0014744843936698514,0.001515176741060063,0.0015566196755619434,0.0015988082447709053,0.0016417361846899354,0.001685395940503758,0.0017297786996030907,0.0017748744370252648,0.0018206719733611324,0.001867159045058019,0.0019143223869257165,0.00196214782652829,0.0020106203900203865,0.0020597244188640534,0.002109443696742042,0.002159761585867885,0.0022106611717826567,0.0022621254156251222,0.0023141373127663475,0.002366680056614057,0.002419737206316203,0.002473292857028919,0.0025273318113619623,0.00258183975057557,0.002636803404077156,0.002692210715754679,0.002748051005686343,0.002804315125783495,0.002860995607955195,0.0029180868034288016,0.0029755850119207103,0.003033488599424375,0.0030917981034685672,0.0031505163247964357,0.00320964840452456,0.003269201885959516,0.0033291867603766584,0.0033896154962003563,0.0034505030511652337,0.003511866867183377,0.0035737268477906373,0.003636105318194948,0.00369902696809978,0.0037625187776244673,0.0038266099267887333,0.0038913316891704504,0.003956717310481029,0.0040228018729318825,0.004089622146385447,0.004157216427395387,0.0042256243673412085,0.004294886790951351,0.004365045506586194,0.004436143109716302,0.0045082227810824115,0.00458132808106049,0.004655502741778776,0.00473079045854279,0.004807234682119437,0.0048848784134129354,0.004963764002033051,0.005043932950211005,0.005125425723460565,0.00520828156931234,0.005292538345368269,0.005378232357832183,0.00546539821157163,0.005554068672656932,0.005644274544206824,0.005736044556246844,0.005829405270158248,0.005924380998162137,0.006020993738148348,0.006119263124019615,0.006219206391583947,0.006320838359888351,0.006424171427750456,0.006529215585109004,0.006635978438682694,0.006744465251299052,0.006854678994133034,0.006966620410978605,0.007080288093567571,0.0071956785668483,0.007312786383044077,0.007431604223226731,0.007552123005067757,0.007674331995364866,0.007798218925889552,0.007923770111059618,0.008050970565911635,0.00817980412282979,0.00831025354548375,0.008442300638434649,0.008575926350889789,0.008711110873118988,0.008847833724092523,0.008986073828959183,0.009125809585055402,0.00926701891522053,0.00940967930729013,0.009553767838748362,0.009699261185640157,0.009846135614975588,0.00999436695999983,0.010143930577854152,0.010294801289311872,0.010446953300442591,0.010600360106231332,0.010754994376360356,0.010910827823546045,0.011067831055011267,0.011225973407864322,0.011385222769345043,0.01154554538308901,0.011706905642746833,0.01186926587447846,0.012032586110018225,0.012196823852176067,0.012361933834798607,0.012527867779363582,0.012694574150515043,0.012861997912969545,0.013030080292327809,0.013198758542414146,0.013367965721835283,0.013537630482498755,0.013707676872857304,0.013878024158652106,0.014048586663907937,0.014219273634891231,0.014389989129675228,0.014560631935864241,0.014731095518912855,0.014901268003333903,0.015071032188923998,0.015240265603945528,0.015408840596991767,0.015576624469027935,0.015743479646846,0.015909263898898046,0.01607383059418241,0.016237029004550672,0.01639870465048551,0.01655869969006984,0.016716853350530494,0.016873002401396723,0.017026981667968486,0.017178624583444737,0.017327763777718688,0.017474231700511912,0.017617861276192148,0.017758486587303366,0.01789594358353824,0.018030070812599067,0.01816071016913107,0.018287707657674096,0.01841091416536233,0.018530186239917004,0.01864538686831885,0.018756386251421567,0.018863062569674162,0.01896530273506093,0.019063003124343426,0.019156070288700294,0.019244421634907343,0.01932798607328413,0.01940670462775165,0.019480531003500216,0.019549432107954404,0.019613388520943877,0.019672394910242242,0.019726460388919363,0.01977560881126393,0.019819879004371016,0.0198593249328509,0.0198940157944969,0.01992403604515183,0.01994948535142906,0.01997047847037277,0.01998714505558184,0.019999629389767026,0.020008090044160123,0.02001269946564403,0.020013643492919588,0.020011120803466613,0.02000534229348998,0.019996530393463413,0.019984918322291885,0.019970749283504067,0.019954275607259344,0.019935757842304738,0.019915463802344085,0.019893667571584537,0.019870648474500582,0.019846690015101264,0.019822078791203953,0.019797103389401865,0.019772053266566326,0.01974721762384389,0.019722884279195635,0.019699338544576863,0.019676862113875024,0.019655731967705332,0.019636219301114623,0.01961858848015702,0.01960309603318885,0.019589989682576005,0.019579507422324408,0.019571876646927614,0.019567313336478067,0.01956602130281339,0.019568191501162017,0.019574001411421547,0.01958361449284273,0.01959717971551114,0.019614831171609875,0.01963668776902148,0.019662853009379953,0.01969341485221867,0.019728445666382,0.019768002269374002,0.01981212605481395,0.01986084320765635,0.0199141650063119,0.01997208821028485,0.02003459553141616,0.02010165618629976,0.02017322652692051,0.020249250746049823,0.020329661653435242,0.020414381518328795,0.020503322973428884,0.020596389974854398,0.02069347881233919,0.020794479163427092,0.02089927518506941,0.02100774663567767,0.021119770020369917,0.021235219751872248,0.02135396931929437,0.02147589245680522,0.021600864304076414,0.02172876255025659,0.021859468553177726,0.021992868425486374,0.022128854079430965,0.022267324222132047,0.022408185293306807,0.02255135233761945,0.022696749804083625,0.022844312265249973,0.02299398504927368,0.023145724778370846,0.023299499807637975,0.023455290558724043,0.023613089743409543,0.023772902472755084,0.02393474624813654,0.02409865083117657,0.024264657990312834,0.024432821122508087,0.024603204749399234,0.02477588388800371,0.02495094329693826,0.025128476599963027,0.025308585289528375,0.025491377613875012,0.025676967352108573,0.02586547248253707,0.0260570137504153,0.0262517131420765,0.026449692273248754,0.026651070700137974,0.026855964162612527,0.027064482769532404,0.027276729136932992,0.027492796490383314,0.02771276674339347,0.027936708564238397,0.028164675443986844,0.02839670377887752,0.028632810980456867,0.028872993627087038,0.029117225670540266,0.029365456711417513,0.029617610357060432,0.029873582675462505,0.030133240758431507,0.03039642140690555,0.030662929950877098,0.030932539215844705,0.031204988647074775,0.03147998360223347,0.03175719482213484,0.032036258088450474,0.03231677407624603,0.03259830840814846,0.032880391915819235,0.03316252111321026,0.033444158884823626,0.03372473539088767,0.03400364919001237,0.03428026857849654,0.034553933144049635,0.034823955530259375,0.03508962340670063,0.035350201638147796,0.03560493464493452,0.03585304894511007,0.036093755867683354,0.03632625442493305,0.03654973433050657,0.03676337914884258,0.03696636956034138,0.037157886725682106,0.03733711573176193,0.037503249100907944,0.03765549034430541,0.03779305753999843,0.03791518691535888,0.03802113641359043,0.03811018922364577,0.03818165725288447,0.038234884521891936,0.03826925046111937,0.038284173089386336,0.03827911205481345,0.03825357151942103,0.03820710286943373,0.03813930723426945,0.03804983779825627,0.03793840189030504,0.0378047628380651,0.03764874157448641,0.0374702179862084,0.03726913199476728,0.03704548436325992,0.036799337222803805,0.03653081431488041,0.03624010094742711,0.03592744366433998,0.03559314962984832,0.03523758573101244,0.034861177403362066,0.03446440718641851,0.0340478130175218,0.03361198627399563,0.03315756957521765,0.032685254357608905,0.03219577823690754,0.03168992217332453,0.03116850745630455,0.030632392526605764,0.030082469654273362],\"yaxis\":\"y\",\"type\":\"scatter\",\"fill\":\"tozeroy\",\"hovertemplate\":\"<b>Real</b><br>Value: %{x}<br>Frequency: %{y}<extra></extra>\"},{\"legendgroup\":\"Synthetic\",\"marker\":{\"color\":\"#01E0C9\"},\"mode\":\"lines\",\"name\":\"Synthetic\",\"showlegend\":true,\"x\":[14.0,14.136,14.272,14.408,14.544,14.68,14.816,14.952,15.088000000000001,15.224,15.36,15.496,15.632,15.768,15.904,16.04,16.176000000000002,16.312,16.448,16.584,16.72,16.856,16.992,17.128,17.264,17.4,17.536,17.672,17.808,17.944,18.08,18.216,18.352,18.488,18.624,18.759999999999998,18.896,19.032,19.168,19.304000000000002,19.44,19.576,19.712,19.848,19.984,20.12,20.256,20.392,20.528,20.664,20.8,20.936,21.072,21.208,21.344,21.48,21.616,21.752,21.887999999999998,22.024,22.16,22.296,22.432000000000002,22.567999999999998,22.704,22.84,22.976,23.112000000000002,23.247999999999998,23.384,23.52,23.656,23.792,23.928,24.064,24.2,24.336,24.472,24.608,24.744,24.880000000000003,25.016,25.152,25.288,25.424,25.560000000000002,25.695999999999998,25.832,25.968,26.104,26.240000000000002,26.375999999999998,26.512,26.648,26.784,26.92,27.055999999999997,27.192,27.328,27.464,27.6,27.736,27.872,28.008,28.144,28.28,28.416,28.552,28.688000000000002,28.823999999999998,28.96,29.096,29.232,29.368000000000002,29.503999999999998,29.64,29.776,29.912,30.048,30.184,30.32,30.456,30.592,30.728,30.864,31.0,31.136,31.272,31.408,31.544,31.68,31.816,31.952,32.088,32.224000000000004,32.36,32.495999999999995,32.632000000000005,32.768,32.903999999999996,33.04,33.176,33.312,33.448,33.584,33.72,33.856,33.992000000000004,34.128,34.263999999999996,34.4,34.536,34.672,34.808,34.944,35.08,35.216,35.352000000000004,35.488,35.623999999999995,35.760000000000005,35.896,36.032,36.168,36.304,36.44,36.576,36.712,36.848,36.984,37.120000000000005,37.256,37.391999999999996,37.528,37.664,37.8,37.936,38.072,38.208,38.344,38.480000000000004,38.616,38.751999999999995,38.888000000000005,39.024,39.16,39.296,39.432,39.568,39.704,39.84,39.976,40.111999999999995,40.248000000000005,40.384,40.519999999999996,40.656,40.792,40.928,41.064,41.2,41.336,41.472,41.608000000000004,41.744,41.879999999999995,42.016,42.152,42.288,42.424,42.56,42.696,42.832,42.968,43.104,43.239999999999995,43.376000000000005,43.512,43.647999999999996,43.784,43.92,44.056,44.192,44.328,44.464,44.6,44.736000000000004,44.872,45.007999999999996,45.144,45.28,45.416,45.552,45.688,45.824,45.96,46.096,46.232,46.368,46.504,46.64,46.776,46.912,47.048,47.184,47.32,47.456,47.592,47.728,47.864,48.0,48.136,48.272,48.408,48.544,48.68,48.816,48.952,49.088,49.224,49.36,49.496,49.632,49.768,49.904,50.04,50.176,50.312,50.448,50.584,50.72,50.856,50.992,51.128,51.264,51.4,51.536,51.672,51.808,51.944,52.08,52.216,52.352,52.488,52.624,52.76,52.896,53.032,53.168,53.304,53.44,53.576,53.712,53.848,53.984,54.12,54.256,54.392,54.528,54.664,54.8,54.936,55.072,55.208,55.344,55.48,55.616,55.752,55.888,56.024,56.16,56.296,56.432,56.568,56.704,56.84,56.976,57.112,57.248,57.384,57.52,57.656,57.792,57.928,58.064,58.2,58.336,58.472,58.608,58.744,58.88,59.016,59.152,59.288,59.424,59.56,59.696,59.832,59.968,60.104,60.24,60.376,60.512,60.648,60.784,60.92,61.056,61.192,61.328,61.464,61.6,61.736,61.872,62.008,62.144,62.28,62.416,62.552,62.688,62.824,62.96,63.096,63.232,63.368,63.504,63.64,63.776,63.912,64.048,64.184,64.32,64.456,64.592,64.72800000000001,64.864,65.0,65.136,65.27199999999999,65.408,65.544,65.68,65.816,65.952,66.088,66.22399999999999,66.36,66.49600000000001,66.632,66.768,66.904,67.03999999999999,67.176,67.312,67.44800000000001,67.584,67.72,67.856,67.99199999999999,68.128,68.26400000000001,68.4,68.536,68.672,68.80799999999999,68.944,69.08,69.21600000000001,69.352,69.488,69.624,69.75999999999999,69.896,70.032,70.168,70.304,70.44,70.576,70.712,70.848,70.98400000000001,71.12,71.256,71.392,71.52799999999999,71.664,71.8,71.936,72.072,72.208,72.344,72.47999999999999,72.616,72.75200000000001,72.888,73.024,73.16,73.29599999999999,73.432,73.568,73.70400000000001,73.84,73.976,74.112,74.24799999999999,74.384,74.52000000000001,74.656,74.792,74.928,75.064,75.2,75.336,75.47200000000001,75.608,75.744,75.88,76.01599999999999,76.152,76.288,76.424,76.56,76.696,76.832,76.968,77.104,77.24000000000001,77.376,77.512,77.648,77.78399999999999,77.92,78.056,78.192,78.328,78.464,78.6,78.736,78.872,79.008,79.144,79.28,79.416,79.552,79.688,79.824,79.96,80.096,80.232,80.368,80.504,80.64,80.776,80.912,81.048,81.184,81.32,81.456,81.592,81.728,81.864],\"xaxis\":\"x\",\"y\":[0.0004988735076063743,0.0005079855102593383,0.0005160537636185992,0.0005230365004157437,0.0005288995532265724,0.0005336166161160075,0.0005371694167851418,0.0005395478001418094,0.0005407497255932577,0.0005407811815835825,0.0005396560219499834,0.0005373957295388954,0.0005340291132016243,0.0005295919447822368,0.0005241265430275386,0.0005176813115045715,0.0005103102376236714,0.0005020723597559908,0.0004930312092258331,0.0004832542336726976,0.0004728122079368197,0.00046177863824431247,0.0004502291650702483,0.00043824096965312077,0.0004258921887318282,0.00041326134168291476,0.0004004267738546048,0.00038746611952593374,0.0003744557875630027,0.000361470472497832,0.00034858269341591914,0.00033586236270410593,0.00032337638637945545,0.00031118829739237126,0.00029935792297494207,0.000287941086791581,0.00027698934634845214,0.00026654976583695905,0.0002566647243316317,0.00024737175904115613,0.00023870344312960725,0.00023068729748857957,0.00022334573575345248,0.0002166960418196271,0.0002107503791256069,0.00020551583102457015,0.00020099447165673002,0.0001971834668505939,0.00019407520470880667,0.0001916574556583808,0.00018991356184921946,0.00018882265585215378,0.0001883599086221105,0.0001884968066390312,0.0001892014580070134,0.00019043892707252074,0.00019217159681146913,0.00019435955783326131,0.00019696102236337079,0.00019993276100586284,0.00020323055946926726,0.00020680969178390188,0.00021062540587014412,0.00021463341666218847,0.00021879040137893707,0.00022305449099179918,0.00022738575149630632,0.00023174664827640555,0.0002361024866795336,0.00024042182191499428,0.0002446768315603345,0.0002488436443167667,0.0002529026191951135,0.0002568385700315301,0.00026064093111398726,0.00026430386072672353,0.0002678262805655034,0.0002712118502118761,0.0002744688771463325,0.00027761016409258026,0.00028065279678100125,0.00028361787646189466,0.000286530202652586,0.0002894179126338714,0.0002923120850908111,0.00029524631599543906,0.0002982562753344056,0.0003013792535784578,0.00030465370686455327,0.0003081188097129197,0.00031181402373422335,0.0003157786902056527,0.0003200516536241844,0.000324670922400412,0.00032967337176141945,0.0003350944927142497,0.0003409681896134997,0.0003473266275108844,0.0003542001290758687,0.0003616171195004438,0.0003696041164733333,0.0003781857610643709,0.00038738488423196613,0.0003972226026869338,0.0004077184370430053,0.0004188904445832107,0.0004307553585928032,0.00044332872606966516,0.0004566250357326943,0.0004706578286123322,0.0004854397841233652,0.0005009827753798986,0.0005172978886005822,0.0005343954027461328,0.0005522847270016037,0.0005709742953267364,0.000590471419006898,0.0006107820998977237,0.0006319108088168352,0.0006538602352419905,0.0006766310160708184,0.0007002214526274107,0.0007246272263119913,0.0007498411242317616,0.000775852786779817,0.0008026484894078766,0.0008302109707399563,0.0008585193186807508,0.00088754892527911,0.0009172715198205183,0.000947655287963268,0.0009786650827338374,0.00101026273090407,0.0010424074357428992,0.0010750562744368981,0.0011081647856826925,0.0011416876401530605,0.0011755793838137806,0.001209795241507298,0.001244291965908025,0.00127902871497283,0.00131396793943256,0.0013490762607583269,0.0013843253194392932,0.0014196925733610934,0.0014551620265933199,0.001490724869979787,0.0015263800165583481,0.001562134516979974,0.0015980038426956693,0.0016340120276634987,0.0016701916626129798,0.0017065837393937134,0.00174323734652723,0.001780209220666271,0.0018175631621361803,0.0018553693259827165,0.0018937034028801115,0.0019326457067750707,0.001972280188180655,0.0020126933935313536,0.0020539733919266306,0.0020962086909054414,0.002139487162609052,0.0021838950008264244,0.0022295157280150272,0.0022764292695104703,0.0023247111098538523,0.0023744315435641284,0.0024256550298580037,0.0024784396578736044,0.002532836725987035,0.0025888904359213376,0.002646637699626537,0.0027061080544390197,0.002767323679875315,0.002830299507632773,0.002895043414991854,0.0029615564908601877,0.003029833363165888,0.0030998625761799645,0.0031716270065928545,0.0032451043077413423,0.0033202673722247614,0.0033970848041990236,0.0034755213938279664,0.0035555385876345842,0.00363709494976738,0.003720146610418384,0.0038046476987498297,0.003890550758665206,0.00397780714656825,0.004066367410874203,0.004156181653466042,0.004247199873532655,0.0043393722943026874,0.004432649673122883,0.004526983595157624,0.004622326750741642,0.00471863319614032,0.004815858597199914,0.00491396045513684,0.005012898313552351,0.0051126339456882535,0.005213131520978399,0.005314357750103812,0.005416282008028242,0.005518876434863882,0.005622116014876445,0.005725978634464517,0.00583044512050658,0.005935499261034663,0.006041127810728324,0.006147320484197145,0.006254069940403513,0.00636137176184167,0.006469224432214227,0.006577629316316452,0.0066865906456429775,0.006796115512868104,0.006906213877825342,0.007016898586935343,0.007128185407219688,0.007240093075116379,0.007352643359306901,0.007465861135704388,0.007579774471670748,0.007694414715461556,0.007809816585873792,0.007926018256124752,0.008043061425154253,0.008160991368841197,0.00827985696308639,0.008399710670357413,0.0085206084811351,0.008642609801757973,0.008765777280440014,0.008890176563742448,0.009015875976513071,0.009142946119261171,0.009271459378107057,0.009401489343816277,0.009533110137990068,0.009666395646206057,0.009801418659774535,0.00993824992975779,0.010076957138969084,0.010217603799787513,0.010360248087758674,0.010504941623057842,0.010651728213932498,0.010800642578168962,0.010951709060397727,0.011104940364621172,0.011260336322665205,0.011417882720282458,0.011577550203323954,0.011739293286708906,0.011903049488824157,0.012068738613445644,0.012236262200268012,0.01240550316364617,0.012576325637181156,0.012748575039331767,0.012922078372316926,0.013096644763221327,0.013272066252467506,0.013448118830727239,0.013624563720982323,0.013801148897884403,0.01397761083190191,0.014153676441075761,0.014329065228644945,0.014503491580461273,0.014676667192104408,0.014848303592051597,0.01501811472425741,0.015185819551162404,0.01535114463656558,0.015513826667033825,0.015673614870644042,0.01583027329288451,0.015983582891496994,0.01613334341489476,0.016279375032507537,0.016421519689900386,0.016559642166702564,0.01669363082113626,0.016823398011118627,0.016948880188361114,0.01707003766844685,0.017186854086348038,0.017299335553082707,0.017407509535034043,0.017511423482703462,0.017611143240213702,0.017706751270587504,0.017798344734621874,0.017886033462990544,0.017969937862007547,0.018050186793273564,0.01812691546624403,0.018200263380655987,0.01827037235283233,0.018337384656252974,0.018401441302577527,0.01846268048467458,0.018521236198302916,0.018577237054065023,0.018630805286257497,0.01868205596042434,0.018731096376905426,0.01877802566356678,0.018822934547312223,0.018865905290948753,0.018907011779583264,0.018946319738966485,0.01898388706708578,0.019019764259815223,0.019053994911526408,0.019086616272193553,0.019117659843629956,0.019147151999005525,0.01917511461163517,0.019201565681127113,0.019226519947263713,0.019249989484378612,0.01927198427143324,0.019292512735416222,0.019311582268029925,0.019329199717848054,0.019345371862159448,0.01936010586453189,0.019373409725672933,0.019385292736405747,0.019395765942468404,0.01940484263135463,0.01941253885150322,0.01941887397378056,0.019423871304369594,0.019427558756847478,0.019429969589408142,0.019431143210863415,0.019431126056257235,0.019429972529691985,0.019427746008352443,0.019424519897785857,0.019420378724376994,0.019415419246733536,0.019409751563526947,0.01940350019135789,0.019396805082588123,0.019389822549979226,0.019382726062556987,0.01937570687554188,0.01936897445658997,0.019362756671100798,0.019357299691051075,0.019352867594788492,0.019349741629451495,0.019348219113188465,0.019348611961023977,0.019351244825985946,0.01935645285576711,0.01936457907458803,0.019375971409788632,0.019390979392753853,0.019409950573792488,0.019433226700205843,0.019461139715760984,0.019494007647752835,0.019532130454596154,0.01957578591212385,0.01962522562030553,0.01968067121375741,0.019742310859075348,0.019810296119614452,0.019884739263882706,0.01996571108723864,0.020053239308194713,0.020147307590544117,0.020247855230884283,0.02035477753824136,0.0204679269186656,0.020587114663185958,0.020712113422758846,0.020842660339133727,0.020978460786282092,0.021119192663484554,0.021264511168737184,0.021414053970049668,0.021567446682791442,0.02172430855368274,0.021884258246541655,0.022046919621587932,0.022211927399109557,0.022378932599595572,0.02254760765606486,0.022717651100190354,0.02288879173181649,0.023060792191461475,0.02323345186713801,0.02340660908014466,0.02358014250903765,0.023753971826508805,0.023928057540087918,0.024102400044020405,0.02427703790608839,0.024452045429117174,0.024627529542122148,0.024803626090158265,0.02498049560459394,0.025158318646477763,0.02533729082461713,0.02551761759675028,0.025699508966567967,0.02588317419126205,0.026068816613627713,0.026256628729622325,0.026446787596650614,0.026639450679954442,0.0268347522244191,0.0270328002272279,0.027233674073296903,0.027437422880751183,0.027644064588134756,0.02785358579905417,0.02806594238388506,0.028281060822434263,0.02849884025642124,0.0287191552066468,0.028941858897054737,0.029166787116807154,0.02939376254212401,0.02962259943215665,0.029853108607484163,0.03008510261606455,0.030318400989331317,0.030552835490621433,0.030788255258860354,0.031024531752283833,0.03126156339957518,0.03149927986886326,0.0317376458683456,0.03197666439553358,0.03221637935513066,0.032456877468227195,0.03269828939772803,0.03294079001683453,0.03318459774905915,0.03342997290997926,0.033677214982989034,0.03392665876420543,0.03417866931585614,0.034433635673507684,0.03469196326095324,0.034954064978035014,0.035220350941658374,0.03549121687918426,0.035767031196669664,0.03604812077213013,0.03633475555623724,0.036627132099320815,0.03692535616380335,0.037229424624542325,0.0375392069049853,0.03785442624335508,0.038174641128801305,0.03849922729092038,0.038827360665439944,0.039158001792227615,0.039489882127215846,0.03982149276533437,0.04015107607537721,0.040476620738270276,0.04079586065614418,0.04110627816006991,0.04140511188877151,0.04168936963917089,0.04195584640278779,0.04220114770112167,0.042421718219828514,0.04261387561831294,0.04277384926102763,0.04289782348287228,0.042981984867246165,0.043022572885625616,0.04301593312624009,0.04295857223055248,0.0428472135640133,0.04267885257546272,0.04245081075098955,0.0421607870455731,0.04180690568136262,0.04138775923603955,0.040902446008565074,0.04035060074189144,0.039732417901282534,0.039048666849968154,0.03830069842762718],\"yaxis\":\"y\",\"type\":\"scatter\",\"fill\":\"tozeroy\",\"hovertemplate\":\"<b>Synthetic</b><br>Value: %{x}<br>Frequency: %{y}<extra></extra>\"}],                        {\"barmode\":\"overlay\",\"hovermode\":\"closest\",\"legend\":{\"traceorder\":\"reversed\"},\"xaxis\":{\"anchor\":\"y2\",\"domain\":[0.0,1.0],\"zeroline\":false,\"title\":{\"text\":\"Value\"}},\"yaxis\":{\"anchor\":\"free\",\"domain\":[0.0,1],\"position\":0.0,\"title\":{\"text\":\"Frequency\"}},\"template\":{\"data\":{\"histogram2dcontour\":[{\"type\":\"histogram2dcontour\",\"colorbar\":{\"outlinewidth\":0,\"ticks\":\"\"},\"colorscale\":[[0.0,\"#0d0887\"],[0.1111111111111111,\"#46039f\"],[0.2222222222222222,\"#7201a8\"],[0.3333333333333333,\"#9c179e\"],[0.4444444444444444,\"#bd3786\"],[0.5555555555555556,\"#d8576b\"],[0.6666666666666666,\"#ed7953\"],[0.7777777777777778,\"#fb9f3a\"],[0.8888888888888888,\"#fdca26\"],[1.0,\"#f0f921\"]]}],\"choropleth\":[{\"type\":\"choropleth\",\"colorbar\":{\"outlinewidth\":0,\"ticks\":\"\"}}],\"histogram2d\":[{\"type\":\"histogram2d\",\"colorbar\":{\"outlinewidth\":0,\"ticks\":\"\"},\"colorscale\":[[0.0,\"#0d0887\"],[0.1111111111111111,\"#46039f\"],[0.2222222222222222,\"#7201a8\"],[0.3333333333333333,\"#9c179e\"],[0.4444444444444444,\"#bd3786\"],[0.5555555555555556,\"#d8576b\"],[0.6666666666666666,\"#ed7953\"],[0.7777777777777778,\"#fb9f3a\"],[0.8888888888888888,\"#fdca26\"],[1.0,\"#f0f921\"]]}],\"heatmap\":[{\"type\":\"heatmap\",\"colorbar\":{\"outlinewidth\":0,\"ticks\":\"\"},\"colorscale\":[[0.0,\"#0d0887\"],[0.1111111111111111,\"#46039f\"],[0.2222222222222222,\"#7201a8\"],[0.3333333333333333,\"#9c179e\"],[0.4444444444444444,\"#bd3786\"],[0.5555555555555556,\"#d8576b\"],[0.6666666666666666,\"#ed7953\"],[0.7777777777777778,\"#fb9f3a\"],[0.8888888888888888,\"#fdca26\"],[1.0,\"#f0f921\"]]}],\"heatmapgl\":[{\"type\":\"heatmapgl\",\"colorbar\":{\"outlinewidth\":0,\"ticks\":\"\"},\"colorscale\":[[0.0,\"#0d0887\"],[0.1111111111111111,\"#46039f\"],[0.2222222222222222,\"#7201a8\"],[0.3333333333333333,\"#9c179e\"],[0.4444444444444444,\"#bd3786\"],[0.5555555555555556,\"#d8576b\"],[0.6666666666666666,\"#ed7953\"],[0.7777777777777778,\"#fb9f3a\"],[0.8888888888888888,\"#fdca26\"],[1.0,\"#f0f921\"]]}],\"contourcarpet\":[{\"type\":\"contourcarpet\",\"colorbar\":{\"outlinewidth\":0,\"ticks\":\"\"}}],\"contour\":[{\"type\":\"contour\",\"colorbar\":{\"outlinewidth\":0,\"ticks\":\"\"},\"colorscale\":[[0.0,\"#0d0887\"],[0.1111111111111111,\"#46039f\"],[0.2222222222222222,\"#7201a8\"],[0.3333333333333333,\"#9c179e\"],[0.4444444444444444,\"#bd3786\"],[0.5555555555555556,\"#d8576b\"],[0.6666666666666666,\"#ed7953\"],[0.7777777777777778,\"#fb9f3a\"],[0.8888888888888888,\"#fdca26\"],[1.0,\"#f0f921\"]]}],\"surface\":[{\"type\":\"surface\",\"colorbar\":{\"outlinewidth\":0,\"ticks\":\"\"},\"colorscale\":[[0.0,\"#0d0887\"],[0.1111111111111111,\"#46039f\"],[0.2222222222222222,\"#7201a8\"],[0.3333333333333333,\"#9c179e\"],[0.4444444444444444,\"#bd3786\"],[0.5555555555555556,\"#d8576b\"],[0.6666666666666666,\"#ed7953\"],[0.7777777777777778,\"#fb9f3a\"],[0.8888888888888888,\"#fdca26\"],[1.0,\"#f0f921\"]]}],\"mesh3d\":[{\"type\":\"mesh3d\",\"colorbar\":{\"outlinewidth\":0,\"ticks\":\"\"}}],\"scatter\":[{\"fillpattern\":{\"fillmode\":\"overlay\",\"size\":10,\"solidity\":0.2},\"type\":\"scatter\"}],\"parcoords\":[{\"type\":\"parcoords\",\"line\":{\"colorbar\":{\"outlinewidth\":0,\"ticks\":\"\"}}}],\"scatterpolargl\":[{\"type\":\"scatterpolargl\",\"marker\":{\"colorbar\":{\"outlinewidth\":0,\"ticks\":\"\"}}}],\"bar\":[{\"error_x\":{\"color\":\"#2a3f5f\"},\"error_y\":{\"color\":\"#2a3f5f\"},\"marker\":{\"line\":{\"color\":\"#E5ECF6\",\"width\":0.5},\"pattern\":{\"fillmode\":\"overlay\",\"size\":10,\"solidity\":0.2}},\"type\":\"bar\"}],\"scattergeo\":[{\"type\":\"scattergeo\",\"marker\":{\"colorbar\":{\"outlinewidth\":0,\"ticks\":\"\"}}}],\"scatterpolar\":[{\"type\":\"scatterpolar\",\"marker\":{\"colorbar\":{\"outlinewidth\":0,\"ticks\":\"\"}}}],\"histogram\":[{\"marker\":{\"pattern\":{\"fillmode\":\"overlay\",\"size\":10,\"solidity\":0.2}},\"type\":\"histogram\"}],\"scattergl\":[{\"type\":\"scattergl\",\"marker\":{\"colorbar\":{\"outlinewidth\":0,\"ticks\":\"\"}}}],\"scatter3d\":[{\"type\":\"scatter3d\",\"line\":{\"colorbar\":{\"outlinewidth\":0,\"ticks\":\"\"}},\"marker\":{\"colorbar\":{\"outlinewidth\":0,\"ticks\":\"\"}}}],\"scattermapbox\":[{\"type\":\"scattermapbox\",\"marker\":{\"colorbar\":{\"outlinewidth\":0,\"ticks\":\"\"}}}],\"scatterternary\":[{\"type\":\"scatterternary\",\"marker\":{\"colorbar\":{\"outlinewidth\":0,\"ticks\":\"\"}}}],\"scattercarpet\":[{\"type\":\"scattercarpet\",\"marker\":{\"colorbar\":{\"outlinewidth\":0,\"ticks\":\"\"}}}],\"carpet\":[{\"aaxis\":{\"endlinecolor\":\"#2a3f5f\",\"gridcolor\":\"white\",\"linecolor\":\"white\",\"minorgridcolor\":\"white\",\"startlinecolor\":\"#2a3f5f\"},\"baxis\":{\"endlinecolor\":\"#2a3f5f\",\"gridcolor\":\"white\",\"linecolor\":\"white\",\"minorgridcolor\":\"white\",\"startlinecolor\":\"#2a3f5f\"},\"type\":\"carpet\"}],\"table\":[{\"cells\":{\"fill\":{\"color\":\"#EBF0F8\"},\"line\":{\"color\":\"white\"}},\"header\":{\"fill\":{\"color\":\"#C8D4E3\"},\"line\":{\"color\":\"white\"}},\"type\":\"table\"}],\"barpolar\":[{\"marker\":{\"line\":{\"color\":\"#E5ECF6\",\"width\":0.5},\"pattern\":{\"fillmode\":\"overlay\",\"size\":10,\"solidity\":0.2}},\"type\":\"barpolar\"}],\"pie\":[{\"automargin\":true,\"type\":\"pie\"}]},\"layout\":{\"autotypenumbers\":\"strict\",\"colorway\":[\"#636efa\",\"#EF553B\",\"#00cc96\",\"#ab63fa\",\"#FFA15A\",\"#19d3f3\",\"#FF6692\",\"#B6E880\",\"#FF97FF\",\"#FECB52\"],\"font\":{\"color\":\"#2a3f5f\"},\"hovermode\":\"closest\",\"hoverlabel\":{\"align\":\"left\"},\"paper_bgcolor\":\"white\",\"plot_bgcolor\":\"#E5ECF6\",\"polar\":{\"bgcolor\":\"#E5ECF6\",\"angularaxis\":{\"gridcolor\":\"white\",\"linecolor\":\"white\",\"ticks\":\"\"},\"radialaxis\":{\"gridcolor\":\"white\",\"linecolor\":\"white\",\"ticks\":\"\"}},\"ternary\":{\"bgcolor\":\"#E5ECF6\",\"aaxis\":{\"gridcolor\":\"white\",\"linecolor\":\"white\",\"ticks\":\"\"},\"baxis\":{\"gridcolor\":\"white\",\"linecolor\":\"white\",\"ticks\":\"\"},\"caxis\":{\"gridcolor\":\"white\",\"linecolor\":\"white\",\"ticks\":\"\"}},\"coloraxis\":{\"colorbar\":{\"outlinewidth\":0,\"ticks\":\"\"}},\"colorscale\":{\"sequential\":[[0.0,\"#0d0887\"],[0.1111111111111111,\"#46039f\"],[0.2222222222222222,\"#7201a8\"],[0.3333333333333333,\"#9c179e\"],[0.4444444444444444,\"#bd3786\"],[0.5555555555555556,\"#d8576b\"],[0.6666666666666666,\"#ed7953\"],[0.7777777777777778,\"#fb9f3a\"],[0.8888888888888888,\"#fdca26\"],[1.0,\"#f0f921\"]],\"sequentialminus\":[[0.0,\"#0d0887\"],[0.1111111111111111,\"#46039f\"],[0.2222222222222222,\"#7201a8\"],[0.3333333333333333,\"#9c179e\"],[0.4444444444444444,\"#bd3786\"],[0.5555555555555556,\"#d8576b\"],[0.6666666666666666,\"#ed7953\"],[0.7777777777777778,\"#fb9f3a\"],[0.8888888888888888,\"#fdca26\"],[1.0,\"#f0f921\"]],\"diverging\":[[0,\"#8e0152\"],[0.1,\"#c51b7d\"],[0.2,\"#de77ae\"],[0.3,\"#f1b6da\"],[0.4,\"#fde0ef\"],[0.5,\"#f7f7f7\"],[0.6,\"#e6f5d0\"],[0.7,\"#b8e186\"],[0.8,\"#7fbc41\"],[0.9,\"#4d9221\"],[1,\"#276419\"]]},\"xaxis\":{\"gridcolor\":\"white\",\"linecolor\":\"white\",\"ticks\":\"\",\"title\":{\"standoff\":15},\"zerolinecolor\":\"white\",\"automargin\":true,\"zerolinewidth\":2},\"yaxis\":{\"gridcolor\":\"white\",\"linecolor\":\"white\",\"ticks\":\"\",\"title\":{\"standoff\":15},\"zerolinecolor\":\"white\",\"automargin\":true,\"zerolinewidth\":2},\"scene\":{\"xaxis\":{\"backgroundcolor\":\"#E5ECF6\",\"gridcolor\":\"white\",\"linecolor\":\"white\",\"showbackground\":true,\"ticks\":\"\",\"zerolinecolor\":\"white\",\"gridwidth\":2},\"yaxis\":{\"backgroundcolor\":\"#E5ECF6\",\"gridcolor\":\"white\",\"linecolor\":\"white\",\"showbackground\":true,\"ticks\":\"\",\"zerolinecolor\":\"white\",\"gridwidth\":2},\"zaxis\":{\"backgroundcolor\":\"#E5ECF6\",\"gridcolor\":\"white\",\"linecolor\":\"white\",\"showbackground\":true,\"ticks\":\"\",\"zerolinecolor\":\"white\",\"gridwidth\":2}},\"shapedefaults\":{\"line\":{\"color\":\"#2a3f5f\"}},\"annotationdefaults\":{\"arrowcolor\":\"#2a3f5f\",\"arrowhead\":0,\"arrowwidth\":1},\"geo\":{\"bgcolor\":\"white\",\"landcolor\":\"#E5ECF6\",\"subunitcolor\":\"white\",\"showland\":true,\"showlakes\":true,\"lakecolor\":\"white\"},\"title\":{\"x\":0.05},\"mapbox\":{\"style\":\"light\"}}},\"title\":{\"text\":\"Real vs. Synthetic Data for column age\"},\"plot_bgcolor\":\"#F5F5F8\"},                        {\"responsive\": true}                    ).then(function(){\n",
              "                            \n",
              "var gd = document.getElementById('9fc4ee72-3da1-447b-8303-4c7280ebaca4');\n",
              "var x = new MutationObserver(function (mutations, observer) {{\n",
              "        var display = window.getComputedStyle(gd).display;\n",
              "        if (!display || display === 'none') {{\n",
              "            console.log([gd, 'removed!']);\n",
              "            Plotly.purge(gd);\n",
              "            observer.disconnect();\n",
              "        }}\n",
              "}});\n",
              "\n",
              "// Listen for the removal of the full notebook cells\n",
              "var notebookContainer = gd.closest('#notebook-container');\n",
              "if (notebookContainer) {{\n",
              "    x.observe(notebookContainer, {childList: true});\n",
              "}}\n",
              "\n",
              "// Listen for the clearing of the current output cell\n",
              "var outputEl = gd.closest('.output');\n",
              "if (outputEl) {{\n",
              "    x.observe(outputEl, {childList: true});\n",
              "}}\n",
              "\n",
              "                        })                };                            </script>        </div>\n",
              "</body>\n",
              "</html>"
            ]
          },
          "metadata": {}
        }
      ]
    },
    {
      "cell_type": "code",
      "source": [
        "fig = get_column_plot(\n",
        "    real_data=data_stroke,\n",
        "    synthetic_data=samples,\n",
        "    column_name='bmi',\n",
        "    metadata=metadata\n",
        ")\n",
        "\n",
        "fig.show()"
      ],
      "metadata": {
        "colab": {
          "base_uri": "https://localhost:8080/",
          "height": 542
        },
        "id": "usaMST8CyZvH",
        "outputId": "b74655cb-3459-463d-ee32-20161c8d5328"
      },
      "execution_count": null,
      "outputs": [
        {
          "output_type": "display_data",
          "data": {
            "text/html": [
              "<html>\n",
              "<head><meta charset=\"utf-8\" /></head>\n",
              "<body>\n",
              "    <div>            <script src=\"https://cdnjs.cloudflare.com/ajax/libs/mathjax/2.7.5/MathJax.js?config=TeX-AMS-MML_SVG\"></script><script type=\"text/javascript\">if (window.MathJax && window.MathJax.Hub && window.MathJax.Hub.Config) {window.MathJax.Hub.Config({SVG: {font: \"STIX-Web\"}});}</script>                <script type=\"text/javascript\">window.PlotlyConfig = {MathJaxConfig: 'local'};</script>\n",
              "        <script src=\"https://cdn.plot.ly/plotly-2.18.2.min.js\"></script>                <div id=\"473d7660-94fb-4556-b5b8-04efb96f276c\" class=\"plotly-graph-div\" style=\"height:525px; width:100%;\"></div>            <script type=\"text/javascript\">                                    window.PLOTLYENV=window.PLOTLYENV || {};                                    if (document.getElementById(\"473d7660-94fb-4556-b5b8-04efb96f276c\")) {                    Plotly.newPlot(                        \"473d7660-94fb-4556-b5b8-04efb96f276c\",                        [{\"legendgroup\":\"Real\",\"marker\":{\"color\":\"#000036\"},\"mode\":\"lines\",\"name\":\"Real\",\"showlegend\":true,\"x\":[16.9,16.9794,17.058799999999998,17.138199999999998,17.217599999999997,17.296999999999997,17.3764,17.4558,17.5352,17.6146,17.694,17.7734,17.8528,17.932199999999998,18.011599999999998,18.090999999999998,18.170399999999997,18.2498,18.3292,18.4086,18.488,18.5674,18.6468,18.7262,18.8056,18.884999999999998,18.964399999999998,19.043799999999997,19.123199999999997,19.2026,19.282,19.3614,19.4408,19.5202,19.5996,19.679,19.758399999999998,19.837799999999998,19.917199999999998,19.9966,20.076,20.1554,20.2348,20.3142,20.3936,20.473,20.5524,20.6318,20.711199999999998,20.790599999999998,20.869999999999997,20.949399999999997,21.028799999999997,21.1082,21.1876,21.267,21.3464,21.4258,21.5052,21.5846,21.663999999999998,21.7434,21.8228,21.9022,21.9816,22.061,22.1404,22.2198,22.2992,22.3786,22.458,22.537399999999998,22.616799999999998,22.696199999999997,22.775599999999997,22.854999999999997,22.9344,23.0138,23.0932,23.1726,23.252,23.3314,23.4108,23.4902,23.569599999999998,23.649,23.7284,23.8078,23.8872,23.9666,24.046,24.1254,24.2048,24.2842,24.363599999999998,24.442999999999998,24.522399999999998,24.601799999999997,24.6812,24.7606,24.84,24.9194,24.9988,25.0782,25.1576,25.237,25.3164,25.3958,25.4752,25.5546,25.634,25.7134,25.7928,25.8722,25.9516,26.031,26.1104,26.189799999999998,26.269199999999998,26.348599999999998,26.427999999999997,26.5074,26.5868,26.6662,26.7456,26.825,26.904400000000003,26.983800000000002,27.063200000000002,27.142599999999998,27.221999999999998,27.3014,27.3808,27.4602,27.5396,27.619,27.6984,27.7778,27.8572,27.9366,28.016,28.095399999999998,28.174799999999998,28.254199999999997,28.333599999999997,28.412999999999997,28.4924,28.5718,28.6512,28.7306,28.81,28.889400000000002,28.9688,29.0482,29.1276,29.207,29.2864,29.3658,29.4452,29.5246,29.604,29.6834,29.7628,29.8422,29.921599999999998,30.001,30.0804,30.159799999999997,30.239199999999997,30.318599999999996,30.398,30.4774,30.5568,30.6362,30.7156,30.795,30.8744,30.9538,31.0332,31.1126,31.192,31.2714,31.3508,31.4302,31.5096,31.589,31.6684,31.747799999999998,31.827199999999998,31.906599999999997,31.986,32.0654,32.144800000000004,32.224199999999996,32.3036,32.383,32.4624,32.5418,32.6212,32.7006,32.78,32.8594,32.9388,33.0182,33.0976,33.177,33.2564,33.335800000000006,33.4152,33.494600000000005,33.574,33.653400000000005,33.7328,33.812200000000004,33.8916,33.971000000000004,34.050399999999996,34.1298,34.209199999999996,34.2886,34.367999999999995,34.4474,34.5268,34.6062,34.6856,34.765,34.8444,34.9238,35.0032,35.0826,35.162,35.2414,35.320800000000006,35.4002,35.479600000000005,35.559,35.638400000000004,35.7178,35.797200000000004,35.876599999999996,35.956,36.035399999999996,36.1148,36.194199999999995,36.2736,36.352999999999994,36.4324,36.5118,36.5912,36.6706,36.75,36.8294,36.9088,36.9882,37.0676,37.147,37.2264,37.305800000000005,37.3852,37.464600000000004,37.544,37.623400000000004,37.702799999999996,37.7822,37.861599999999996,37.941,38.020399999999995,38.0998,38.179199999999994,38.2586,38.337999999999994,38.4174,38.4968,38.5762,38.6556,38.735,38.8144,38.8938,38.9732,39.0526,39.132,39.2114,39.290800000000004,39.3702,39.449600000000004,39.528999999999996,39.6084,39.6878,39.7672,39.8466,39.926,40.0054,40.0848,40.1642,40.2436,40.32299999999999,40.4024,40.4818,40.5612,40.6406,40.72,40.7994,40.8788,40.9582,41.0376,41.117,41.1964,41.275800000000004,41.355199999999996,41.4346,41.513999999999996,41.5934,41.6728,41.7522,41.8316,41.911,41.9904,42.0698,42.1492,42.2286,42.308,42.3874,42.466800000000006,42.5462,42.625600000000006,42.705,42.784400000000005,42.8638,42.943200000000004,43.0226,43.102000000000004,43.1814,43.2608,43.340199999999996,43.4196,43.499,43.5784,43.6578,43.7372,43.8166,43.896,43.9754,44.0548,44.1342,44.2136,44.293000000000006,44.3724,44.451800000000006,44.5312,44.610600000000005,44.69,44.769400000000005,44.8488,44.928200000000004,45.0076,45.087,45.166399999999996,45.2458,45.325199999999995,45.4046,45.484,45.5634,45.6428,45.7222,45.8016,45.881,45.9604,46.0398,46.1192,46.1986,46.278000000000006,46.3574,46.436800000000005,46.5162,46.595600000000005,46.675,46.754400000000004,46.8338,46.9132,46.992599999999996,47.072,47.151399999999995,47.2308,47.310199999999995,47.3896,47.469,47.5484,47.6278,47.7072,47.7866,47.866,47.9454,48.0248,48.1042,48.1836,48.263000000000005,48.3424,48.421800000000005,48.5012,48.580600000000004,48.660000000000004,48.7394,48.8188,48.8982,48.9776,49.057,49.1364,49.2158,49.2952,49.3746,49.454,49.5334,49.6128,49.6922,49.77160000000001,49.851,49.9304,50.0098,50.089200000000005,50.168600000000005,50.248,50.3274,50.406800000000004,50.486200000000004,50.5656,50.644999999999996,50.7244,50.8038,50.8832,50.9626,51.042,51.1214,51.2008,51.2802,51.35960000000001,51.439,51.5184,51.5978,51.677200000000006,51.756600000000006,51.836,51.9154,51.994800000000005,52.074200000000005,52.153600000000004,52.233,52.3124,52.3918,52.4712,52.5506,52.629999999999995,52.7094,52.7888,52.8682,52.9476,53.027,53.1064,53.1858,53.2652,53.34460000000001,53.424,53.5034,53.5828,53.662200000000006,53.741600000000005,53.821,53.9004,53.979800000000004,54.059200000000004,54.138600000000004,54.217999999999996,54.2974,54.3768,54.4562,54.5356,54.615,54.6944,54.7738,54.8532,54.93260000000001,55.012,55.0914,55.1708,55.2502,55.329600000000006,55.409,55.4884,55.5678,55.647200000000005,55.726600000000005,55.806,55.8854,55.964800000000004,56.044200000000004,56.1236,56.202999999999996,56.2824,56.3618,56.4412,56.5206],\"xaxis\":\"x\",\"y\":[0.003583169589903465,0.0037517219307817077,0.003926718537670413,0.004108308997147836,0.004296638562488275,0.0044918475581925,0.004694070793009978,0.004903436985985313,0.005120068210018622,0.005344079357335437,0.005575577631117485,0.005814662067351668,0.006061423090715635,0.006315942108034866,0.006578291142525495,0.006848532511680438,0.007126718551272117,0.007412891387537138,0.007707082759182307,0.008009313890416439,0.008319595415771115,0.00863792735703628,0.008964299152206411,0.009298689735918622,0.009641067670469525,0.009991391326129263,0.010349609109132341,0.010715659735421488,0.011089472547953807,0.011470967875151186,0.011860057427891695,0.012256644732292894,0.012660625595435187,0.013071888601107029,0.013490315632626699,0.013915782419799624,0.014348159107104118,0.014787310840256251,0.015233098368381126,0.015685378659106016,0.016144005523986725,0.016608830251771598,0.017079702247096165,0.017556469672274668,0.01803898008991039,0.0185270811040751,0.019020620997809323,0.019519449364661007,0.020023417731909465,0.02053238017301342,0.021046193906673043,0.021564719879710415,0.022087823330748473,0.02261537433141439,0.023147248301507342,0.02368332649426743,0.024223496447560437,0.024767652396469605,0.025315695642464858,0.025867534874015094,0.026423086433231453,0.026982274522891175,0.027545031348006087,0.02811129718597625,0.028681020379324414,0.029254157245050004,0.029830671894782675,0.030410535960165925,0.030993728218271066,0.031580234112332316,0.032170045163716236,0.032763158271792034,0.03335957489925288,0.03395930014145452,0.03456234167947593,0.03516870861786563,0.03577841020939927,0.03639145447063488,0.0370078466935884,0.037627587860449035,0.038250672969892416,0.03887708928520462,0.039506814516076356,0.04013981494754308,0.040776043531100786,0.041415437954496384,0.04205791870803941,0.04270338716649751,0.04335172370667,0.044002785881582684,0.044656406672868215,0.045312392843279786,0.045970523411407754,0.04663054827051683,0.047292186972976685,0.0479551277010221,0.04861902644353847,0.049283506397226666,0.049948157608866624,0.050612536873474785,0.051276167900957695,0.051938541761416115,0.05259911761657877,0.053257323741967705,0.05391255884135293,0.05456419365187357,0.05521157283493327,0.055854017144649146,0.0564908258623049,0.0571212794819571,0.05774464262913472,0.05836016719148479,0.058967095637308724,0.059564664495243155,0.06015210796590937,0.060728661634229575,0.06129356624931424,0.06184607153740556,0.06238544001233392,0.06291095074734042,0.06342190307194381,0.06391762015780715,0.06439745245828297,0.06486078096749016,0.06530702026638878,0.06573562132535778,0.06614607403522509,0.06653790944151682,0.0669107016598605,0.06726406945394217,0.06759767746115365,0.06791123705501173,0.06820450683754475,0.06847729275906435,0.06872944786702068,0.06896087168991427,0.06917150926645914,0.06936134983429246,0.06953042519646117,0.06967880778762033,0.0698066084653167,0.06991397405483828,0.07000108467886368,0.07006815090549152,0.07011541075014695,0.07014312656832064,0.07015158187707636,0.07014107814375463,0.07011193158029848,0.0700644699811262,0.06999902964149712,0.0699159523918606,0.06981558278177658,0.06969826544467238,0.06956434267199176,0.0694141522222246,0.06924802538694984,0.06906628533238832,0.06886924573113834,0.06865720969477367,0.06843046901389524,0.0681893037080989,0.06793398188419336,0.06766475989694944,0.06738188280272292,0.06708558509252453,0.06677609168756334,0.06645361917700017,0.06611837727466655,0.06577057046885766,0.06541039983703273,0.06503806499537304,0.06465376615167734,0.06425770622903336,0.0638500930270908,0.06343114138758624,0.06300107533102366,0.0625601301320872,0.06210855430243639,0.06164661145099336,0.06117458199364695,0.06069276468643617,0.06020147795871406,0.059701061025481825,0.05919187476099378,0.05867430231881939,0.058148749486770054,0.05761564476841189,0.05707543918624769,0.05652860580502147,0.05597563897693564,0.0554170533138309,0.054853382394532434,0.054285177218572865,0.0537130044203265,0.053137444260219435,0.052559088412063366,0.051978537567705686,0.05139639888205308,0.050813283283110494,0.05022980267296547,0.049646567046636905,0.04906418155638959,0.04848324354949985,0.04790433960753833,0.04732804261502921,0.04675490888485555,0.046185475367022596,0.045620256966380945,0.045059743993663866,0.04450439977272972,0.0439546584252373,0.04341092285214825,0.04287356292945267,0.042342913933399826,0.04181927520827628,0.041302909087464965,0.04079404007613303,0.04029285430148436,0.039799499234070106,0.03931408368122359,0.03883667805127392,0.03836731488483423,0.03790598964715617,0.03745266177333088,0.037007255955994474,0.03656966366319659,0.036139744872215045,0.035717330003374057,0.0353022220363488,0.03489419879003535,0.0344930153458389,0.034098406593190536,0.03371008987525895,0.03332776771217274,0.0329511305786302,0.032579859712532314,0.032213629931251396,0.0318521124323234,0.031494977555742716,0.03114189748562081,0.03079254886976122,0.030446615336672412,0.030103789890700852,0.02976377716728795,0.02942629553184145,0.029091079007336346,0.028757879017519233,0.028426465934453145,0.028096630421103195,0.02776818456169508,0.02744096277466582,0.027114822505144156,0.02678964469602784,0.026465334038841097,0.026141819007638907,0.025819051681252262,0.025497007361116836,0.025175683993781214,0.024855101408922116,0.024535300385294837,0.02421634155848787,0.02389830418563144,0.023581284783301237,0.023265395655764468,0.02295076333141453,0.02263752692574056,0.022325836449456283,0.022015851080492546,0.021707737418415227,0.021401667739491672,0.021097818270084175,0.020796367495321273,0.020497494519083257,0.020201377490269935,0.019908192109091005,0.019618110225768107,0.019331298542569757,0.01904791742853977,0.01876811985465017,0.01849205045542715,0.01821984472138836,0.01795162832491514,0.017687516580481764,0.01742761403849796,0.01717201421041628,0.016920799421218536,0.016674040783961144,0.01643179828972546,0.01619412100511566,0.01596104736837584,0.015732605574275936,0.015508814037147834,0.015289681920847667,0.015075209723978628,0.014865389908434954,0.01466020755922078,0.014459641063553458,0.014263662797475976,0.014072239808573353,0.013885334483897461,0.013702905192852964,0.01352490689556486,0.013351291708126435,0.013182009417100354,0.013017007936699607,0.01285623370319488,0.012699632002262816,0.012547147226190845,0.012398723059070877,0.012254302589331962,0.012113828350161402,0.011977242289534593,0.011844485672695556,0.011715498920993273,0.011590221391969049,0.011468591106493542,0.011350544429562794,0.01123601571206659,0.01112493690143506,0.011017237129544107,0.010912842286610942,0.010811674590035953,0.010713652157245493,0.010618688591559115,0.01052669258995095,0.010437567581295921,0.01035121140329771,0.010267516025787737,0.010186367327475757,0.010107644932526343,0.010031222112546314,0.009956965758703333,0.009884736427769391,0.00981438846490552,0.009745770204990829,0.009678724253260423,0.009613087844969524,0.00954869328275639,0.009485368449349321,0.009422937392265964,0.009361220976198565,0.009300037597880085,0.009239203957393126,0.009178535879127779,0.009117849174925242,0.009056960541368722,0.0089956884827094,0.008933854250549197,0.008871282791145177,0.008807803691060016,0.00874325211185447,0.008677469704605851,0.008610305495235749,0.00854161673193911,0.008471269686419109,0.008399140401143687,0.008325115375439623,0.008249092183923884,0.008170980021526273,0.008090700170174431,0.00800818638307893,0.00792338518346188,0.007836256075504444,0.007746771666234496,0.007654917698023283,0.007560692992296844,0.007464109305982674,0.007365191103092239,0.007263975244676188,0.007160510601170496,0.007054857591869333,0.0069470876569070516,0.0068372826677001635,0.006725534282283837,0.006611943252375412,0.006496618689301465,0.006379677296140138,0.006261242573549994,0.006141444006786933,0.006020416241350622,0.0058982982545574825,0.005775232530110438,0.005651364242436279,0.005526840457190292,0.005401809353899066,0.005276419476227398,0.005150819014827783,0.0050251551271662115,0.00489957329812751,0.004774216744593871,0.0046492258665733095,0.0045247377468360245,0.004400885700407376,0.004277798874672395,0.0041556019002757065,0.004034414592460797,0.003914351701986779,0.0037955227142971774,0.003678031695194813,0.0035619771809062254,0.003447452110096721,0.0033345437951289676,0.003223333929639599,0.003113898629344039,0.003006308502865356,0.0029006287493173887,0.002796919279354332,0.0026952348564236706,0.0025956252550237945,0.002498135432868765,0.0024028057139942383,0.0023096719799979015,0.0022187658667890135,0.002130114964420177,0.00204374301778637,0.0019596701261958564,0.0018779129400416689,0.0017984848530255783,0.0017213961886068346,0.0016466543795597363,0.0015742641397273247,0.0015042276272475917,0.0014365445987040907,0.0013712125538118368,0.001308226870391244,0.0012475809295069092,0.0011892662307547322,0.0011332724977690476,0.0010795877740942064,0.0010281985096206162,0.000979089637827434,0.0009322446441030154,0.0008876456254320943,0.0008452733417476898,0.000805107259247622,0.000767125585972218,0.0007313052999340751,0.0006976221700835358,0.0006660507703876101,0.0006365644872967061,0.0006091355208742308,0.0005837348798703473,0.000560332371033775,0.0005388965829753011,0.0005193948649242307,0.0005017933007541974,0.0004860566786977348,0.00047214845721916014,0.0004600307275720468,0.0004496641736297548,0.0004410080296440568,0.000434020036656296,0.0004286563983561894,0.00042487173725360924,0.00042261905209642456,0.00042184967753102485,0.0004225132470593584,0.00042455766039532045,0.00042792905636225407,0.0004325717925003494,0.00043842843256627125,0.00044543974310587436,0.0004535447002632606,0.00046268050795456977,0.00047278262848215937,0.0004837848265937749,0.0004956192279017839,0.0005082163924698639,0.0005215054042491894,0.0005354139769039681,0.0005498685764085841,0.0005647945606267889,0.0005801163358995421,0.0005957575304739841,0.000611641184404249,0.0006276899553477413,0.0006438263394709843,0.0006599729064699236,0.0006760525475036652,0.0006919887346410724,0.0007077057902292425,0.0007231291644147791,0.0007381857188856739,0.0007528040147561392,0.0007669146023915179,0.0007804503108675715,0.0007933465346798627,0.0008055415152666311,0.0008169766148832552,0.0008275965803695121,0.0008373497943826688,0.0008461885117300866,0.0008540690785244198,0.0008609521320016416,0.000866802778986187,0.0008715907511568973,0.0008752905354602343,0.0008778814782313526,0.0008793478618164055],\"yaxis\":\"y\",\"type\":\"scatter\",\"fill\":\"tozeroy\",\"hovertemplate\":\"<b>Real</b><br>Value: %{x}<br>Frequency: %{y}<extra></extra>\"},{\"legendgroup\":\"Synthetic\",\"marker\":{\"color\":\"#01E0C9\"},\"mode\":\"lines\",\"name\":\"Synthetic\",\"showlegend\":true,\"x\":[16.9,16.969436178032396,17.038872356064797,17.108308534097194,17.17774471212959,17.247180890161992,17.31661706819439,17.38605324622679,17.455489424259188,17.524925602291585,17.594361780323986,17.663797958356383,17.73323413638878,17.80267031442118,17.87210649245358,17.941542670485976,18.010978848518377,18.080415026550774,18.149851204583175,18.219287382615573,18.28872356064797,18.35815973868037,18.427595916712768,18.497032094745165,18.566468272777566,18.635904450809964,18.70534062884236,18.774776806874762,18.84421298490716,18.913649162939556,18.983085340971957,19.052521519004355,19.121957697036756,19.191393875069153,19.26083005310155,19.33026623113395,19.39970240916635,19.469138587198746,19.538574765231147,19.608010943263544,19.677447121295945,19.746883299328342,19.81631947736074,19.88575565539314,19.955191833425538,20.024628011457935,20.094064189490336,20.163500367522733,20.23293654555513,20.30237272358753,20.37180890161993,20.44124507965233,20.510681257684727,20.580117435717124,20.649553613749525,20.718989791781922,20.78842596981432,20.85786214784672,20.927298325879118,20.99673450391152,21.066170681943916,21.135606859976313,21.205043038008714,21.27447921604111,21.34391539407351,21.41335157210591,21.482787750138307,21.552223928170704,21.621660106203105,21.691096284235503,21.760532462267903,21.8299686403003,21.899404818332698,21.9688409963651,22.038277174397496,22.107713352429894,22.177149530462295,22.246585708494692,22.31602188652709,22.38545806455949,22.454894242591887,22.524330420624285,22.593766598656686,22.663202776689083,22.732638954721484,22.80207513275388,22.87151131078628,22.94094748881868,23.010383666851077,23.079819844883474,23.149256022915875,23.218692200948272,23.288128378980673,23.35756455701307,23.427000735045468,23.49643691307787,23.565873091110266,23.635309269142663,23.704745447175064,23.77418162520746,23.84361780323986,23.91305398127226,23.982490159304657,24.051926337337058,24.121362515369455,24.190798693401852,24.26023487143425,24.32967104946665,24.399107227499048,24.46854340553145,24.537979583563846,24.607415761596243,24.676851939628644,24.74628811766104,24.815724295693443,24.88516047372584,24.954596651758237,25.024032829790634,25.093469007823035,25.162905185855436,25.232341363887834,25.30177754192023,25.371213719952628,25.440649897985026,25.51008607601743,25.579522254049827,25.648958432082225,25.718394610114622,25.78783078814702,25.85726696617942,25.92670314421182,25.99613932224422,26.065575500276616,26.135011678309013,26.20444785634141,26.273884034373815,26.343320212406212,26.41275639043861,26.482192568471007,26.551628746503404,26.621064924535805,26.690501102568206,26.759937280600603,26.829373458633,26.898809636665398,26.968245814697795,27.0376819927302,27.107118170762597,27.176554348794994,27.24599052682739,27.31542670485979,27.384862882892186,27.45429906092459,27.523735238956988,27.593171416989385,27.662607595021782,27.73204377305418,27.801479951086584,27.87091612911898,27.94035230715138,28.009788485183776,28.079224663216173,28.14866084124857,28.218097019280975,28.287533197313373,28.35696937534577,28.426405553378167,28.495841731410565,28.56527790944297,28.634714087475366,28.704150265507764,28.77358644354016,28.84302262157256,28.91245879960496,28.98189497763736,29.051331155669757,29.120767333702155,29.190203511734552,29.25963968976695,29.329075867799354,29.39851204583175,29.46794822386415,29.537384401896546,29.606820579928943,29.676256757961344,29.745692935993745,29.815129114026142,29.88456529205854,29.954001470090937,30.023437648123334,30.09287382615574,30.162310004188136,30.231746182220533,30.30118236025293,30.370618538285328,30.44005471631773,30.50949089435013,30.578927072382527,30.648363250414924,30.71779942844732,30.78723560647972,30.856671784512123,30.92610796254452,30.995544140576918,31.064980318609315,31.134416496641713,31.203852674674113,31.273288852706514,31.34272503073891,31.41216120877131,31.481597386803706,31.551033564836104,31.620469742868504,31.689905920900905,31.759342098933303,31.8287782769657,31.898214454998097,31.967650633030498,32.0370868110629,32.106522989095296,32.175959167127694,32.24539534516009,32.314831523192495,32.384267701224886,32.45370387925729,32.52314005728969,32.592576235322085,32.66201241335448,32.73144859138688,32.800884769419284,32.87032094745168,32.93975712548408,33.009193303516476,33.07862948154887,33.14806565958128,33.21750183761367,33.28693801564607,33.35637419367847,33.42581037171087,33.49524654974327,33.56468272777566,33.634118905808066,33.70355508384046,33.77299126187286,33.842427439905265,33.911863617937655,33.98129979597006,34.05073597400246,34.120172152034854,34.18960833006725,34.25904450809965,34.32848068613205,34.39791686416444,34.46735304219685,34.53678922022925,34.60622539826164,34.67566157629405,34.745097754326444,34.81453393235884,34.88397011039124,34.953406288423636,35.02284246645604,35.09227864448843,35.161714822520835,35.23115100055323,35.30058717858563,35.370023356618034,35.43945953465043,35.50889571268283,35.578331890715226,35.647768068747624,35.71720424678002,35.78664042481242,35.85607660284482,35.92551278087721,35.99494895890962,36.06438513694202,36.13382131497441,36.20325749300682,36.272693671039214,36.34212984907161,36.41156602710401,36.481002205136406,36.55043838316881,36.6198745612012,36.689310739233605,36.75874691726601,36.8281830952984,36.897619273330804,36.9670554513632,37.0364916293956,37.105927807427996,37.17536398546039,37.24480016349279,37.31423634152519,37.38367251955759,37.45310869758998,37.52254487562239,37.59198105365479,37.66141723168718,37.730853409719586,37.80028958775198,37.86972576578438,37.93916194381678,38.008598121849175,38.07803429988158,38.14747047791397,38.216906655946374,38.28634283397878,38.35577901201117,38.42521519004357,38.49465136807597,38.56408754610837,38.633523724140765,38.70295990217316,38.77239608020556,38.84183225823796,38.91126843627036,38.98070461430275,39.05014079233516,39.11957697036756,39.18901314839995,39.258449326432356,39.32788550446475,39.39732168249715,39.46675786052955,39.536194038561945,39.60563021659435,39.67506639462674,39.744502572659144,39.81393875069155,39.88337492872394,39.95281110675634,40.02224728478874,40.09168346282114,40.161119640853535,40.23055581888593,40.29999199691833,40.36942817495073,40.43886435298313,40.50830053101552,40.577736709047926,40.64717288708033,40.71660906511272,40.786045243145125,40.85548142117752,40.92491759920992,40.99435377724232,41.063789955274714,41.13322613330712,41.20266231133951,41.27209848937191,41.34153466740432,41.41097084543671,41.48040702346911,41.54984320150151,41.61927937953391,41.688715557566304,41.7581517355987,41.8275879136311,41.897024091663496,41.9664602696959,42.03589644772829,42.105332625760695,42.1747688037931,42.24420498182549,42.313641159857895,42.38307733789029,42.45251351592269,42.52194969395509,42.591385871987484,42.66082205001989,42.73025822805228,42.79969440608468,42.86913058411708,42.93856676214948,43.00800294018188,43.07743911821428,43.14687529624668,43.216311474279074,43.28574765231147,43.35518383034387,43.424620008376266,43.49405618640867,43.56349236444106,43.632928542473465,43.70236472050587,43.77180089853826,43.841237076570664,43.91067325460306,43.98010943263546,44.049545610667856,44.11898178870025,44.18841796673266,44.25785414476505,44.32729032279745,44.39672650082985,44.46616267886225,44.53559885689465,44.60503503492704,44.674471212959446,44.74390739099184,44.81334356902424,44.88277974705664,44.952215925089035,45.02165210312144,45.09108828115384,45.160524459186234,45.22996063721864,45.29939681525103,45.36883299328343,45.43826917131583,45.50770534934823,45.577141527380626,45.64657770541302,45.71601388344543,45.78545006147782,45.85488623951022,45.92432241754262,45.99375859557502,46.06319477360742,46.13263095163981,46.202067129672216,46.27150330770461,46.34093948573701,46.410375663769415,46.479811841801805,46.54924801983421,46.61868419786661,46.688120375899004,46.75755655393141,46.8269927319638,46.8964289099962,46.9658650880286,47.035301266061,47.104737444093395,47.17417362212579,47.2436098001582,47.31304597819059,47.38248215622299,47.45191833425539,47.521354512287786,47.59079069032019,47.66022686835258,47.729663046384985,47.79909922441738,47.86853540244978,47.937971580482184,48.007407758514574,48.07684393654698,48.146280114579376,48.21571629261177,48.28515247064418,48.35458864867657,48.42402482670897,48.49346100474137,48.56289718277377,48.632333360806165,48.70176953883856,48.771205716870966,48.84064189490336,48.91007807293576,48.97951425096816,49.04895042900056,49.11838660703295,49.18782278506536,49.257258963097755,49.32669514113015,49.39613131916255,49.465567497194954,49.535003675227344,49.60443985325975,49.673876031292146,49.74331220932454,49.81274838735694,49.88218456538934,49.95162074342174,50.02105692145414,50.09049309948654,50.159929277518934,50.22936545555133,50.29880163358373,50.36823781161613,50.43767398964853,50.50711016768093,50.57654634571333,50.64598252374572,50.71541870177812,50.784854879810524,50.85429105784292,50.92372723587532,50.99316341390772,51.06259959194011,51.13203576997252,51.201471948004915,51.27090812603731,51.34034430406972,51.409780482102114,51.479216660134504,51.54865283816691],\"xaxis\":\"x\",\"y\":[0.008384199783716892,0.008630079641418828,0.008869271643330685,0.009101750844073147,0.00932761421099325,0.009547076021909072,0.009760460993974963,0.009968195318720705,0.010170795829812373,0.010368857574828458,0.010563040099018489,0.010754052776586278,0.010942639542797263,0.011129563387786312,0.011315590970317842,0.011501477697247166,0.011687953592701049,0.011875710250974588,0.012065389130013832,0.012257571399510555,0.012452769510589037,0.012651420604426786,0.012853881826531875,0.01306042756338294,0.013271248570195002,0.013486452914047115,0.013706068616634752,0.013930047846426596,0.014158272481697348,0.014390560844219535,0.014626675388522439,0.014866331123515191,0.01510920454166001,0.015354942835310382,0.015603173189669629,0.01585351195632779,0.01610557352965737,0.01635897876959575,0.016613362837607636,0.01686838233701376,0.01712372167355961,0.01737909857631691,0.017634268742092993,0.017889029587932252,0.018143223115580667,0.018396737908657132,0.018649510297542138,0.01890152473858605,0.019152813463190352,0.01940345545875049,0.019653574847561875,0.01990333873184342,0.02015295457331125,0.020402667174560334,0.020652755327199065,0.02090352818855159,0.021155321445072883,0.021408493316685324,0.021663420452247055,0.021920493762490896,0.0221801142331446,0.022442688757652717,0.02270862602599081,0.02297833250350499,0.02325220853147584,0.02353064457913323,0.023814017675047143,0.024102688044093417,0.024396995974423304,0.024697258936968412,0.02500376897786591,0.025316790401740633,0.02563655776094819,0.02596327416265703,0.026297109901992986,0.0266382014254441,0.0269866506243514,0.027342524453686713,0.027705854866551822,0.028076639050038626,0.028454839943418797,0.028840387015241335,0.029233177271945597,0.02963307646722591,0.03003992047872132,0.030453516816804468,0.03087364622938188,0.031300064366779796,0.03173250347199892,0.032170674063882146,0.03261426658400266,0.03306295298226286,0.03351638822118649,0.033974211684506615,0.03443604848174831,0.03490151064682387,0.03537019823501914,0.03584170032887432,0.036315595969143154,0.03679145503202111,0.03726883907795708,0.03774730220042815,0.03822639190492813,0.038705650049002324,0.03918461387337731,0.039662817152125496,0.04013979148637554,0.04061506776146206,0.04108817778171927,0.04155865609057984,0.042026041976421985,0.04248988165700221,0.042949730627547755,0.0434051561499476,0.04385573985323513,0.04430108040895331,0.04474079623925625,0.045174528210940736,0.04560194226517072,0.04602273193056654,0.046436620666676046,0.046843363985622374,0.04724275130193272,0.04763460746412069,0.048018793926414303,0.04839520952496264,0.04876379082975009,0.049124512051097094,0.04947738448786821,0.04982245551309839,0.050159807101527974,0.05048955391228217,0.05081184094848589,0.05112684082379532,0.051434750673508965,0.05173578875497565,0.05203019078832002,0.05231820609397759,0.05260009358808495,0.05287611770033298,0.05314654428140285,0.05341163656851191,0.05367165127783601,0.05392683489161593,0.05417742020552384,0.054423623198369846,0.05466564028140005,0.05490364597829256,0.055137791079515656,0.05536820130600261,0.05559497650720571,0.055818190407649224,0.05603789090426021,0.05625410090424313,0.05646681968033456,0.05667602470724509,0.05688167393031717,0.05708370840526574,0.0572820552367582,0.057476630733898804,0.057667343692839726,0.05785409871110343,0.058036799435084704,0.05821535164187942,0.05838966605921878,0.058559660832978866,0.05872526356042804,0.05888641281897582,0.05904305913440545,0.05919516534907855,0.059342706368919494,0.059485668287573554,0.05962404690636976,0.05975784568894901,0.05988707320894109,0.060011740167237135,0.06013185607153639,0.06024742568438184,0.060358445356337116,0.060464899367892976,0.06056675640686515,0.060663966307309955,0.060756457171341344,0.0608441329868026,0.06092687184182059,0.061004524822176893,0.06107691565970907,0.06114384118009394,0.061205072577020916,0.06126035751753806,0.06130942306090913,0.061351979351252695,0.06138772402312806,0.06141634723962955,0.06143753726484461,0.061450986457153335,0.061456397557035226,0.06145349013302162,0.06144200704233174,0.06142172075858084,0.061392439417786854,0.061354012435642515,0.061306335553623324,0.061249355178823066,0.06118307189235377,0.06110754301357601,0.06102288412220742,0.060929269457343734,0.060826931131480154,0.06071615711854235,0.06059728799757876,0.060470712457838395,0.060336861596238994,0.06019620206433977,0.06004922814850275,0.059896452893476476,0.05973839840562788,0.059575585496905795,0.05940852285366066,0.05923769593501744,0.05906355582287254,0.05888650825906677,0.058706903114241225,0.05852502453666626,0.05834108202750405,0.05815520268110416,0.057967424814847505,0.05777769319269157,0.05758585602007812,0.057391663855597345,0.057194770547310154,0.05699473625965452,0.056791032611354764,0.056583049896775844,0.05637010631395779,0.05615145907341517,0.055926317214069446,0.05569385590772977,0.05545323199269253,0.0552036004414941,0.05494413143873813,0.05467402772315177,0.05439254183431836,0.05409899289939442,0.053792782598802207,0.05347340996239081,0.05314048466861569,0.05279373854845027,0.05243303503222611,0.05205837632055412,0.051669908108766524,0.051267921746741225,0.05085285377120394,0.0504252828042573,0.04998592386859833,0.04953562022523736,0.04907533289227474,0.048606128052130854,0.048129162598529375,0.047645668112495855,0.04715693358787972,0.04666428725081982,0.04616907783370369,0.045672655672280175,0.045176353994601154,0.04468147076251126,0.04418925141076323,0.04370087280594909,0.04321742871790444,0.042739917060782236,0.0422692291204332,0.04180614094001079,0.041351306987820635,0.04090525618144162,0.04046839029111814,0.040040984694495775,0.03962319140500537,0.039215044248715386,0.03881646602022853,0.03842727740821609,0.03804720744626985,0.037675905215707996,0.03731295250441799,0.03695787711024503,0.036610166469189576,0.0362692812879449,0.03593466886706555,0.03560577581515816,0.03528205987556682,0.03496300061456012,0.03464810875332847,0.034336933964334036,0.034029070994748264,0.03372416402478756,0.03342190921555565,0.033122055448321405,0.03282440330377004,0.03252880237445254,0.03223514704528616,0.03194337091442953,0.031653440059243546,0.03136534537853218,0.03107909426220755,0.030794701852496983,0.03051218216656023,0.030231539348881124,0.029952759313215668,0.029675802018582116,0.02940059460233781,0.02912702556651096,0.02885494018211551,0.02858413724112775,0.02831436724819847,0.028045332105087466,0.02777668630132712,0.02750803958580382,0.027238961056793475,0.026968984573394923,0.026697615360081077,0.026424337648893202,0.026148623181156103,0.02586994037287731,0.025587763935420005,0.025301584735694913,0.0250109196779336,0.024715321391899577,0.024414387519869733,0.024107769406490655,0.023795180011218584,0.023476400881983734,0.02315128805042259,0.02281977673293311,0.022481884747354637,0.022137714581700992,0.021787454078520917,0.02143137572563027,0.02106983457064661,0.020703264802518943,0.020332175067661277,0.01995714261099058,0.01957880635278954,0.019197859030561187,0.018815038550639998,0.018431118707042254,0.018046899434686854,0.017663196770543784,0.01728083269936584,0.016900625060383673,0.016523377687684714,0.016149870950027907,0.015780852845676725,0.015417030794664971,0.01505906425499349,0.014707558270911393,0.014363058041055254,0.01402604457224074,0.013696931461615535,0.013376062826226743,0.013063712375376567,0.012760083598013422,0.012465311015382554,0.012179462428788328,0.011902542074086973,0.01163449457888143,0.011375209605696835,0.011124527054951197,0.010882242695503202,0.010648114088028189,0.010421866667431329,0.01020319985482472,0.009991793077043678,0.009787311581932788,0.009589411950293478,0.009397747219978629,0.009211971553625384,0.009031744398381088,0.008856734103141124,0.008686620975719492,0.00852109977849636,0.008359881675948118,0.00820269566065207,0.008049289495531554,0.007899430219017076,0.007752904266284745,0.0076095172637364455,0.0074690935554378455,0.007331475519456196,0.0071965227291453625,0.00706411100969247,0.006934131434003218,0.006806489294640899,0.006681103080458321,0.006557903478179909,0.006436832410917038,0.006317842117812308,0.006200894272050992,0.00608595912864589,0.005973014688917961,0.00586204586562517,0.00575304363131489,0.005646004132701569,0.005540927755635128,0.005437818128388072,0.005336681055355887,0.005237523378580691,0.005140351770484562,0.005045171467514805,0.004951984960728508,0.0048607906653470095,0.004771581596676927,0.004684344084239632,0.004599056559229909,0.004515688452343381,0.004434199239440966,0.004354537671383733,0.004276641221675322,0.00420043578135393,0.004125835625012234,0.004052743665077679,0.00398105200379425,0.003910642783987819,0.0038413893309736332,0.003773157569198889,0.003705807688727862,0.0036391960287830154,0.0035731771385443256,0.003507605969533585,0.0034423401493823185,0.0033772422837608637,0.0033121822318328037,0.003247039300836948,0.003181704307268574,0.003116081455556229,0.0030500899899793695,0.002983665581665176,0.0029167614196233733,0.0028493489826742365,0.002781418477530999,0.002712978936932378,0.00264405798030867,0.0025747012477390935,0.002504971525672883,0.002434947589826467,0.002364722796651243,0.00229440345964872,0.0022241070504949376,0.002153960267366956,0.0020840970140323578,0.0020146563331970616,0.0019457803363775068,0.0018776121702730123,0.001810294056393084,0.001743965436696521,0.0016787612533914718,0.001614810386005686,0.001552234263543865,0.0014911456641783015,0.0014316477096389094,0.0013738330564287875,0.0013177832813288794,0.001263568454481206,0.0012112468897457756,0.0011608650590766386,0.001112457655396737,0.0010660477868857658,0.0010216472847192756,0.0009792571060815581,0.0009388678146661019,0.000900460121808994,0.0008640054727881853,0.0008294666645725698,0.0007967984833179588,0.0007659483520786534,0.0007368569814284055,0.0007094590178641708,0.0006836836869061373,0.0006594554296258118,0.000636694532861036,0.000615317754557966,0.0005952389464784404,0.0005763696769071387,0.0005586198559861601,0.0005418983659122322,0.0005261136974886403,0.0005111745934799042,0.0004969906979360851,0.0004834732092086553,0.00047053553285235914,0.00045809392908188,0.00044606814801251434,0.00043438204464133043,0.0004229641644922407,0.0004117482901177827,0.0004006739382710924,0.00038968679756759946,0.00037873909686349564,0.00036778989538669435,0.000356805286846707,0.0003457585112877579,0.0003346299702841595],\"yaxis\":\"y\",\"type\":\"scatter\",\"fill\":\"tozeroy\",\"hovertemplate\":\"<b>Synthetic</b><br>Value: %{x}<br>Frequency: %{y}<extra></extra>\"}],                        {\"barmode\":\"overlay\",\"hovermode\":\"closest\",\"legend\":{\"traceorder\":\"reversed\"},\"xaxis\":{\"anchor\":\"y2\",\"domain\":[0.0,1.0],\"zeroline\":false,\"title\":{\"text\":\"Value\"}},\"yaxis\":{\"anchor\":\"free\",\"domain\":[0.0,1],\"position\":0.0,\"title\":{\"text\":\"Frequency\"}},\"template\":{\"data\":{\"histogram2dcontour\":[{\"type\":\"histogram2dcontour\",\"colorbar\":{\"outlinewidth\":0,\"ticks\":\"\"},\"colorscale\":[[0.0,\"#0d0887\"],[0.1111111111111111,\"#46039f\"],[0.2222222222222222,\"#7201a8\"],[0.3333333333333333,\"#9c179e\"],[0.4444444444444444,\"#bd3786\"],[0.5555555555555556,\"#d8576b\"],[0.6666666666666666,\"#ed7953\"],[0.7777777777777778,\"#fb9f3a\"],[0.8888888888888888,\"#fdca26\"],[1.0,\"#f0f921\"]]}],\"choropleth\":[{\"type\":\"choropleth\",\"colorbar\":{\"outlinewidth\":0,\"ticks\":\"\"}}],\"histogram2d\":[{\"type\":\"histogram2d\",\"colorbar\":{\"outlinewidth\":0,\"ticks\":\"\"},\"colorscale\":[[0.0,\"#0d0887\"],[0.1111111111111111,\"#46039f\"],[0.2222222222222222,\"#7201a8\"],[0.3333333333333333,\"#9c179e\"],[0.4444444444444444,\"#bd3786\"],[0.5555555555555556,\"#d8576b\"],[0.6666666666666666,\"#ed7953\"],[0.7777777777777778,\"#fb9f3a\"],[0.8888888888888888,\"#fdca26\"],[1.0,\"#f0f921\"]]}],\"heatmap\":[{\"type\":\"heatmap\",\"colorbar\":{\"outlinewidth\":0,\"ticks\":\"\"},\"colorscale\":[[0.0,\"#0d0887\"],[0.1111111111111111,\"#46039f\"],[0.2222222222222222,\"#7201a8\"],[0.3333333333333333,\"#9c179e\"],[0.4444444444444444,\"#bd3786\"],[0.5555555555555556,\"#d8576b\"],[0.6666666666666666,\"#ed7953\"],[0.7777777777777778,\"#fb9f3a\"],[0.8888888888888888,\"#fdca26\"],[1.0,\"#f0f921\"]]}],\"heatmapgl\":[{\"type\":\"heatmapgl\",\"colorbar\":{\"outlinewidth\":0,\"ticks\":\"\"},\"colorscale\":[[0.0,\"#0d0887\"],[0.1111111111111111,\"#46039f\"],[0.2222222222222222,\"#7201a8\"],[0.3333333333333333,\"#9c179e\"],[0.4444444444444444,\"#bd3786\"],[0.5555555555555556,\"#d8576b\"],[0.6666666666666666,\"#ed7953\"],[0.7777777777777778,\"#fb9f3a\"],[0.8888888888888888,\"#fdca26\"],[1.0,\"#f0f921\"]]}],\"contourcarpet\":[{\"type\":\"contourcarpet\",\"colorbar\":{\"outlinewidth\":0,\"ticks\":\"\"}}],\"contour\":[{\"type\":\"contour\",\"colorbar\":{\"outlinewidth\":0,\"ticks\":\"\"},\"colorscale\":[[0.0,\"#0d0887\"],[0.1111111111111111,\"#46039f\"],[0.2222222222222222,\"#7201a8\"],[0.3333333333333333,\"#9c179e\"],[0.4444444444444444,\"#bd3786\"],[0.5555555555555556,\"#d8576b\"],[0.6666666666666666,\"#ed7953\"],[0.7777777777777778,\"#fb9f3a\"],[0.8888888888888888,\"#fdca26\"],[1.0,\"#f0f921\"]]}],\"surface\":[{\"type\":\"surface\",\"colorbar\":{\"outlinewidth\":0,\"ticks\":\"\"},\"colorscale\":[[0.0,\"#0d0887\"],[0.1111111111111111,\"#46039f\"],[0.2222222222222222,\"#7201a8\"],[0.3333333333333333,\"#9c179e\"],[0.4444444444444444,\"#bd3786\"],[0.5555555555555556,\"#d8576b\"],[0.6666666666666666,\"#ed7953\"],[0.7777777777777778,\"#fb9f3a\"],[0.8888888888888888,\"#fdca26\"],[1.0,\"#f0f921\"]]}],\"mesh3d\":[{\"type\":\"mesh3d\",\"colorbar\":{\"outlinewidth\":0,\"ticks\":\"\"}}],\"scatter\":[{\"fillpattern\":{\"fillmode\":\"overlay\",\"size\":10,\"solidity\":0.2},\"type\":\"scatter\"}],\"parcoords\":[{\"type\":\"parcoords\",\"line\":{\"colorbar\":{\"outlinewidth\":0,\"ticks\":\"\"}}}],\"scatterpolargl\":[{\"type\":\"scatterpolargl\",\"marker\":{\"colorbar\":{\"outlinewidth\":0,\"ticks\":\"\"}}}],\"bar\":[{\"error_x\":{\"color\":\"#2a3f5f\"},\"error_y\":{\"color\":\"#2a3f5f\"},\"marker\":{\"line\":{\"color\":\"#E5ECF6\",\"width\":0.5},\"pattern\":{\"fillmode\":\"overlay\",\"size\":10,\"solidity\":0.2}},\"type\":\"bar\"}],\"scattergeo\":[{\"type\":\"scattergeo\",\"marker\":{\"colorbar\":{\"outlinewidth\":0,\"ticks\":\"\"}}}],\"scatterpolar\":[{\"type\":\"scatterpolar\",\"marker\":{\"colorbar\":{\"outlinewidth\":0,\"ticks\":\"\"}}}],\"histogram\":[{\"marker\":{\"pattern\":{\"fillmode\":\"overlay\",\"size\":10,\"solidity\":0.2}},\"type\":\"histogram\"}],\"scattergl\":[{\"type\":\"scattergl\",\"marker\":{\"colorbar\":{\"outlinewidth\":0,\"ticks\":\"\"}}}],\"scatter3d\":[{\"type\":\"scatter3d\",\"line\":{\"colorbar\":{\"outlinewidth\":0,\"ticks\":\"\"}},\"marker\":{\"colorbar\":{\"outlinewidth\":0,\"ticks\":\"\"}}}],\"scattermapbox\":[{\"type\":\"scattermapbox\",\"marker\":{\"colorbar\":{\"outlinewidth\":0,\"ticks\":\"\"}}}],\"scatterternary\":[{\"type\":\"scatterternary\",\"marker\":{\"colorbar\":{\"outlinewidth\":0,\"ticks\":\"\"}}}],\"scattercarpet\":[{\"type\":\"scattercarpet\",\"marker\":{\"colorbar\":{\"outlinewidth\":0,\"ticks\":\"\"}}}],\"carpet\":[{\"aaxis\":{\"endlinecolor\":\"#2a3f5f\",\"gridcolor\":\"white\",\"linecolor\":\"white\",\"minorgridcolor\":\"white\",\"startlinecolor\":\"#2a3f5f\"},\"baxis\":{\"endlinecolor\":\"#2a3f5f\",\"gridcolor\":\"white\",\"linecolor\":\"white\",\"minorgridcolor\":\"white\",\"startlinecolor\":\"#2a3f5f\"},\"type\":\"carpet\"}],\"table\":[{\"cells\":{\"fill\":{\"color\":\"#EBF0F8\"},\"line\":{\"color\":\"white\"}},\"header\":{\"fill\":{\"color\":\"#C8D4E3\"},\"line\":{\"color\":\"white\"}},\"type\":\"table\"}],\"barpolar\":[{\"marker\":{\"line\":{\"color\":\"#E5ECF6\",\"width\":0.5},\"pattern\":{\"fillmode\":\"overlay\",\"size\":10,\"solidity\":0.2}},\"type\":\"barpolar\"}],\"pie\":[{\"automargin\":true,\"type\":\"pie\"}]},\"layout\":{\"autotypenumbers\":\"strict\",\"colorway\":[\"#636efa\",\"#EF553B\",\"#00cc96\",\"#ab63fa\",\"#FFA15A\",\"#19d3f3\",\"#FF6692\",\"#B6E880\",\"#FF97FF\",\"#FECB52\"],\"font\":{\"color\":\"#2a3f5f\"},\"hovermode\":\"closest\",\"hoverlabel\":{\"align\":\"left\"},\"paper_bgcolor\":\"white\",\"plot_bgcolor\":\"#E5ECF6\",\"polar\":{\"bgcolor\":\"#E5ECF6\",\"angularaxis\":{\"gridcolor\":\"white\",\"linecolor\":\"white\",\"ticks\":\"\"},\"radialaxis\":{\"gridcolor\":\"white\",\"linecolor\":\"white\",\"ticks\":\"\"}},\"ternary\":{\"bgcolor\":\"#E5ECF6\",\"aaxis\":{\"gridcolor\":\"white\",\"linecolor\":\"white\",\"ticks\":\"\"},\"baxis\":{\"gridcolor\":\"white\",\"linecolor\":\"white\",\"ticks\":\"\"},\"caxis\":{\"gridcolor\":\"white\",\"linecolor\":\"white\",\"ticks\":\"\"}},\"coloraxis\":{\"colorbar\":{\"outlinewidth\":0,\"ticks\":\"\"}},\"colorscale\":{\"sequential\":[[0.0,\"#0d0887\"],[0.1111111111111111,\"#46039f\"],[0.2222222222222222,\"#7201a8\"],[0.3333333333333333,\"#9c179e\"],[0.4444444444444444,\"#bd3786\"],[0.5555555555555556,\"#d8576b\"],[0.6666666666666666,\"#ed7953\"],[0.7777777777777778,\"#fb9f3a\"],[0.8888888888888888,\"#fdca26\"],[1.0,\"#f0f921\"]],\"sequentialminus\":[[0.0,\"#0d0887\"],[0.1111111111111111,\"#46039f\"],[0.2222222222222222,\"#7201a8\"],[0.3333333333333333,\"#9c179e\"],[0.4444444444444444,\"#bd3786\"],[0.5555555555555556,\"#d8576b\"],[0.6666666666666666,\"#ed7953\"],[0.7777777777777778,\"#fb9f3a\"],[0.8888888888888888,\"#fdca26\"],[1.0,\"#f0f921\"]],\"diverging\":[[0,\"#8e0152\"],[0.1,\"#c51b7d\"],[0.2,\"#de77ae\"],[0.3,\"#f1b6da\"],[0.4,\"#fde0ef\"],[0.5,\"#f7f7f7\"],[0.6,\"#e6f5d0\"],[0.7,\"#b8e186\"],[0.8,\"#7fbc41\"],[0.9,\"#4d9221\"],[1,\"#276419\"]]},\"xaxis\":{\"gridcolor\":\"white\",\"linecolor\":\"white\",\"ticks\":\"\",\"title\":{\"standoff\":15},\"zerolinecolor\":\"white\",\"automargin\":true,\"zerolinewidth\":2},\"yaxis\":{\"gridcolor\":\"white\",\"linecolor\":\"white\",\"ticks\":\"\",\"title\":{\"standoff\":15},\"zerolinecolor\":\"white\",\"automargin\":true,\"zerolinewidth\":2},\"scene\":{\"xaxis\":{\"backgroundcolor\":\"#E5ECF6\",\"gridcolor\":\"white\",\"linecolor\":\"white\",\"showbackground\":true,\"ticks\":\"\",\"zerolinecolor\":\"white\",\"gridwidth\":2},\"yaxis\":{\"backgroundcolor\":\"#E5ECF6\",\"gridcolor\":\"white\",\"linecolor\":\"white\",\"showbackground\":true,\"ticks\":\"\",\"zerolinecolor\":\"white\",\"gridwidth\":2},\"zaxis\":{\"backgroundcolor\":\"#E5ECF6\",\"gridcolor\":\"white\",\"linecolor\":\"white\",\"showbackground\":true,\"ticks\":\"\",\"zerolinecolor\":\"white\",\"gridwidth\":2}},\"shapedefaults\":{\"line\":{\"color\":\"#2a3f5f\"}},\"annotationdefaults\":{\"arrowcolor\":\"#2a3f5f\",\"arrowhead\":0,\"arrowwidth\":1},\"geo\":{\"bgcolor\":\"white\",\"landcolor\":\"#E5ECF6\",\"subunitcolor\":\"white\",\"showland\":true,\"showlakes\":true,\"lakecolor\":\"white\"},\"title\":{\"x\":0.05},\"mapbox\":{\"style\":\"light\"}}},\"title\":{\"text\":\"Real vs. Synthetic Data for column bmi\"},\"plot_bgcolor\":\"#F5F5F8\"},                        {\"responsive\": true}                    ).then(function(){\n",
              "                            \n",
              "var gd = document.getElementById('473d7660-94fb-4556-b5b8-04efb96f276c');\n",
              "var x = new MutationObserver(function (mutations, observer) {{\n",
              "        var display = window.getComputedStyle(gd).display;\n",
              "        if (!display || display === 'none') {{\n",
              "            console.log([gd, 'removed!']);\n",
              "            Plotly.purge(gd);\n",
              "            observer.disconnect();\n",
              "        }}\n",
              "}});\n",
              "\n",
              "// Listen for the removal of the full notebook cells\n",
              "var notebookContainer = gd.closest('#notebook-container');\n",
              "if (notebookContainer) {{\n",
              "    x.observe(notebookContainer, {childList: true});\n",
              "}}\n",
              "\n",
              "// Listen for the clearing of the current output cell\n",
              "var outputEl = gd.closest('.output');\n",
              "if (outputEl) {{\n",
              "    x.observe(outputEl, {childList: true});\n",
              "}}\n",
              "\n",
              "                        })                };                            </script>        </div>\n",
              "</body>\n",
              "</html>"
            ]
          },
          "metadata": {}
        }
      ]
    },
    {
      "cell_type": "code",
      "source": [
        "fig = get_column_plot(\n",
        "    real_data=data_stroke,\n",
        "    synthetic_data=samples,\n",
        "    column_name='avg_glucose_level',\n",
        "    metadata=metadata\n",
        ")\n",
        "\n",
        "fig.show()"
      ],
      "metadata": {
        "colab": {
          "base_uri": "https://localhost:8080/",
          "height": 542
        },
        "id": "1mLLBS3Oyd5I",
        "outputId": "3ac9e205-1b01-4ef9-b200-0827aee4ed0b"
      },
      "execution_count": null,
      "outputs": [
        {
          "output_type": "display_data",
          "data": {
            "text/html": [
              "<html>\n",
              "<head><meta charset=\"utf-8\" /></head>\n",
              "<body>\n",
              "    <div>            <script src=\"https://cdnjs.cloudflare.com/ajax/libs/mathjax/2.7.5/MathJax.js?config=TeX-AMS-MML_SVG\"></script><script type=\"text/javascript\">if (window.MathJax && window.MathJax.Hub && window.MathJax.Hub.Config) {window.MathJax.Hub.Config({SVG: {font: \"STIX-Web\"}});}</script>                <script type=\"text/javascript\">window.PlotlyConfig = {MathJaxConfig: 'local'};</script>\n",
              "        <script src=\"https://cdn.plot.ly/plotly-2.18.2.min.js\"></script>                <div id=\"b0d40e21-6750-4b1e-ae8b-3b6bf35b7729\" class=\"plotly-graph-div\" style=\"height:525px; width:100%;\"></div>            <script type=\"text/javascript\">                                    window.PLOTLYENV=window.PLOTLYENV || {};                                    if (document.getElementById(\"b0d40e21-6750-4b1e-ae8b-3b6bf35b7729\")) {                    Plotly.newPlot(                        \"b0d40e21-6750-4b1e-ae8b-3b6bf35b7729\",                        [{\"legendgroup\":\"Real\",\"marker\":{\"color\":\"#000036\"},\"mode\":\"lines\",\"name\":\"Real\",\"showlegend\":true,\"x\":[56.11,56.54126,56.97252,57.40378,57.83504,58.2663,58.697559999999996,59.12882,59.56008,59.99134,60.4226,60.85386,61.28512,61.71638,62.147639999999996,62.5789,63.01016,63.44142,63.87268,64.30394,64.7352,65.16646,65.59772,66.02898,66.46024,66.8915,67.32276,67.75402,68.18528,68.61654,69.0478,69.47906,69.91032,70.34158,70.77284,71.2041,71.63536,72.06662,72.49788000000001,72.92914,73.3604,73.79166000000001,74.22292,74.65418,75.08544,75.5167,75.94796,76.37922,76.81048,77.24174,77.673,78.10426,78.53551999999999,78.96678,79.39804000000001,79.8293,80.26056,80.69182,81.12308,81.55434,81.9856,82.41686,82.84812,83.27938,83.71064,84.14189999999999,84.57316,85.00442,85.43568,85.86694,86.29820000000001,86.72946,87.16072,87.59198,88.02324,88.4545,88.88576,89.31702,89.74828,90.17954,90.61080000000001,91.04205999999999,91.47332,91.90458000000001,92.33583999999999,92.7671,93.19836000000001,93.62962,94.06088,94.49214,94.9234,95.35466,95.78592,96.21718,96.64844,97.0797,97.51096,97.94221999999999,98.37348,98.80474,99.23599999999999,99.66726,100.09852,100.52977999999999,100.96104,101.39229999999999,101.82356,102.25482,102.68608,103.11734,103.5486,103.97986,104.41112,104.84237999999999,105.27364,105.70490000000001,106.13615999999999,106.56742,106.99868000000001,107.42994,107.8612,108.29246,108.72372,109.15498,109.58624,110.0175,110.44876,110.88002,111.31128,111.74253999999999,112.1738,112.60506,113.03631999999999,113.46758,113.89883999999999,114.33009999999999,114.76136,115.19262,115.62388,116.05514,116.4864,116.91766,117.34891999999999,117.78018,118.21144000000001,118.64269999999999,119.07396,119.50522000000001,119.93647999999999,120.36774,120.79899999999999,121.23026,121.66152000000001,122.09278,122.52404,122.95530000000001,123.38656,123.81782,124.24908,124.68034,125.11160000000001,125.54286,125.97412,126.40538000000001,126.83664,127.2679,127.69916,128.13042000000002,128.56168,128.99294,129.42419999999998,129.85546,130.28672,130.71798,131.14924000000002,131.5805,132.01175999999998,132.44302,132.87428,133.30554,133.73680000000002,134.16806,134.59931999999998,135.03058,135.46184,135.8931,136.32436,136.75562,137.18688,137.61813999999998,138.0494,138.48066,138.91192,139.34318,139.77444,140.20569999999998,140.63696,141.06822,141.49948,141.93074000000001,142.362,142.79325999999998,143.22451999999998,143.65578,144.08704,144.5183,144.94956,145.38081999999997,145.81207999999998,146.24334,146.6746,147.10586,147.53712000000002,147.96838000000002,148.39964,148.83089999999999,149.26216,149.69342,150.12468,150.55594000000002,150.9872,151.41845999999998,151.84972,152.28098,152.71224,153.14350000000002,153.57476,154.00602,154.43728,154.86854,155.2998,155.73106,156.16232,156.59358,157.02483999999998,157.4561,157.88736,158.31862,158.74988000000002,159.18114,159.61239999999998,160.04366,160.47492,160.90618,161.33744000000002,161.7687,162.19995999999998,162.63121999999998,163.06248,163.49374,163.925,164.35626,164.78752,165.21877999999998,165.65004,166.0813,166.51256,166.94382,167.37508,167.80633999999998,168.2376,168.66886,169.10012,169.53138,169.96264,170.39389999999997,170.82515999999998,171.25642,171.68768,172.11894,172.5502,172.98145999999997,173.41272,173.84398,174.27524,174.7065,175.13776000000001,175.56902000000002,176.00028,176.43153999999998,176.8628,177.29406,177.72532,178.15658000000002,178.58784,179.01909999999998,179.45036,179.88162,180.31288,180.74414000000002,181.1754,181.60666,182.03791999999999,182.46918,182.90044,183.3317,183.76296,184.19421999999997,184.62547999999998,185.05674,185.488,185.91926,186.35052000000002,186.78178000000003,187.21304000000003,187.6443,188.07556,188.50682,188.93808,189.36934000000002,189.80060000000003,190.23185999999998,190.66312,191.09438,191.52564,191.95690000000002,192.38816000000003,192.81941999999998,193.25068,193.68194,194.1132,194.54446000000002,194.97572000000002,195.40698000000003,195.83823999999998,196.2695,196.70076,197.13202,197.56328000000002,197.99454000000003,198.42579999999998,198.85706,199.28832,199.71958,200.15084000000002,200.58210000000003,201.01335999999998,201.44462,201.87588,202.30714,202.7384,203.16966000000002,203.60091999999997,204.03217999999998,204.46344,204.8947,205.32596,205.75722000000002,206.18848000000003,206.61973999999998,207.051,207.48226,207.91352,208.34478000000001,208.77604000000002,209.20729999999998,209.63855999999998,210.06982,210.50108,210.93234,211.36360000000002,211.79485999999997,212.22611999999998,212.65738,213.08864,213.5199,213.95116000000002,214.38241999999997,214.81367999999998,215.24493999999999,215.6762,216.10746,216.53872,216.96998000000002,217.40123999999997,217.83249999999998,218.26376,218.69502,219.12628,219.55754000000002,219.98879999999997,220.42005999999998,220.85132,221.28258,221.71384,222.1451,222.57635999999997,223.00761999999997,223.43887999999998,223.87014,224.3014,224.73266,225.16391999999996,225.59517999999997,226.02643999999998,226.4577,226.88896,227.32022,227.75148000000002,228.18273999999997,228.61399999999998,229.04525999999998,229.47652,229.90778,230.33904,230.77029999999996,231.20155999999997,231.63281999999998,232.06408,232.49534,232.9266,233.35785999999996,233.78911999999997,234.22037999999998,234.65164,235.0829,235.51416,235.94541999999996,236.37667999999996,236.80793999999997,237.23919999999998,237.67046,238.10172,238.53298,238.96424000000002,239.39550000000003,239.82676000000004,240.25802,240.68928,241.12054,241.55180000000001,241.98306000000002,242.41432000000003,242.84557999999998,243.27684,243.7081,244.13936,244.57062000000002,245.00188000000003,245.43313999999998,245.8644,246.29566,246.72692,247.15818000000002,247.58944000000002,248.02069999999998,248.45195999999999,248.88322,249.31448,249.74574,250.17700000000002,250.60826000000003,251.03951999999998,251.47078,251.90204,252.3333,252.76456000000002,253.19582000000003,253.62707999999998,254.05834,254.4896,254.92086,255.35212,255.78338000000002,256.21464,256.6459,257.07716,257.50842,257.93968,258.37094,258.80219999999997,259.23346,259.66472,260.09598,260.52724,260.9585,261.38976,261.82102,262.25228,262.68354,263.1148,263.54606,263.97732,264.40858,264.83984,265.2711,265.70236,266.13362,266.56488,266.99613999999997,267.4274,267.85866,268.28992,268.72118,269.15244,269.58369999999996,270.01496,270.44622,270.87748,271.30874],\"xaxis\":\"x\",\"y\":[0.004796570905481127,0.004879048601257489,0.0049615324293998475,0.005043979975550703,0.005126348420200573,0.005208594582681598,0.005290674965936663,0.005372545801986153,0.005454163098013336,0.005535482682987196,0.005616460254740747,0.00569705142742133,0.005777211779228766,0.005856896900356486,0.005936062441050225,0.006014664159698882,0.006092657970871767,0.0061699999932171715,0.0062466465971373255,0.006322554452155456,0.006397680573891895,0.006471982370566913,0.006545417688949691,0.00661794485967393,0.006689522741842801,0.006760110766847603,0.006829668981326715,0.006898158089193699,0.006965539492666088,0.007031775332228744,0.007096828525468756,0.007160662804721672,0.007223242753471951,0.00728453384145381,0.007344502458401926,0.0074031159464047975,0.007460342630817314,0.00751615184969238,0.007570513981695388,0.00762340047246881,0.007674783859418096,0.0077246377948937545,0.007772937067748243,0.007819657623250317,0.007864776581342893,0.007908272253234531,0.007950124156318426,0.007990313027416035,0.008028820834346648,0.00806563078582738,0.008100727339711613,0.008134096209577439,0.008165724369680775,0.008195600058291036,0.008223712779430417,0.008250053303040582,0.008274613663603568,0.008297387157246221,0.008318368337360108,0.008337553008771119,0.008354938220495316,0.008370522257119626,0.008384304628847684,0.008396286060253262,0.008406468477784835,0.008414854996066715,0.008421449903043018,0.008426258644012098,0.008429287804599804,0.008430545092720908,0.008430039319578406,0.00842778037975087,0.008423779230418576,0.008418047869778915,0.008410599314701811,0.008401447577675735,0.00839060764309442,0.00837809544293422,0.008363927831871521,0.008348122561888695,0.00833069825641665,0.008311674384061109,0.00829107123195878,0.008268909878808406,0.008245212167621016,0.008220000678232054,0.008193298699617147,0.008165130202051897,0.008135519809154735,0.008104492769850676,0.008072074930292059,0.00803829270577149,0.008003173052660281,0.007966743440404527,0.007929031823609453,0.007890066614241312,0.007849876653974469,0.007808491186710273,0.007765939831292639,0.007722252554444088,0.007677459643944503,0.0076315916820738966,0.007584679519338926,0.0075367542485018256,0.007487847178929363,0.007437989811278214,0.007387213812532093,0.0073355509914051166,0.007283033274124798,0.007229692680607251,0.007175561301036248,0.0071206712728572145,0.0070650547581962595,0.007008743921713727,0.006951770908901362,0.006894167824831161,0.006835966713363849,0.006777199536824179,0.006717898156149945,0.006658094311521061,0.0065978196034747845,0.0065371054745127066,0.006475983191204919,0.006414483826796415,0.006352638244320409,0.006290477080223299,0.006228030728505237,0.006165329325380665,0.006102402734462367,0.0060392805324727405,0.005975991995485568,0.005912566085701375,0.005849031438759333,0.0057854163515880935,0.005721748770798167,0.00565805628161761,0.005594366097372946,0.005530705049516709,0.0054670995782025306,0.0054035757234086506,0.00534015911661005,0.00527687497299903,0.005213748084253748,0.005150802811853545,0.005088063080939518,0.005025552374718246,0.0049632937294059095,0.004901309729709584,0.004839622504841735,0.004778253725063476,0.0047172245987512455,0.00465655586998108,0.004596267816623877,0.004536380248944243,0.00447691250869496,0.0044178834686981324,0.004359311532903586,0.004301214636913996,0.004243610248965807,0.004186515371354021,0.00412994654228818,0.004073919838166263,0.004018450876252333,0.003963554817743151,0.00390924637120816,0.003855539796386734,0.0038024489083257436,0.003749987081840028,0.003698167256277649,0.003647001940571359,0.0035965032185571355,0.0035466827545401537,0.003497551799088251,0.0034491211950323773,0.0034014013836534,0.0033544024110342785,0.0033081339345562657,0.0032626052295179372,0.0032178251958554856,0.0031738023649427395,0.0031305449064495086,0.0030880606352367344,0.0030463570182672206,0.003005441181510901,0.0029653199168237624,0.0029259996887800316,0.002887486641437408,0.002849786605015843,0.0028129051024705833,0.002776847355941033,0.002741618293057331,0.002707222553087489,0.0026736644929084303,0.002640948192785179,0.00260907746194325,0.002578055843920082,0.0025478866216823402,0.0025185728224968763,0.002490117222543983,0.0024625223512627394,0.002435790495419225,0.0024099237028893973,0.002384923786149609,0.002360792325468748,0.0023375306717971856,0.002315139949348758,0.0022936210578732383,0.0022729746746178075,0.0022532012559771937,0.002234301038833358,0.00221627404158653,0.002199120064880787,0.002182838692028176,0.002167429289136704,0.0021528910049483808,0.0021392227703946613,0.002126423297877593,0.0021144910802858804,0.002103424389756147,0.002093221276190449,0.002083879565542026,0.002075396857882078,0.0020677705252611198,0.0020609977093792057,0.002055075319080021,0.002050000027684414,0.0020457682701795865,0.002042376240280668,0.0020398198873818503,0.002038094913414757,0.002037196769632013,0.002037120653334331,0.0020378615045597336,0.002039414002753623,0.0020417725634387326,0.002044931334903855,0.0020488841949305604,0.0020536247475768286,0.002059146320036647,0.0020654419595944077,0.002072504430692787,0.002080326212132546,0.002088899494422435,0.0020982161772970524,0.0021082678674200924,0.0021190458762900466,0.00213054121836495,0.002142744609422177,0.002155646465168836,0.0021692369001176832,0.00218350572674278,0.0021984424549285875,0.0022140362917253014,0.0022302761414227,0.002247150605953864,0.0022646479856393586,0.002282756280281741,0.0023014631906192887,0.0023207561201470596,0.0023406221773125107,0.0023610481780919537,0.0023820206489532708,0.0024035258302093493,0.0024255496797658043,0.002448077877265544,0.002471095828631884,0.0024945886710108626,0.002518541278112601,0.002542938265950406,0.0025677639989756273,0.002593002596605099,0.0026186379401372524,0.0026446536800519686,0.002671033243688421,0.002697759843294198,0.0027248164844381854,0.0027521859747788196,0.0027798509331785253,0.002807793799154296,0.002835996842653716,0.002864442174144811,0.0028931117550075663,0.0029219874082141674,0.002951050829284399,0.0029802835975019986,0.003009667187377245,0.0030391829803403923,0.00306881227665019,0.0030985363075012157,0.0031283362473132105,0.0031581932261854242,0.0031880883424984844,0.0032180026756459764,0.0032479172988778534,0.0032778132922373074,0.0033076717555728364,0.0033374738216068603,0.0033672006690424,0.0033968335356890107,0.0034263537315894553,0.0034557426521284454,0.0034849817911049297,0.0035140527537495477,0.0035429372696690366,0.0035716172056995663,0.0036000745786512506,0.003628291567926387,0.003656250527994219,0.0036839340007055288,0.0037113247274306155,0.0037384056610047255,0.003765159977465426,0.003791571087566968,0.0038176226480570994,0.003843298572702449,0.003868583043049064,0.0038934605189053753,0.003917915748535393,0.003941933778550673,0.003965499963490055,0.003988599975077087,0.004011219811145516,0.0040333458042239876,0.004054964629771842,0.004076063314058455,0.0040966292416794855,0.004116650162703762,0.004136114199445681,0.004155009852858331,0.004173326008543308,0.004191051942374147,0.004208177325730628,0.004224692230342002,0.004240587132738062,0.0042558529183072446,0.004270480884961874,0.00428446274641122,0.004297790635043501,0.0043104571044187134,0.004322455131374651,0.004333778117749018,0.004344419891721039,0.004354374708776536,0.004363637252300838,0.004372202633804355,0.004380066392786117,0.004387224496240913,0.0043936733378160415,0.004399409736624155,0.004404430935718788,0.004408734600239651,0.004412318815234955,0.004415182083168297,0.00441732332111785,0.004418741857675835,0.004419437429556385,0.004419410177920128,0.004418660644423852,0.00441718976700389,0.004414998875401714,0.004412089686440555,0.004408464299061764,0.004404125189129684,0.004399075204013857,0.0043933175569573725,0.004386855821240185,0.004379693924146121,0.004371836140742365,0.004363287087480099,0.004354051715624847,0.004344135304525234,0.004333543454728481,0.004322282080951116,0.004310357404913146,0.004297775948043974,0.004284544524068007,0.004270670231478086,0.004256160445904497,0.0042410228123874235,0.004225265237560356,0.004208895881752071,0.004191923151014582,0.004174355689084248,0.0041562023692833195,0.0041374722863689005,0.004118174748336232,0.004098319268183183,0.004077915555642546,0.00405697350888881,0.004035503206225795,0.004013514897761568,0.003991018997076876,0.003968026072893215,0.0039445468407466,0.003920592154673022,0.003896172998911309,0.0038713004796292684,0.003845985816678691,0.0038202403353847663,0.0037940754583753768,0.0037675026974556196,0.0037405336455328814,0.0037131799685975624,0.0036854533977645496,0.003657365721380526,0.0036289287772018407,0.003600154444647878,0.0035710546371346065,0.003541641294492833,0.0035119263754757606,0.003481921850360203,0.003451639693645777,0.0034210918768562163,0.003390290361446945,0.0033592470918228953,0.0033279739884702893,0.003296482941206277,0.0032647858025499467,0.003232894381218171,0.003200820435749744,0.0031685756682608944,0.0031361717183353236,0.003103620157051722,0.003070932481151488,0.003038120107349362,0.0030051943667893724,0.0029721664996485687,0.002939047649890553,0.0029058488601709314,0.00287258106689654,0.0028392550954400124,0.0028058816555113514,0.0027724713366877414,0.002739034604102791,0.0027055817942962255,0.0026721231112248407,0.002638668622435338,0.0026052282553995073,0.0025718117940120807,0.0025384288752513472,0.002505088986002434,0.0024718014600431186,0.0024385754751916184,0.0024054200506159014,0.0023723440443037037,0.0023393561506923695,0.0023064648984573795,0.0022736786484584414,0.0022410055918416034,0.0022084537482959616,0.0021760309644632114,0.0021437449124981868,0.0021116030887784946,0.002079612812760997,0.0020477812259830732,0.0020161152912061267,0.001984621791698999,0.001953307330658624,0.0019221783307652772,0.0018912410338695626,0.0018605015008084068,0.001829965611346884,0.0017996390642430436,0.0017695273774324945,0.001739635888329614,0.001709969754242193,0.0016805339528961707,0.0016513332830672062,0.0016223723653156898,0.0015936556428218286,0.0015651873823174327,0.0015369716751109175,0.0015090124382022103,0.0014813134154840195,0.001453878179026136,0.0014267101304393341,0.0013998125023154952,0.0013731883597405722,0.0013468406018771043,0.001320771963612967,0.0012949850172731038,0.0012694821743910467,0.0012442656875370555,0.0012193376521998167,0.0011947000087185909,0.001170354544262936,0.0011463028948570163,0.0011225465474456885,0.0010990868419996306,0.0010759249736567984,0.0010530619948976084,0.001030498817751357,0.0010082362160313912,0.0009862748275967059,0.0009646151566376987,0.0009432575759838697,0.0009222023294314264,0.000901449534088728,0.0008809991827376886,0.0008608511462092922],\"yaxis\":\"y\",\"type\":\"scatter\",\"fill\":\"tozeroy\",\"hovertemplate\":\"<b>Real</b><br>Value: %{x}<br>Frequency: %{y}<extra></extra>\"},{\"legendgroup\":\"Synthetic\",\"marker\":{\"color\":\"#01E0C9\"},\"mode\":\"lines\",\"name\":\"Synthetic\",\"showlegend\":true,\"x\":[56.11,56.54126,56.97252,57.40378,57.83504,58.2663,58.697559999999996,59.12882,59.56008,59.99134,60.4226,60.85386,61.28512,61.71638,62.147639999999996,62.5789,63.01016,63.44142,63.87268,64.30394,64.7352,65.16646,65.59772,66.02898,66.46024,66.8915,67.32276,67.75402,68.18528,68.61654,69.0478,69.47906,69.91032,70.34158,70.77284,71.2041,71.63536,72.06662,72.49788000000001,72.92914,73.3604,73.79166000000001,74.22292,74.65418,75.08544,75.5167,75.94796,76.37922,76.81048,77.24174,77.673,78.10426,78.53551999999999,78.96678,79.39804000000001,79.8293,80.26056,80.69182,81.12308,81.55434,81.9856,82.41686,82.84812,83.27938,83.71064,84.14189999999999,84.57316,85.00442,85.43568,85.86694,86.29820000000001,86.72946,87.16072,87.59198,88.02324,88.4545,88.88576,89.31702,89.74828,90.17954,90.61080000000001,91.04205999999999,91.47332,91.90458000000001,92.33583999999999,92.7671,93.19836000000001,93.62962,94.06088,94.49214,94.9234,95.35466,95.78592,96.21718,96.64844,97.0797,97.51096,97.94221999999999,98.37348,98.80474,99.23599999999999,99.66726,100.09852,100.52977999999999,100.96104,101.39229999999999,101.82356,102.25482,102.68608,103.11734,103.5486,103.97986,104.41112,104.84237999999999,105.27364,105.70490000000001,106.13615999999999,106.56742,106.99868000000001,107.42994,107.8612,108.29246,108.72372,109.15498,109.58624,110.0175,110.44876,110.88002,111.31128,111.74253999999999,112.1738,112.60506,113.03631999999999,113.46758,113.89883999999999,114.33009999999999,114.76136,115.19262,115.62388,116.05514,116.4864,116.91766,117.34891999999999,117.78018,118.21144000000001,118.64269999999999,119.07396,119.50522000000001,119.93647999999999,120.36774,120.79899999999999,121.23026,121.66152000000001,122.09278,122.52404,122.95530000000001,123.38656,123.81782,124.24908,124.68034,125.11160000000001,125.54286,125.97412,126.40538000000001,126.83664,127.2679,127.69916,128.13042000000002,128.56168,128.99294,129.42419999999998,129.85546,130.28672,130.71798,131.14924000000002,131.5805,132.01175999999998,132.44302,132.87428,133.30554,133.73680000000002,134.16806,134.59931999999998,135.03058,135.46184,135.8931,136.32436,136.75562,137.18688,137.61813999999998,138.0494,138.48066,138.91192,139.34318,139.77444,140.20569999999998,140.63696,141.06822,141.49948,141.93074000000001,142.362,142.79325999999998,143.22451999999998,143.65578,144.08704,144.5183,144.94956,145.38081999999997,145.81207999999998,146.24334,146.6746,147.10586,147.53712000000002,147.96838000000002,148.39964,148.83089999999999,149.26216,149.69342,150.12468,150.55594000000002,150.9872,151.41845999999998,151.84972,152.28098,152.71224,153.14350000000002,153.57476,154.00602,154.43728,154.86854,155.2998,155.73106,156.16232,156.59358,157.02483999999998,157.4561,157.88736,158.31862,158.74988000000002,159.18114,159.61239999999998,160.04366,160.47492,160.90618,161.33744000000002,161.7687,162.19995999999998,162.63121999999998,163.06248,163.49374,163.925,164.35626,164.78752,165.21877999999998,165.65004,166.0813,166.51256,166.94382,167.37508,167.80633999999998,168.2376,168.66886,169.10012,169.53138,169.96264,170.39389999999997,170.82515999999998,171.25642,171.68768,172.11894,172.5502,172.98145999999997,173.41272,173.84398,174.27524,174.7065,175.13776000000001,175.56902000000002,176.00028,176.43153999999998,176.8628,177.29406,177.72532,178.15658000000002,178.58784,179.01909999999998,179.45036,179.88162,180.31288,180.74414000000002,181.1754,181.60666,182.03791999999999,182.46918,182.90044,183.3317,183.76296,184.19421999999997,184.62547999999998,185.05674,185.488,185.91926,186.35052000000002,186.78178000000003,187.21304000000003,187.6443,188.07556,188.50682,188.93808,189.36934000000002,189.80060000000003,190.23185999999998,190.66312,191.09438,191.52564,191.95690000000002,192.38816000000003,192.81941999999998,193.25068,193.68194,194.1132,194.54446000000002,194.97572000000002,195.40698000000003,195.83823999999998,196.2695,196.70076,197.13202,197.56328000000002,197.99454000000003,198.42579999999998,198.85706,199.28832,199.71958,200.15084000000002,200.58210000000003,201.01335999999998,201.44462,201.87588,202.30714,202.7384,203.16966000000002,203.60091999999997,204.03217999999998,204.46344,204.8947,205.32596,205.75722000000002,206.18848000000003,206.61973999999998,207.051,207.48226,207.91352,208.34478000000001,208.77604000000002,209.20729999999998,209.63855999999998,210.06982,210.50108,210.93234,211.36360000000002,211.79485999999997,212.22611999999998,212.65738,213.08864,213.5199,213.95116000000002,214.38241999999997,214.81367999999998,215.24493999999999,215.6762,216.10746,216.53872,216.96998000000002,217.40123999999997,217.83249999999998,218.26376,218.69502,219.12628,219.55754000000002,219.98879999999997,220.42005999999998,220.85132,221.28258,221.71384,222.1451,222.57635999999997,223.00761999999997,223.43887999999998,223.87014,224.3014,224.73266,225.16391999999996,225.59517999999997,226.02643999999998,226.4577,226.88896,227.32022,227.75148000000002,228.18273999999997,228.61399999999998,229.04525999999998,229.47652,229.90778,230.33904,230.77029999999996,231.20155999999997,231.63281999999998,232.06408,232.49534,232.9266,233.35785999999996,233.78911999999997,234.22037999999998,234.65164,235.0829,235.51416,235.94541999999996,236.37667999999996,236.80793999999997,237.23919999999998,237.67046,238.10172,238.53298,238.96424000000002,239.39550000000003,239.82676000000004,240.25802,240.68928,241.12054,241.55180000000001,241.98306000000002,242.41432000000003,242.84557999999998,243.27684,243.7081,244.13936,244.57062000000002,245.00188000000003,245.43313999999998,245.8644,246.29566,246.72692,247.15818000000002,247.58944000000002,248.02069999999998,248.45195999999999,248.88322,249.31448,249.74574,250.17700000000002,250.60826000000003,251.03951999999998,251.47078,251.90204,252.3333,252.76456000000002,253.19582000000003,253.62707999999998,254.05834,254.4896,254.92086,255.35212,255.78338000000002,256.21464,256.6459,257.07716,257.50842,257.93968,258.37094,258.80219999999997,259.23346,259.66472,260.09598,260.52724,260.9585,261.38976,261.82102,262.25228,262.68354,263.1148,263.54606,263.97732,264.40858,264.83984,265.2711,265.70236,266.13362,266.56488,266.99613999999997,267.4274,267.85866,268.28992,268.72118,269.15244,269.58369999999996,270.01496,270.44622,270.87748,271.30874],\"xaxis\":\"x\",\"y\":[0.0056528122552339235,0.005753637562897574,0.005852066481801125,0.005948005900329968,0.00604137261534508,0.006132093544089831,0.006220105871656729,0.006305357133706847,0.006387805234687761,0.006467418402343499,0.00654417507983818,0.0066180637573276455,0.006689082745296668,0.00675723989243467,0.006822552251243939,0.006885045694950026,0.006944754489629263,0.0070017208257550515,0.007055994313612167,0.007107631447227616,0.007156695041606086,0.007203253648161077,0.00724738095327143,0.007289155164894655,0.007328658392112473,0.007365976022387244,0.007401196101168925,0.00743440871830453,0.007465705405491163,0.0074951785487520324,0.007522920819640153,0.007549024628562744,0.007573581603292252,0.007596682095383537,0.007618414716862674,0.007638865909183312,0.0076581195460837395,0.007676256571606277,0.007693354674180685,0.007709487997322088,0.007724726887146817,0.007739137676593293,0.007752782505919348,0.007765719178768206,0.007778001052830482,0.0077896769638906346,0.007800791181837241,0.007811383397031182,0.00782148873527021,0.007831137799459159,0.007840356735995759,0.007849167323809999,0.00785758708394508,0.007865629407552917,0.00787330370017483,0.007880615540207839,0.0078875668495022,0.007894156074100912,0.007900378373215187,0.007906225814625889,0.00791168757480905,0.007916750142204854,0.007921397522174212,0.007925611442319819,0.00792937155698403,0.00793265564987414,0.007935439833898893,0.007937698747436472,0.007939405746380778,0.00794053309143842,0.007941052130263358,0.007940933474124513,0.007940147168899386,0.007938662860275576,0.007936449953119186,0.00793347776503529,0.007929715674198971,0.00792513326158172,0.007919700447728065,0.007913387624256548,0.00790616578027525,0.007898006623896841,0.007888882699032861,0.007878767497631167,0.007867635567493307,0.007855462615781739,0.007842225608289831,0.00782790286450676,0.0078124741484722725,0.007795920755364603,0.007778225593728492,0.007759373263199902,0.007739350127545527,0.007718144382794595,0.007695746120204801,0.00767214738377233,0.007647342221971975,0.0076213267333917045,0.00759409910591307,0.00756565964908507,0.007536010819337194,0.007505157237688979,0.00747310569962927,0.007439865176861328,0.00740544681064588,0.007369863896507957,0.007333131860124637,0.0072952682242577805,0.00725629256665978,0.007216226468937559,0.007175093456431118,0.0071329189292314195,0.007089730084537516,0.007045555830624671,0.007000426692772731,0.00695437471157764,0.006907433334142812,0.006859637298716714,0.00681102251341255,0.006761625929707912,0.0067114854114794465,0.006660639600382698,0.0066091277784287175,0.006556989728650396,0.0065042655947794735,0.006450995740877133,0.006397220611874843,0.00634298059598368,0.006288315889926102,0.006233266367928849,0.006177871455390776,0.006122170008106317,0.006066200197882074,0.006009999405333905,0.005953604120592426,0.005897049852577771,0.0058403710474329755,0.005783601016622487,0.005726771875121096,0.005669914490027679,0.005613058439844088,0.005556231984567448,0.005499462046643415,0.00544277420273354,0.005386192686151033,0.005329740399723867,0.005273438938750738,0.005217308623626751,0.005161368541627992,0.005105636597265903,0.005050129570546841,0.004994863182404686,0.00493985216651576,0.004885110346650384,0.004830650718676776,0.004776485536292974,0.00472262639954291,0.004669084345153833,0.004615869937728806,0.0045629933608301075,0.004510464507006267,0.0044582930658349515,0.004406488609089872,0.004355060672178837,0.0043040188310500575,0.004253372773822477,0.004203132366457474,0.004153307711863207,0.004103909201896242,0.004054947561807584,0.004006433886764805,0.003958379670168375,0.003910796823571392,0.0038636976881008737,0.0038170950373694204,0.003771002071955395,0.0037254324056173616,0.0036804000434911377,0.003635919352600357,0.0035920050250859512,0.003548672034630068,0.003505935586614798,0.0034638110626135778,0.0034223139598624636,0.0033814598264012238,0.00334126419260872,0.003301742499882112,0.0032629100272275197,0.0032247818165379617,0.00318737259733439,0.0031506967117379417,0.00311476804042495,0.0030795999302917158,0.003045205124524699,0.003011595695734218,0.002978782982763195,0.00294677753173451,0.0029155890418438284,0.0028852263163455178,0.0028556972191183232,0.002827008637129965,0.002799166449055253,0.002772175500233453,0.002746039584083269,0.002720761430028027,0.0026963426979165596,0.002672783978864955,0.0026500848023824197,0.00262824364958957,0.002607257972285485,0.002587124217572172,0.002567837857704194,0.0025493934247931707,0.0025317845499673777,0.0025150040065614427,0.002499043756891187,0.002483895002157506,0.002469548235014196,0.00245599329433393,0.002443219421710863,0.0024312153192464414,0.002419969208179024,0.0024094688879367737,0.0023997017952130653,0.002390655062690655,0.002382315577067075,0.002374670036064497,0.00236770500413747,0.0023614069666257433,0.002355762382130136,0.002350757732923739,0.002346379573241055,0.0023426145753186506,0.0023394495730902176,0.002336871603465013,0.002334867945143402,0.002333426154945126,0.0023325341016444115,0.002332179997321664,0.0023323524262545735,0.0023330403713802115,0.0023342332383662467,0.002335920877332422,0.0023380936022635974,0.0023407422081533694,0.0023438579859120855,0.0023474327350665072,0.0023514587742690355,0.002355928949624844,0.002360836640833616,0.0023661757651311835,0.0023719407790045643,0.0023781266776420145,0.002384728992069352,0.0023917437839138444,0.0023991676377287177,0.002406997650805521,0.0024152314203967863,0.002423867028270413,0.0024329030225179434,0.0024423383965429726,0.002452172565162841,0.0024624053377669936,0.0024730368884884127,0.002484067723360676,0.002495498644452772,0.0025073307109950978,0.002519565197535403,0.002532203549189555,0.0025452473340812744,0.002558698193095333,0.0025725577871001603,0.002586827741828542,0.0026015095906377324,0.00261660471540271,0.0026321142858286945,0.002648039197499346,0.002664380009006594,0.0026811368785349212,0.0026983095002972245,0.0027158970412409678,0.002733898078461119,0.002752310537770511,0.0027711316338879235,0.0027903578127101997,0.002809984696135023,0.0028300070298971696,0.00285041863487199,0.002871212362286408,0.002892380053257973,0.002913912503059868,0.0029357994304804007,0.002958029452613259,0.0029805900653775666,0.003003467630025737,0.0030266473658529854,0.0030501133492750977,0.0030738485193908204,0.0030978346900942984,0.003122052568748771,0.0031464817813799196,0.0031711009042922436,0.003195887501958683,0.003220818170980823,0.0032458685898661276,0.0032710135743196957,0.0032962271377024476,0.00332148255626468,0.003346752438725404,0.0033720087997332277,0.0033972231367151045,0.003422366509594126,0.003447409622838388,0.0034723229092889314,0.0034970766152064596,0.0035216408859742917,0.003545985851897786,0.0035700817135497272,0.0035938988261252805,0.0036174077822900457,0.0036405794930290986,0.003663385266034616,0.0036857968812030687,0.003707786662850553,0.003729327548295432,0.0037503931525013088,0.003770957828518709,0.0037909967235114452,0.0038104858302023524,0.003829402033620819,0.003847723153084453,0.0038654279793938137,0.003882496307266022,0.0038989089630771397,0.0039146478280253,0.003929695856864709,0.003944037092397018,0.003957656675937027,0.003970540853997578,0.003982676981461795,0.003994053521527754,0.004004660042725823,0.004014487213316155,0.004023526793378229,0.004031771624903224,0.004039215620193942,0.004045853748867378,0.004051682023739676,0.004056697485856423,0.00406089818890742,0.004064283183242161,0.004066852499672906,0.004068607133223855,0.004069549026952433,0.004069681055936898,0.00406900701149095,0.004067531585633071,0.004065260355805673,0.0040621997698074225,0.00405835713087237,0.004053740582801157,0.004048359095024527,0.004042222447456317,0.004035341214974146,0.004027726751350046,0.004019391172441525,0.00401034733844519,0.004000608835011971,0.003990189953022988,0.003979105666829695,0.003967371610771302,0.0039550040537948755,0.00394201987202069,0.003928436519115717,0.003914271994361946,0.003899544808333036,0.003884273946122358,0.0038684788280970513,0.003852179268186157,0.0038353954297456376,0.003818147779078649,0.0038004570367247514,0.0037823441266681117,0.0037638301236485945,0.0037449361987936785,0.0037256835638209227,0.0037060934140900983,0.0036861868708112687,0.003665984922739002,0.003645508367703603,0.0036247777543471243,0.0036038133244452827,0.0035826349562047034,0.0035612621089305767,0.003539713769458977,0.0035180084007449507,0.0034961638929882637,0.0034741975176665082,0.003452125884827312,0.0034299649039712735,0.00340772974883169,0.003385434826328504,0.003363093749942821,0.0033407193177226965,0.0033183234950940914,0.00329591740261149,0.0032735113087406526,0.003251114627723822,0.0032287359225340495,0.003206382912880484,0.003184062488182973,0.0031617807253898015,0.0031395429114693973,0.003117353570365044,0.0030952164941606777,0.0030731347781681965,0.003051110859609475,0.0030291465595337496,0.003007243127579829,0.0029854012891652733,0.002963621294661147,0.0029419029700903498,0.0029202457688714523,0.00289864882411798,0.0028771110009945056,0.002855630948628173,0.002834207151074079,0.0028128379768389425,0.0027915217264768265,0.0027702566777850794,0.002749041128147083,0.0027278734335918218,0.0027067520441671736,0.0026856755352559357,0.002664642634498254,0.0026436522440241835,0.002622703457742724,0.0026017955734795478,0.0025809280998054297,0.0025601007574488485,0.002539313475240614,0.002518566380594668,0.0024978597845864703,0.0024771941617495533,0.0024565701247696733,0.0024359883943150537,0.0024154497643004073,0.0023949550629389776,0.002374505109993478,0.0023541006706893244,0.002333742406804442,0.0023134308254963254,0.002293166226469576,0.0022729486481248362,0.002252777813361879,0.0022326530757362816,0.0022125733666880573,0.002192537144573849,0.0021725423462389815,0.0021525863418633147,0.0021326658938040166,0.002112777120139435,0.002092915463590892,0.002073075666463511,0.0020532517522028767,0.002033437014112438,0.002013624011716189,0.0019938045751837475,0.0019739698181606927,0.001954110159265824,0.0019342153524313677,0.0019142745261702533,0.001894276231760497,0.0018742085002381374,0.00185405890799139,0.0018338146506477599,0.0018134626248466883,0.0017929895173920542,0.0017723819011837858,0.001751626337237174,0.001730709482012718,0.001709618199200378,0.001688339675030904,0.001666861536123877,0.0016451719688293195,0.0016232598389769794,0.0016011148109158918,0.0015787274647074976,0.001556089410328014,0.0015331933977410523,0.0015100334217196347,0.0014866048203273502,0.0014629043660115161,0.001438930348316955,0.0014146826472959538,0.0013901627967681097,0.001365374036672326,0.0013403213538507712,0.0013150115107103029,0.001289453061319903],\"yaxis\":\"y\",\"type\":\"scatter\",\"fill\":\"tozeroy\",\"hovertemplate\":\"<b>Synthetic</b><br>Value: %{x}<br>Frequency: %{y}<extra></extra>\"}],                        {\"barmode\":\"overlay\",\"hovermode\":\"closest\",\"legend\":{\"traceorder\":\"reversed\"},\"xaxis\":{\"anchor\":\"y2\",\"domain\":[0.0,1.0],\"zeroline\":false,\"title\":{\"text\":\"Value\"}},\"yaxis\":{\"anchor\":\"free\",\"domain\":[0.0,1],\"position\":0.0,\"title\":{\"text\":\"Frequency\"}},\"template\":{\"data\":{\"histogram2dcontour\":[{\"type\":\"histogram2dcontour\",\"colorbar\":{\"outlinewidth\":0,\"ticks\":\"\"},\"colorscale\":[[0.0,\"#0d0887\"],[0.1111111111111111,\"#46039f\"],[0.2222222222222222,\"#7201a8\"],[0.3333333333333333,\"#9c179e\"],[0.4444444444444444,\"#bd3786\"],[0.5555555555555556,\"#d8576b\"],[0.6666666666666666,\"#ed7953\"],[0.7777777777777778,\"#fb9f3a\"],[0.8888888888888888,\"#fdca26\"],[1.0,\"#f0f921\"]]}],\"choropleth\":[{\"type\":\"choropleth\",\"colorbar\":{\"outlinewidth\":0,\"ticks\":\"\"}}],\"histogram2d\":[{\"type\":\"histogram2d\",\"colorbar\":{\"outlinewidth\":0,\"ticks\":\"\"},\"colorscale\":[[0.0,\"#0d0887\"],[0.1111111111111111,\"#46039f\"],[0.2222222222222222,\"#7201a8\"],[0.3333333333333333,\"#9c179e\"],[0.4444444444444444,\"#bd3786\"],[0.5555555555555556,\"#d8576b\"],[0.6666666666666666,\"#ed7953\"],[0.7777777777777778,\"#fb9f3a\"],[0.8888888888888888,\"#fdca26\"],[1.0,\"#f0f921\"]]}],\"heatmap\":[{\"type\":\"heatmap\",\"colorbar\":{\"outlinewidth\":0,\"ticks\":\"\"},\"colorscale\":[[0.0,\"#0d0887\"],[0.1111111111111111,\"#46039f\"],[0.2222222222222222,\"#7201a8\"],[0.3333333333333333,\"#9c179e\"],[0.4444444444444444,\"#bd3786\"],[0.5555555555555556,\"#d8576b\"],[0.6666666666666666,\"#ed7953\"],[0.7777777777777778,\"#fb9f3a\"],[0.8888888888888888,\"#fdca26\"],[1.0,\"#f0f921\"]]}],\"heatmapgl\":[{\"type\":\"heatmapgl\",\"colorbar\":{\"outlinewidth\":0,\"ticks\":\"\"},\"colorscale\":[[0.0,\"#0d0887\"],[0.1111111111111111,\"#46039f\"],[0.2222222222222222,\"#7201a8\"],[0.3333333333333333,\"#9c179e\"],[0.4444444444444444,\"#bd3786\"],[0.5555555555555556,\"#d8576b\"],[0.6666666666666666,\"#ed7953\"],[0.7777777777777778,\"#fb9f3a\"],[0.8888888888888888,\"#fdca26\"],[1.0,\"#f0f921\"]]}],\"contourcarpet\":[{\"type\":\"contourcarpet\",\"colorbar\":{\"outlinewidth\":0,\"ticks\":\"\"}}],\"contour\":[{\"type\":\"contour\",\"colorbar\":{\"outlinewidth\":0,\"ticks\":\"\"},\"colorscale\":[[0.0,\"#0d0887\"],[0.1111111111111111,\"#46039f\"],[0.2222222222222222,\"#7201a8\"],[0.3333333333333333,\"#9c179e\"],[0.4444444444444444,\"#bd3786\"],[0.5555555555555556,\"#d8576b\"],[0.6666666666666666,\"#ed7953\"],[0.7777777777777778,\"#fb9f3a\"],[0.8888888888888888,\"#fdca26\"],[1.0,\"#f0f921\"]]}],\"surface\":[{\"type\":\"surface\",\"colorbar\":{\"outlinewidth\":0,\"ticks\":\"\"},\"colorscale\":[[0.0,\"#0d0887\"],[0.1111111111111111,\"#46039f\"],[0.2222222222222222,\"#7201a8\"],[0.3333333333333333,\"#9c179e\"],[0.4444444444444444,\"#bd3786\"],[0.5555555555555556,\"#d8576b\"],[0.6666666666666666,\"#ed7953\"],[0.7777777777777778,\"#fb9f3a\"],[0.8888888888888888,\"#fdca26\"],[1.0,\"#f0f921\"]]}],\"mesh3d\":[{\"type\":\"mesh3d\",\"colorbar\":{\"outlinewidth\":0,\"ticks\":\"\"}}],\"scatter\":[{\"fillpattern\":{\"fillmode\":\"overlay\",\"size\":10,\"solidity\":0.2},\"type\":\"scatter\"}],\"parcoords\":[{\"type\":\"parcoords\",\"line\":{\"colorbar\":{\"outlinewidth\":0,\"ticks\":\"\"}}}],\"scatterpolargl\":[{\"type\":\"scatterpolargl\",\"marker\":{\"colorbar\":{\"outlinewidth\":0,\"ticks\":\"\"}}}],\"bar\":[{\"error_x\":{\"color\":\"#2a3f5f\"},\"error_y\":{\"color\":\"#2a3f5f\"},\"marker\":{\"line\":{\"color\":\"#E5ECF6\",\"width\":0.5},\"pattern\":{\"fillmode\":\"overlay\",\"size\":10,\"solidity\":0.2}},\"type\":\"bar\"}],\"scattergeo\":[{\"type\":\"scattergeo\",\"marker\":{\"colorbar\":{\"outlinewidth\":0,\"ticks\":\"\"}}}],\"scatterpolar\":[{\"type\":\"scatterpolar\",\"marker\":{\"colorbar\":{\"outlinewidth\":0,\"ticks\":\"\"}}}],\"histogram\":[{\"marker\":{\"pattern\":{\"fillmode\":\"overlay\",\"size\":10,\"solidity\":0.2}},\"type\":\"histogram\"}],\"scattergl\":[{\"type\":\"scattergl\",\"marker\":{\"colorbar\":{\"outlinewidth\":0,\"ticks\":\"\"}}}],\"scatter3d\":[{\"type\":\"scatter3d\",\"line\":{\"colorbar\":{\"outlinewidth\":0,\"ticks\":\"\"}},\"marker\":{\"colorbar\":{\"outlinewidth\":0,\"ticks\":\"\"}}}],\"scattermapbox\":[{\"type\":\"scattermapbox\",\"marker\":{\"colorbar\":{\"outlinewidth\":0,\"ticks\":\"\"}}}],\"scatterternary\":[{\"type\":\"scatterternary\",\"marker\":{\"colorbar\":{\"outlinewidth\":0,\"ticks\":\"\"}}}],\"scattercarpet\":[{\"type\":\"scattercarpet\",\"marker\":{\"colorbar\":{\"outlinewidth\":0,\"ticks\":\"\"}}}],\"carpet\":[{\"aaxis\":{\"endlinecolor\":\"#2a3f5f\",\"gridcolor\":\"white\",\"linecolor\":\"white\",\"minorgridcolor\":\"white\",\"startlinecolor\":\"#2a3f5f\"},\"baxis\":{\"endlinecolor\":\"#2a3f5f\",\"gridcolor\":\"white\",\"linecolor\":\"white\",\"minorgridcolor\":\"white\",\"startlinecolor\":\"#2a3f5f\"},\"type\":\"carpet\"}],\"table\":[{\"cells\":{\"fill\":{\"color\":\"#EBF0F8\"},\"line\":{\"color\":\"white\"}},\"header\":{\"fill\":{\"color\":\"#C8D4E3\"},\"line\":{\"color\":\"white\"}},\"type\":\"table\"}],\"barpolar\":[{\"marker\":{\"line\":{\"color\":\"#E5ECF6\",\"width\":0.5},\"pattern\":{\"fillmode\":\"overlay\",\"size\":10,\"solidity\":0.2}},\"type\":\"barpolar\"}],\"pie\":[{\"automargin\":true,\"type\":\"pie\"}]},\"layout\":{\"autotypenumbers\":\"strict\",\"colorway\":[\"#636efa\",\"#EF553B\",\"#00cc96\",\"#ab63fa\",\"#FFA15A\",\"#19d3f3\",\"#FF6692\",\"#B6E880\",\"#FF97FF\",\"#FECB52\"],\"font\":{\"color\":\"#2a3f5f\"},\"hovermode\":\"closest\",\"hoverlabel\":{\"align\":\"left\"},\"paper_bgcolor\":\"white\",\"plot_bgcolor\":\"#E5ECF6\",\"polar\":{\"bgcolor\":\"#E5ECF6\",\"angularaxis\":{\"gridcolor\":\"white\",\"linecolor\":\"white\",\"ticks\":\"\"},\"radialaxis\":{\"gridcolor\":\"white\",\"linecolor\":\"white\",\"ticks\":\"\"}},\"ternary\":{\"bgcolor\":\"#E5ECF6\",\"aaxis\":{\"gridcolor\":\"white\",\"linecolor\":\"white\",\"ticks\":\"\"},\"baxis\":{\"gridcolor\":\"white\",\"linecolor\":\"white\",\"ticks\":\"\"},\"caxis\":{\"gridcolor\":\"white\",\"linecolor\":\"white\",\"ticks\":\"\"}},\"coloraxis\":{\"colorbar\":{\"outlinewidth\":0,\"ticks\":\"\"}},\"colorscale\":{\"sequential\":[[0.0,\"#0d0887\"],[0.1111111111111111,\"#46039f\"],[0.2222222222222222,\"#7201a8\"],[0.3333333333333333,\"#9c179e\"],[0.4444444444444444,\"#bd3786\"],[0.5555555555555556,\"#d8576b\"],[0.6666666666666666,\"#ed7953\"],[0.7777777777777778,\"#fb9f3a\"],[0.8888888888888888,\"#fdca26\"],[1.0,\"#f0f921\"]],\"sequentialminus\":[[0.0,\"#0d0887\"],[0.1111111111111111,\"#46039f\"],[0.2222222222222222,\"#7201a8\"],[0.3333333333333333,\"#9c179e\"],[0.4444444444444444,\"#bd3786\"],[0.5555555555555556,\"#d8576b\"],[0.6666666666666666,\"#ed7953\"],[0.7777777777777778,\"#fb9f3a\"],[0.8888888888888888,\"#fdca26\"],[1.0,\"#f0f921\"]],\"diverging\":[[0,\"#8e0152\"],[0.1,\"#c51b7d\"],[0.2,\"#de77ae\"],[0.3,\"#f1b6da\"],[0.4,\"#fde0ef\"],[0.5,\"#f7f7f7\"],[0.6,\"#e6f5d0\"],[0.7,\"#b8e186\"],[0.8,\"#7fbc41\"],[0.9,\"#4d9221\"],[1,\"#276419\"]]},\"xaxis\":{\"gridcolor\":\"white\",\"linecolor\":\"white\",\"ticks\":\"\",\"title\":{\"standoff\":15},\"zerolinecolor\":\"white\",\"automargin\":true,\"zerolinewidth\":2},\"yaxis\":{\"gridcolor\":\"white\",\"linecolor\":\"white\",\"ticks\":\"\",\"title\":{\"standoff\":15},\"zerolinecolor\":\"white\",\"automargin\":true,\"zerolinewidth\":2},\"scene\":{\"xaxis\":{\"backgroundcolor\":\"#E5ECF6\",\"gridcolor\":\"white\",\"linecolor\":\"white\",\"showbackground\":true,\"ticks\":\"\",\"zerolinecolor\":\"white\",\"gridwidth\":2},\"yaxis\":{\"backgroundcolor\":\"#E5ECF6\",\"gridcolor\":\"white\",\"linecolor\":\"white\",\"showbackground\":true,\"ticks\":\"\",\"zerolinecolor\":\"white\",\"gridwidth\":2},\"zaxis\":{\"backgroundcolor\":\"#E5ECF6\",\"gridcolor\":\"white\",\"linecolor\":\"white\",\"showbackground\":true,\"ticks\":\"\",\"zerolinecolor\":\"white\",\"gridwidth\":2}},\"shapedefaults\":{\"line\":{\"color\":\"#2a3f5f\"}},\"annotationdefaults\":{\"arrowcolor\":\"#2a3f5f\",\"arrowhead\":0,\"arrowwidth\":1},\"geo\":{\"bgcolor\":\"white\",\"landcolor\":\"#E5ECF6\",\"subunitcolor\":\"white\",\"showland\":true,\"showlakes\":true,\"lakecolor\":\"white\"},\"title\":{\"x\":0.05},\"mapbox\":{\"style\":\"light\"}}},\"title\":{\"text\":\"Real vs. Synthetic Data for column avg_glucose_level\"},\"plot_bgcolor\":\"#F5F5F8\"},                        {\"responsive\": true}                    ).then(function(){\n",
              "                            \n",
              "var gd = document.getElementById('b0d40e21-6750-4b1e-ae8b-3b6bf35b7729');\n",
              "var x = new MutationObserver(function (mutations, observer) {{\n",
              "        var display = window.getComputedStyle(gd).display;\n",
              "        if (!display || display === 'none') {{\n",
              "            console.log([gd, 'removed!']);\n",
              "            Plotly.purge(gd);\n",
              "            observer.disconnect();\n",
              "        }}\n",
              "}});\n",
              "\n",
              "// Listen for the removal of the full notebook cells\n",
              "var notebookContainer = gd.closest('#notebook-container');\n",
              "if (notebookContainer) {{\n",
              "    x.observe(notebookContainer, {childList: true});\n",
              "}}\n",
              "\n",
              "// Listen for the clearing of the current output cell\n",
              "var outputEl = gd.closest('.output');\n",
              "if (outputEl) {{\n",
              "    x.observe(outputEl, {childList: true});\n",
              "}}\n",
              "\n",
              "                        })                };                            </script>        </div>\n",
              "</body>\n",
              "</html>"
            ]
          },
          "metadata": {}
        }
      ]
    },
    {
      "cell_type": "code",
      "source": [
        "# Combine data frames along the rows\n",
        "combined_df = pd.concat([orig_data, samples], ignore_index=True)\n",
        "\n",
        "# Shuffle the combined data frame randomly\n",
        "combined_df = combined_df.sample(frac=1).reset_index(drop=True)"
      ],
      "metadata": {
        "id": "BEaV4uD1DF-Y"
      },
      "execution_count": null,
      "outputs": []
    },
    {
      "cell_type": "code",
      "source": [
        "combined_df.head()"
      ],
      "metadata": {
        "colab": {
          "base_uri": "https://localhost:8080/",
          "height": 206
        },
        "id": "KqVTDN7zDkoW",
        "outputId": "110741e5-fd24-41d6-d560-eb9aaa6ba44c"
      },
      "execution_count": null,
      "outputs": [
        {
          "output_type": "execute_result",
          "data": {
            "text/plain": [
              "   gender        age  hypertension  heart_disease ever_married      work_type  \\\n",
              "0    Male   0.560000             0              0           No       children   \n",
              "1    Male  51.000000             1              0          Yes        Private   \n",
              "2    Male  19.000000             0              0           No        Private   \n",
              "3    Male  47.000000             0              0          Yes        Private   \n",
              "4  Female  81.323056             1              1           No  Self-employed   \n",
              "\n",
              "  Residence_type  avg_glucose_level        bmi   smoking_status  stroke  \n",
              "0          Rural          57.020000  20.700000          Unknown       0  \n",
              "1          Urban          76.100000  32.100000           smokes       0  \n",
              "2          Rural          86.190000  26.200000     never smoked       0  \n",
              "3          Rural         142.020000  30.000000          Unknown       0  \n",
              "4          Urban         108.525876  28.135116  formerly smoked       1  "
            ],
            "text/html": [
              "\n",
              "\n",
              "  <div id=\"df-40bf0d50-d0a0-45ce-a0c9-040035cd5128\">\n",
              "    <div class=\"colab-df-container\">\n",
              "      <div>\n",
              "<style scoped>\n",
              "    .dataframe tbody tr th:only-of-type {\n",
              "        vertical-align: middle;\n",
              "    }\n",
              "\n",
              "    .dataframe tbody tr th {\n",
              "        vertical-align: top;\n",
              "    }\n",
              "\n",
              "    .dataframe thead th {\n",
              "        text-align: right;\n",
              "    }\n",
              "</style>\n",
              "<table border=\"1\" class=\"dataframe\">\n",
              "  <thead>\n",
              "    <tr style=\"text-align: right;\">\n",
              "      <th></th>\n",
              "      <th>gender</th>\n",
              "      <th>age</th>\n",
              "      <th>hypertension</th>\n",
              "      <th>heart_disease</th>\n",
              "      <th>ever_married</th>\n",
              "      <th>work_type</th>\n",
              "      <th>Residence_type</th>\n",
              "      <th>avg_glucose_level</th>\n",
              "      <th>bmi</th>\n",
              "      <th>smoking_status</th>\n",
              "      <th>stroke</th>\n",
              "    </tr>\n",
              "  </thead>\n",
              "  <tbody>\n",
              "    <tr>\n",
              "      <th>0</th>\n",
              "      <td>Male</td>\n",
              "      <td>0.560000</td>\n",
              "      <td>0</td>\n",
              "      <td>0</td>\n",
              "      <td>No</td>\n",
              "      <td>children</td>\n",
              "      <td>Rural</td>\n",
              "      <td>57.020000</td>\n",
              "      <td>20.700000</td>\n",
              "      <td>Unknown</td>\n",
              "      <td>0</td>\n",
              "    </tr>\n",
              "    <tr>\n",
              "      <th>1</th>\n",
              "      <td>Male</td>\n",
              "      <td>51.000000</td>\n",
              "      <td>1</td>\n",
              "      <td>0</td>\n",
              "      <td>Yes</td>\n",
              "      <td>Private</td>\n",
              "      <td>Urban</td>\n",
              "      <td>76.100000</td>\n",
              "      <td>32.100000</td>\n",
              "      <td>smokes</td>\n",
              "      <td>0</td>\n",
              "    </tr>\n",
              "    <tr>\n",
              "      <th>2</th>\n",
              "      <td>Male</td>\n",
              "      <td>19.000000</td>\n",
              "      <td>0</td>\n",
              "      <td>0</td>\n",
              "      <td>No</td>\n",
              "      <td>Private</td>\n",
              "      <td>Rural</td>\n",
              "      <td>86.190000</td>\n",
              "      <td>26.200000</td>\n",
              "      <td>never smoked</td>\n",
              "      <td>0</td>\n",
              "    </tr>\n",
              "    <tr>\n",
              "      <th>3</th>\n",
              "      <td>Male</td>\n",
              "      <td>47.000000</td>\n",
              "      <td>0</td>\n",
              "      <td>0</td>\n",
              "      <td>Yes</td>\n",
              "      <td>Private</td>\n",
              "      <td>Rural</td>\n",
              "      <td>142.020000</td>\n",
              "      <td>30.000000</td>\n",
              "      <td>Unknown</td>\n",
              "      <td>0</td>\n",
              "    </tr>\n",
              "    <tr>\n",
              "      <th>4</th>\n",
              "      <td>Female</td>\n",
              "      <td>81.323056</td>\n",
              "      <td>1</td>\n",
              "      <td>1</td>\n",
              "      <td>No</td>\n",
              "      <td>Self-employed</td>\n",
              "      <td>Urban</td>\n",
              "      <td>108.525876</td>\n",
              "      <td>28.135116</td>\n",
              "      <td>formerly smoked</td>\n",
              "      <td>1</td>\n",
              "    </tr>\n",
              "  </tbody>\n",
              "</table>\n",
              "</div>\n",
              "      <button class=\"colab-df-convert\" onclick=\"convertToInteractive('df-40bf0d50-d0a0-45ce-a0c9-040035cd5128')\"\n",
              "              title=\"Convert this dataframe to an interactive table.\"\n",
              "              style=\"display:none;\">\n",
              "\n",
              "  <svg xmlns=\"http://www.w3.org/2000/svg\" height=\"24px\"viewBox=\"0 0 24 24\"\n",
              "       width=\"24px\">\n",
              "    <path d=\"M0 0h24v24H0V0z\" fill=\"none\"/>\n",
              "    <path d=\"M18.56 5.44l.94 2.06.94-2.06 2.06-.94-2.06-.94-.94-2.06-.94 2.06-2.06.94zm-11 1L8.5 8.5l.94-2.06 2.06-.94-2.06-.94L8.5 2.5l-.94 2.06-2.06.94zm10 10l.94 2.06.94-2.06 2.06-.94-2.06-.94-.94-2.06-.94 2.06-2.06.94z\"/><path d=\"M17.41 7.96l-1.37-1.37c-.4-.4-.92-.59-1.43-.59-.52 0-1.04.2-1.43.59L10.3 9.45l-7.72 7.72c-.78.78-.78 2.05 0 2.83L4 21.41c.39.39.9.59 1.41.59.51 0 1.02-.2 1.41-.59l7.78-7.78 2.81-2.81c.8-.78.8-2.07 0-2.86zM5.41 20L4 18.59l7.72-7.72 1.47 1.35L5.41 20z\"/>\n",
              "  </svg>\n",
              "      </button>\n",
              "\n",
              "\n",
              "\n",
              "    <div id=\"df-d2376268-14a2-4de5-8c34-77cd1dd107a4\">\n",
              "      <button class=\"colab-df-quickchart\" onclick=\"quickchart('df-d2376268-14a2-4de5-8c34-77cd1dd107a4')\"\n",
              "              title=\"Suggest charts.\"\n",
              "              style=\"display:none;\">\n",
              "\n",
              "<svg xmlns=\"http://www.w3.org/2000/svg\" height=\"24px\"viewBox=\"0 0 24 24\"\n",
              "     width=\"24px\">\n",
              "    <g>\n",
              "        <path d=\"M19 3H5c-1.1 0-2 .9-2 2v14c0 1.1.9 2 2 2h14c1.1 0 2-.9 2-2V5c0-1.1-.9-2-2-2zM9 17H7v-7h2v7zm4 0h-2V7h2v10zm4 0h-2v-4h2v4z\"/>\n",
              "    </g>\n",
              "</svg>\n",
              "      </button>\n",
              "    </div>\n",
              "\n",
              "<style>\n",
              "  .colab-df-quickchart {\n",
              "    background-color: #E8F0FE;\n",
              "    border: none;\n",
              "    border-radius: 50%;\n",
              "    cursor: pointer;\n",
              "    display: none;\n",
              "    fill: #1967D2;\n",
              "    height: 32px;\n",
              "    padding: 0 0 0 0;\n",
              "    width: 32px;\n",
              "  }\n",
              "\n",
              "  .colab-df-quickchart:hover {\n",
              "    background-color: #E2EBFA;\n",
              "    box-shadow: 0px 1px 2px rgba(60, 64, 67, 0.3), 0px 1px 3px 1px rgba(60, 64, 67, 0.15);\n",
              "    fill: #174EA6;\n",
              "  }\n",
              "\n",
              "  [theme=dark] .colab-df-quickchart {\n",
              "    background-color: #3B4455;\n",
              "    fill: #D2E3FC;\n",
              "  }\n",
              "\n",
              "  [theme=dark] .colab-df-quickchart:hover {\n",
              "    background-color: #434B5C;\n",
              "    box-shadow: 0px 1px 3px 1px rgba(0, 0, 0, 0.15);\n",
              "    filter: drop-shadow(0px 1px 2px rgba(0, 0, 0, 0.3));\n",
              "    fill: #FFFFFF;\n",
              "  }\n",
              "</style>\n",
              "\n",
              "    <script>\n",
              "      async function quickchart(key) {\n",
              "        const containerElement = document.querySelector('#' + key);\n",
              "        const charts = await google.colab.kernel.invokeFunction(\n",
              "            'suggestCharts', [key], {});\n",
              "      }\n",
              "    </script>\n",
              "\n",
              "      <script>\n",
              "\n",
              "function displayQuickchartButton(domScope) {\n",
              "  let quickchartButtonEl =\n",
              "    domScope.querySelector('#df-d2376268-14a2-4de5-8c34-77cd1dd107a4 button.colab-df-quickchart');\n",
              "  quickchartButtonEl.style.display =\n",
              "    google.colab.kernel.accessAllowed ? 'block' : 'none';\n",
              "}\n",
              "\n",
              "        displayQuickchartButton(document);\n",
              "      </script>\n",
              "      <style>\n",
              "    .colab-df-container {\n",
              "      display:flex;\n",
              "      flex-wrap:wrap;\n",
              "      gap: 12px;\n",
              "    }\n",
              "\n",
              "    .colab-df-convert {\n",
              "      background-color: #E8F0FE;\n",
              "      border: none;\n",
              "      border-radius: 50%;\n",
              "      cursor: pointer;\n",
              "      display: none;\n",
              "      fill: #1967D2;\n",
              "      height: 32px;\n",
              "      padding: 0 0 0 0;\n",
              "      width: 32px;\n",
              "    }\n",
              "\n",
              "    .colab-df-convert:hover {\n",
              "      background-color: #E2EBFA;\n",
              "      box-shadow: 0px 1px 2px rgba(60, 64, 67, 0.3), 0px 1px 3px 1px rgba(60, 64, 67, 0.15);\n",
              "      fill: #174EA6;\n",
              "    }\n",
              "\n",
              "    [theme=dark] .colab-df-convert {\n",
              "      background-color: #3B4455;\n",
              "      fill: #D2E3FC;\n",
              "    }\n",
              "\n",
              "    [theme=dark] .colab-df-convert:hover {\n",
              "      background-color: #434B5C;\n",
              "      box-shadow: 0px 1px 3px 1px rgba(0, 0, 0, 0.15);\n",
              "      filter: drop-shadow(0px 1px 2px rgba(0, 0, 0, 0.3));\n",
              "      fill: #FFFFFF;\n",
              "    }\n",
              "  </style>\n",
              "\n",
              "      <script>\n",
              "        const buttonEl =\n",
              "          document.querySelector('#df-40bf0d50-d0a0-45ce-a0c9-040035cd5128 button.colab-df-convert');\n",
              "        buttonEl.style.display =\n",
              "          google.colab.kernel.accessAllowed ? 'block' : 'none';\n",
              "\n",
              "        async function convertToInteractive(key) {\n",
              "          const element = document.querySelector('#df-40bf0d50-d0a0-45ce-a0c9-040035cd5128');\n",
              "          const dataTable =\n",
              "            await google.colab.kernel.invokeFunction('convertToInteractive',\n",
              "                                                     [key], {});\n",
              "          if (!dataTable) return;\n",
              "\n",
              "          const docLinkHtml = 'Like what you see? Visit the ' +\n",
              "            '<a target=\"_blank\" href=https://colab.research.google.com/notebooks/data_table.ipynb>data table notebook</a>'\n",
              "            + ' to learn more about interactive tables.';\n",
              "          element.innerHTML = '';\n",
              "          dataTable['output_type'] = 'display_data';\n",
              "          await google.colab.output.renderOutput(dataTable, element);\n",
              "          const docLink = document.createElement('div');\n",
              "          docLink.innerHTML = docLinkHtml;\n",
              "          element.appendChild(docLink);\n",
              "        }\n",
              "      </script>\n",
              "    </div>\n",
              "  </div>\n"
            ]
          },
          "metadata": {},
          "execution_count": 59
        }
      ]
    },
    {
      "cell_type": "code",
      "source": [
        "print(len(combined_df.query(\"stroke==1\")))"
      ],
      "metadata": {
        "colab": {
          "base_uri": "https://localhost:8080/"
        },
        "id": "ONKjY0MtDnU4",
        "outputId": "32750920-1ee1-466d-d45c-b7e99d6bf77d"
      },
      "execution_count": null,
      "outputs": [
        {
          "output_type": "stream",
          "name": "stdout",
          "text": [
            "4209\n"
          ]
        }
      ]
    },
    {
      "cell_type": "code",
      "source": [
        "print(len(combined_df.query(\"stroke==0\")))"
      ],
      "metadata": {
        "colab": {
          "base_uri": "https://localhost:8080/"
        },
        "id": "u9DHcSLUDws6",
        "outputId": "e295bae3-4444-4928-e8c6-d006f8946019"
      },
      "execution_count": null,
      "outputs": [
        {
          "output_type": "stream",
          "name": "stdout",
          "text": [
            "4700\n"
          ]
        }
      ]
    },
    {
      "cell_type": "markdown",
      "source": [
        "saving the file named as \"healthcare_dataset_stroke_data_synthetic\""
      ],
      "metadata": {
        "id": "B6AoeobbHlu6"
      }
    },
    {
      "cell_type": "code",
      "source": [
        "combined_df.to_csv(\"healthcare_dataset_stroke_data_synthetic_v2.csv\", index=False)\n"
      ],
      "metadata": {
        "id": "MbGrqKONGRA5"
      },
      "execution_count": null,
      "outputs": []
    }
  ]
}